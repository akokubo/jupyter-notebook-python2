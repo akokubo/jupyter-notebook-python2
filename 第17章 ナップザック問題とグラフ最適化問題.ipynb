{
 "cells": [
  {
   "cell_type": "code",
   "execution_count": 1,
   "metadata": {},
   "outputs": [],
   "source": [
    "class Item(object):\n",
    "    def __init__(self, n, v, w):\n",
    "        self.name = n\n",
    "        self.value = float(v)\n",
    "        self.weight = float(w)\n",
    "    def getName(self):\n",
    "        return self.name\n",
    "    def getValue(self):\n",
    "        return self.value\n",
    "    def getWeight(self):\n",
    "        return self.weight\n",
    "    def __str__(self):\n",
    "        result = '<' + self.name + ', ' + str(self.value)\\\n",
    "                 + ', ' + str(self.weight) + '>'\n",
    "        return result"
   ]
  },
  {
   "cell_type": "code",
   "execution_count": 2,
   "metadata": {},
   "outputs": [],
   "source": [
    "def value(item):\n",
    "    return item.getValue()"
   ]
  },
  {
   "cell_type": "code",
   "execution_count": 3,
   "metadata": {},
   "outputs": [],
   "source": [
    "def weightInverse(item):\n",
    "    return 1.0/item.getWeight()"
   ]
  },
  {
   "cell_type": "code",
   "execution_count": 4,
   "metadata": {},
   "outputs": [],
   "source": [
    "def density(item):\n",
    "    return item.getValue() / item.getWeight()"
   ]
  },
  {
   "cell_type": "code",
   "execution_count": 5,
   "metadata": {},
   "outputs": [],
   "source": [
    "def buildItems():\n",
    "    names = ['時計', '絵画', 'ラジオ', '花瓶', '本', 'コンピュータ']\n",
    "    values = [175, 90, 20, 50, 10, 200]\n",
    "    weights = [10, 9, 4, 2, 1, 20]\n",
    "    Items = []\n",
    "    for i in range(len(values)):\n",
    "        Items.append(Item(names[i], values[i], weights[i]))\n",
    "    return Items"
   ]
  },
  {
   "cell_type": "code",
   "execution_count": 6,
   "metadata": {},
   "outputs": [],
   "source": [
    "def greedy(items, maxWeight, keyFunction):\n",
    "    \"\"\"Itemsはリスト、maxWeight >= 0とし、\n",
    "       keyFunctionはそれぞれのitemをその属性値にマップする\"\"\"\n",
    "    itemsCopy = sorted(items, key=keyFunction, reverse = True)\n",
    "    result = []\n",
    "    totalValue = 0.0\n",
    "    totalWeight = 0.0\n",
    "    for i in range(len(itemsCopy)):\n",
    "        if (totalWeight + itemsCopy[i].getWeight()) <= maxWeight:\n",
    "            result.append(itemsCopy[i])\n",
    "            totalWeight += itemsCopy[i].getWeight()\n",
    "            totalValue += itemsCopy[i].getValue()\n",
    "    return (result, totalValue)"
   ]
  },
  {
   "cell_type": "code",
   "execution_count": 7,
   "metadata": {},
   "outputs": [],
   "source": [
    "def testGreedy(items, constraint, keyFunction):\n",
    "    taken, val = greedy(items, constraint, keyFunction)\n",
    "    print '選択した項目の合計金額 =', val\n",
    "    for item in taken:\n",
    "        print '   ', item"
   ]
  },
  {
   "cell_type": "code",
   "execution_count": 8,
   "metadata": {},
   "outputs": [],
   "source": [
    "def testGreedys(maxWeight = 20):\n",
    "    items = buildItems()\n",
    "    print 'サイズが' + str(maxWeight) + 'のナップザックに金額に対する貪欲アルゴリズムで詰める'\n",
    "    testGreedy(items, maxWeight, value)\n",
    "    print '\\nサイズが' + str(maxWeight) + 'のナップザックに重量に対する貪欲アルゴリズムで詰める'\n",
    "    testGreedy(items, maxWeight, weightInverse)\n",
    "    print '\\nサイズが' + str(maxWeight) + 'のナップザックに密度に対する貪欲アルゴリズムで詰める'\n",
    "    testGreedy(items, maxWeight, density)"
   ]
  },
  {
   "cell_type": "code",
   "execution_count": 9,
   "metadata": {},
   "outputs": [
    {
     "name": "stdout",
     "output_type": "stream",
     "text": [
      "サイズが20のナップザックに金額に対する貪欲アルゴリズムで詰める\n",
      "選択した項目の合計金額 = 200.0\n",
      "    <コンピュータ, 200.0, 20.0>\n",
      "\n",
      "サイズが20のナップザックに重量に対する貪欲アルゴリズムで詰める\n",
      "選択した項目の合計金額 = 170.0\n",
      "    <本, 10.0, 1.0>\n",
      "    <花瓶, 50.0, 2.0>\n",
      "    <ラジオ, 20.0, 4.0>\n",
      "    <絵画, 90.0, 9.0>\n",
      "\n",
      "サイズが20のナップザックに密度に対する貪欲アルゴリズムで詰める\n",
      "選択した項目の合計金額 = 255.0\n",
      "    <花瓶, 50.0, 2.0>\n",
      "    <時計, 175.0, 10.0>\n",
      "    <本, 10.0, 1.0>\n",
      "    <ラジオ, 20.0, 4.0>\n"
     ]
    }
   ],
   "source": [
    "testGreedys()"
   ]
  },
  {
   "cell_type": "code",
   "execution_count": 10,
   "metadata": {},
   "outputs": [],
   "source": [
    "def chooseBest(pset, maxWeight, getVal, getWeight):\n",
    "    bestVal = 0.0\n",
    "    bestSet = None\n",
    "    for items in pset:\n",
    "        itemsVal = 0.0\n",
    "        itemsWeight = 0.0\n",
    "        for item in items:\n",
    "            itemsVal += getVal(item)\n",
    "            itemsWeight += getWeight(item)\n",
    "        if itemsWeight <= maxWeight and itemsVal > bestVal:\n",
    "            bestVal = itemsVal\n",
    "            bestSet = items\n",
    "    return (bestSet, bestVal)"
   ]
  },
  {
   "cell_type": "code",
   "execution_count": 11,
   "metadata": {},
   "outputs": [],
   "source": [
    "def getBinaryRep(n, numDigits):\n",
    "    \"\"\"nとnumDigitsを非負のint型とする\n",
    "       nの値を，numDigits桁の2進数で表す文字列を返す\"\"\"\n",
    "    result = ''\n",
    "    while n > 0:\n",
    "        result = str(n%2) + result\n",
    "        n = n//2\n",
    "    if len(result) > numDigits:\n",
    "        raise ValueError('not enough digits')\n",
    "    for i in range(numDigits - len(result)):\n",
    "        result = '0' + result\n",
    "    return result"
   ]
  },
  {
   "cell_type": "code",
   "execution_count": 12,
   "metadata": {},
   "outputs": [],
   "source": [
    "def genPowerset(L):\n",
    "    \"\"\"Lをリストとする\n",
    "       Lの要素の，すべての可能な組合せからなるリストを返す\n",
    "       例えばLが[1, 2]ならば，\n",
    "       [], [1], [2], [1,2] を要素にもつリストを返す\"\"\"\n",
    "    powerset = []\n",
    "    for i in range(0, 2 ** len(L)):\n",
    "        binStr = getBinaryRep(i, len(L))\n",
    "        subset = []\n",
    "        for j in range(len(L)):\n",
    "            if binStr[j] == '1':\n",
    "                subset.append(L[j])\n",
    "        powerset.append(subset)\n",
    "    return powerset"
   ]
  },
  {
   "cell_type": "code",
   "execution_count": 13,
   "metadata": {},
   "outputs": [],
   "source": [
    "def testBest(maxWeight = 20):\n",
    "    items = buildItems()\n",
    "    pset = genPowerset(items)\n",
    "    taken, val = chooseBest(pset, maxWeight, Item.getValue,\n",
    "                            Item.getWeight)\n",
    "    print '選択した項目の合計金額 =', val\n",
    "    for item in taken:\n",
    "        print item"
   ]
  },
  {
   "cell_type": "code",
   "execution_count": 14,
   "metadata": {},
   "outputs": [
    {
     "name": "stdout",
     "output_type": "stream",
     "text": [
      "選択した項目の合計金額 = 275.0\n",
      "<時計, 175.0, 10.0>\n",
      "<絵画, 90.0, 9.0>\n",
      "<本, 10.0, 1.0>\n"
     ]
    }
   ],
   "source": [
    "testBest()"
   ]
  },
  {
   "cell_type": "code",
   "execution_count": 15,
   "metadata": {},
   "outputs": [],
   "source": [
    "class Node(object):\n",
    "    def __init__(self, name):\n",
    "        \"\"\"name は文字列とする\"\"\"\n",
    "        self.name = name\n",
    "    def getName(self):\n",
    "        return self.name\n",
    "    def __str__(self):\n",
    "        return self.name"
   ]
  },
  {
   "cell_type": "code",
   "execution_count": 16,
   "metadata": {},
   "outputs": [],
   "source": [
    "class Edge(object):\n",
    "    def __init__(self, src, dest):\n",
    "        \"\"\"srcとdestは，どちらもNodeオブジェクトとする\"\"\"\n",
    "        self.src = src\n",
    "        self.dest = dest\n",
    "    def getSource(self):\n",
    "        return self.src\n",
    "    def getDestination(self):\n",
    "        return self.dest\n",
    "    def __str__(self):\n",
    "        return self.src.getName() + '->' + self.dest.getName()"
   ]
  },
  {
   "cell_type": "code",
   "execution_count": 17,
   "metadata": {},
   "outputs": [],
   "source": [
    "class WeightedEdge(Edge):\n",
    "    def __init__(self, src, dest, weight = 1.0):\n",
    "        \"\"\"srcとdestは，Nodeオブジェクトであるとし，\n",
    "           weightはfloatとする\"\"\"\n",
    "        self.src = src\n",
    "        self.dest = dest\n",
    "        self.weight = weight\n",
    "    def getWeight(self):\n",
    "        return self.weight\n",
    "    def __str__(self):\n",
    "        return self.src.getName() + '->(' + str(self.weight) + ')'\\\n",
    "               + self.dest.getName()"
   ]
  },
  {
   "cell_type": "code",
   "execution_count": 18,
   "metadata": {},
   "outputs": [],
   "source": [
    "class Digraph(object):\n",
    "    #nodesはNodeオブジェクトのリストである\n",
    "    #edgesは各nodeを，そのnodeのchildリストにマップする辞書である\n",
    "    def __init__(self):\n",
    "        self.nodes = []\n",
    "        self.edges = {}\n",
    "    def addNode(self, node):\n",
    "        if node in self.nodes:\n",
    "            raise ValueError('Duplicate node')\n",
    "        else:\n",
    "            self.nodes.append(node)\n",
    "            self.edges[node] = []\n",
    "    def addEdge(self, edge):\n",
    "        src = edge.getSource()\n",
    "        dest = edge.getDestination()\n",
    "        if not(src in self.nodes and dest in self.nodes):\n",
    "            raise ValueError('Node not in graph')\n",
    "        self.edges[src].append(dest)\n",
    "    def childrenOf(self, node):\n",
    "        return self.edges[node]\n",
    "    def hasNode(self, node):\n",
    "        return node in self.nodes\n",
    "    def __str__(self):\n",
    "        result = ''\n",
    "        for src in self.nodes:\n",
    "            for dest in self.edges[src]:\n",
    "                result = result + src.getName() + '->'\\\n",
    "                         + dest.getName() + '\\n'\n",
    "        return result[:-1] #最後の改行を省略する"
   ]
  },
  {
   "cell_type": "code",
   "execution_count": 19,
   "metadata": {},
   "outputs": [],
   "source": [
    "class Graph(Digraph):\n",
    "    def addEdge(self, edge):\n",
    "        Digraph.addEdge(self, edge)\n",
    "        rev = Edge(edge.getDestination(), edge.getSource())\n",
    "        Digraph.addEdge(self, rev)"
   ]
  },
  {
   "cell_type": "code",
   "execution_count": 20,
   "metadata": {},
   "outputs": [],
   "source": [
    "def printPath(path):\n",
    "    \"\"\"path は Node オブジェクトからなるリストとする\"\"\"\n",
    "    result = ''\n",
    "    for i in range(len(path)):\n",
    "        result = result + str(path[i])\n",
    "        if i != len(path) - 1:\n",
    "            result = result + '->'\n",
    "    return result"
   ]
  },
  {
   "cell_type": "code",
   "execution_count": 21,
   "metadata": {},
   "outputs": [],
   "source": [
    "def DFS(graph, start, end, path, shortest):\n",
    "    \"\"\"graphはDigraphオブジェクト，startとendはNodeオブジェクト，\n",
    "       pathとshortestは，Nodeオブジェクトのリストとする．\n",
    "       graphでの，startノードからendノードへの最短路を返す\"\"\"\n",
    "    \n",
    "    path = path + [start]\n",
    "    print '現在の深さ優先探索の経路:', printPath(path)\n",
    "    if start == end:\n",
    "        return path\n",
    "    for node in graph.childrenOf(start):\n",
    "        if node not in path: #サイクルを避ける\n",
    "            if shortest == None or len(path) < len(shortest):\n",
    "                newPath = DFS(graph, node, end, path, shortest)\n",
    "                if newPath != None:\n",
    "                    shortest = newPath\n",
    "    return shortest"
   ]
  },
  {
   "cell_type": "code",
   "execution_count": 22,
   "metadata": {},
   "outputs": [],
   "source": [
    "def search(graph, start, end):\n",
    "    \"\"\"graphはDigraphオブジェクト，startとendはNodeオブジェクトとする．\n",
    "       graphでの，startノードからendノードへの最短路を返す\"\"\"\n",
    "    return DFS(graph, start, end, [], None)"
   ]
  },
  {
   "cell_type": "code",
   "execution_count": 23,
   "metadata": {},
   "outputs": [],
   "source": [
    "def testSP():\n",
    "    nodes = []\n",
    "    for name in range(6): #6つのノードを生成する\n",
    "        nodes.append(Node(str(name)))\n",
    "    g = Digraph()\n",
    "    for n in nodes:\n",
    "        g.addNode(n)\n",
    "    g.addEdge(Edge(nodes[0],nodes[1]))\n",
    "    g.addEdge(Edge(nodes[1],nodes[2]))\n",
    "    g.addEdge(Edge(nodes[2],nodes[3]))\n",
    "    g.addEdge(Edge(nodes[2],nodes[4]))\n",
    "    g.addEdge(Edge(nodes[3],nodes[4]))\n",
    "    g.addEdge(Edge(nodes[3],nodes[5]))\n",
    "    g.addEdge(Edge(nodes[0],nodes[2]))\n",
    "    g.addEdge(Edge(nodes[1],nodes[0]))\n",
    "    g.addEdge(Edge(nodes[3],nodes[1]))\n",
    "    g.addEdge(Edge(nodes[4],nodes[0]))\n",
    "    sp = search(g, nodes[0], nodes[5])\n",
    "    print '深さ優先探索で見つけた最短路:', printPath(sp)"
   ]
  },
  {
   "cell_type": "code",
   "execution_count": 24,
   "metadata": {},
   "outputs": [
    {
     "name": "stdout",
     "output_type": "stream",
     "text": [
      "現在の深さ優先探索の経路: 0\n",
      "現在の深さ優先探索の経路: 0->1\n",
      "現在の深さ優先探索の経路: 0->1->2\n",
      "現在の深さ優先探索の経路: 0->1->2->3\n",
      "現在の深さ優先探索の経路: 0->1->2->3->4\n",
      "現在の深さ優先探索の経路: 0->1->2->3->5\n",
      "現在の深さ優先探索の経路: 0->1->2->4\n",
      "現在の深さ優先探索の経路: 0->2\n",
      "現在の深さ優先探索の経路: 0->2->3\n",
      "現在の深さ優先探索の経路: 0->2->3->4\n",
      "現在の深さ優先探索の経路: 0->2->3->5\n",
      "現在の深さ優先探索の経路: 0->2->3->1\n",
      "現在の深さ優先探索の経路: 0->2->4\n",
      "深さ優先探索で見つけた最短路: 0->2->3->5\n"
     ]
    }
   ],
   "source": [
    "testSP()"
   ]
  },
  {
   "cell_type": "code",
   "execution_count": 25,
   "metadata": {},
   "outputs": [],
   "source": [
    "def BFS(graph, start, end):\n",
    "    \"\"\"graphはDigraphオブジェクト，startとendはNodeオブジェクトとする．\n",
    "       graphでの，startノードからendノードへの最短路を返す\"\"\"\n",
    "    initPath = [start]\n",
    "    pathQueue = [initPath]\n",
    "    while len(pathQueue) != 0:\n",
    "        #pathQueueの中で一番古い要素を参照し，それを取り除く\n",
    "        tmpPath = pathQueue.pop(0)\n",
    "        print '現在の幅優先探索の経路:', printPath(tmpPath)\n",
    "        lastNode = tmpPath[-1]\n",
    "        if lastNode == end:\n",
    "            return tmpPath\n",
    "        for nextNode in graph.childrenOf(lastNode):\n",
    "            if nextNode not in tmpPath:\n",
    "                newPath = tmpPath + [nextNode]\n",
    "                pathQueue.append(newPath)\n",
    "    return None"
   ]
  },
  {
   "cell_type": "code",
   "execution_count": 26,
   "metadata": {},
   "outputs": [],
   "source": [
    "def testSP():\n",
    "    nodes = []\n",
    "    for name in range(6): #6つのノードを生成する\n",
    "        nodes.append(Node(str(name)))\n",
    "    g = Digraph()\n",
    "    for n in nodes:\n",
    "        g.addNode(n)\n",
    "    g.addEdge(Edge(nodes[0],nodes[1]))\n",
    "    g.addEdge(Edge(nodes[1],nodes[2]))\n",
    "    g.addEdge(Edge(nodes[2],nodes[3]))\n",
    "    g.addEdge(Edge(nodes[2],nodes[4]))\n",
    "    g.addEdge(Edge(nodes[3],nodes[4]))\n",
    "    g.addEdge(Edge(nodes[3],nodes[5]))\n",
    "    g.addEdge(Edge(nodes[0],nodes[2]))\n",
    "    g.addEdge(Edge(nodes[1],nodes[0]))\n",
    "    g.addEdge(Edge(nodes[3],nodes[1]))\n",
    "    g.addEdge(Edge(nodes[4],nodes[0]))\n",
    "    sp = search(g, nodes[0], nodes[5])\n",
    "    print '深さ優先探索で見つけた最短路:', printPath(sp)\n",
    "    sp = BFS(g, nodes[0], nodes[5])\n",
    "    print '幅優先探索で見つけた最短路:', printPath(sp)"
   ]
  },
  {
   "cell_type": "code",
   "execution_count": 27,
   "metadata": {},
   "outputs": [
    {
     "name": "stdout",
     "output_type": "stream",
     "text": [
      "現在の深さ優先探索の経路: 0\n",
      "現在の深さ優先探索の経路: 0->1\n",
      "現在の深さ優先探索の経路: 0->1->2\n",
      "現在の深さ優先探索の経路: 0->1->2->3\n",
      "現在の深さ優先探索の経路: 0->1->2->3->4\n",
      "現在の深さ優先探索の経路: 0->1->2->3->5\n",
      "現在の深さ優先探索の経路: 0->1->2->4\n",
      "現在の深さ優先探索の経路: 0->2\n",
      "現在の深さ優先探索の経路: 0->2->3\n",
      "現在の深さ優先探索の経路: 0->2->3->4\n",
      "現在の深さ優先探索の経路: 0->2->3->5\n",
      "現在の深さ優先探索の経路: 0->2->3->1\n",
      "現在の深さ優先探索の経路: 0->2->4\n",
      "深さ優先探索で見つけた最短路: 0->2->3->5\n",
      "現在の幅優先探索の経路: 0\n",
      "現在の幅優先探索の経路: 0->1\n",
      "現在の幅優先探索の経路: 0->2\n",
      "現在の幅優先探索の経路: 0->1->2\n",
      "現在の幅優先探索の経路: 0->2->3\n",
      "現在の幅優先探索の経路: 0->2->4\n",
      "現在の幅優先探索の経路: 0->1->2->3\n",
      "現在の幅優先探索の経路: 0->1->2->4\n",
      "現在の幅優先探索の経路: 0->2->3->4\n",
      "現在の幅優先探索の経路: 0->2->3->5\n",
      "幅優先探索で見つけた最短路: 0->2->3->5\n"
     ]
    }
   ],
   "source": [
    "testSP()"
   ]
  }
 ],
 "metadata": {
  "kernelspec": {
   "display_name": "Python 2",
   "language": "python",
   "name": "python2"
  },
  "language_info": {
   "codemirror_mode": {
    "name": "ipython",
    "version": 2
   },
   "file_extension": ".py",
   "mimetype": "text/x-python",
   "name": "python",
   "nbconvert_exporter": "python",
   "pygments_lexer": "ipython2",
   "version": "2.7.15"
  }
 },
 "nbformat": 4,
 "nbformat_minor": 2
}
