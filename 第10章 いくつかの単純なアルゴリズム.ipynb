{
 "cells": [
  {
   "cell_type": "markdown",
   "metadata": {},
   "source": [
    "p.142"
   ]
  },
  {
   "cell_type": "code",
   "execution_count": 1,
   "metadata": {},
   "outputs": [],
   "source": [
    "def search(L, e):\n",
    "    \"\"\"Lをリストとする\n",
    "       eがLにあればTrueを、そうでなければFalseを返す\"\"\""
   ]
  },
  {
   "cell_type": "markdown",
   "metadata": {},
   "source": [
    "p.143"
   ]
  },
  {
   "cell_type": "code",
   "execution_count": 2,
   "metadata": {},
   "outputs": [],
   "source": [
    "def search(L, e):\n",
    "    \"\"\"Lをリストとする\n",
    "       eがLにあればTrueを、そうでなければFalseを返す\"\"\"\n",
    "    for i in range(len(L)):\n",
    "        if L[i] == e:\n",
    "            return True\n",
    "    return False"
   ]
  },
  {
   "cell_type": "markdown",
   "metadata": {},
   "source": [
    "p.145"
   ]
  },
  {
   "cell_type": "code",
   "execution_count": 3,
   "metadata": {},
   "outputs": [],
   "source": [
    "def search(L, e):\n",
    "    \"\"\"Lを，要素が昇順で並んだリストとする\n",
    "       eがLにあればTrueを、そうでなければFalseを返す\"\"\"\n",
    "    for i in range(len(L)):\n",
    "        if L[i] == e:\n",
    "            return True\n",
    "        if L[i] > e:\n",
    "            return False\n",
    "    return False"
   ]
  },
  {
   "cell_type": "code",
   "execution_count": 4,
   "metadata": {},
   "outputs": [],
   "source": [
    "def search(L, e):\n",
    "    \"\"\"Lを、要素が昇順で並んだリストとする\n",
    "        eがLにあればTrueを、そうでなければFalseを返す\"\"\"\n",
    "\n",
    "    def bSearch(L, e, low, high):\n",
    "        #high - lowを減少させる\n",
    "        if high == low:\n",
    "            return L[low] == e\n",
    "        mid = (low + high)//2\n",
    "        if L[mid] == e:\n",
    "            return True\n",
    "        elif L[mid] > e:\n",
    "            if low == mid: #探索対象は残っていない\n",
    "                return False\n",
    "            else:\n",
    "                return bSearch(L, e, low, mid - 1)\n",
    "        else:\n",
    "            return bSearch(L, e, mid + 1, high)\n",
    "\n",
    "    if len(L) == 0:\n",
    "        return False\n",
    "    else:\n",
    "        return bSearch(L, e, 0, len(L) - 1)"
   ]
  },
  {
   "cell_type": "markdown",
   "metadata": {},
   "source": [
    "p.149"
   ]
  },
  {
   "cell_type": "code",
   "execution_count": 5,
   "metadata": {},
   "outputs": [],
   "source": [
    "def selSort(L):\n",
    "    \"\"\"Lを、>を用いて比較できる要素からなるリストとする\n",
    "        Lを昇順にソートする\"\"\"\n",
    "    suffixStart = 0\n",
    "    while suffixStart != len(L):\n",
    "        #サフィックスの各要素を見る\n",
    "        for i in range(suffixStart, len(L)):\n",
    "            if L[i] < L[suffixStart]:\n",
    "                #要素の位置を入れ替える\n",
    "                L[suffixStart], L[i] = L[i], L[suffixStart]\n",
    "        suffixStart += 1"
   ]
  },
  {
   "cell_type": "code",
   "execution_count": 6,
   "metadata": {},
   "outputs": [],
   "source": [
    "def selSort2(L):\n",
    "    \"\"\"Lを、>を用いて比較できる要素からなるリストとする\n",
    "       Lを昇順にソートする\"\"\"\n",
    "    suffixStart = 0\n",
    "    while suffixStart != len(L):\n",
    "        #サフィックスの各要素を見る\n",
    "        value = L[suffixStart]\n",
    "        index = suffixStart\n",
    "        for i in range(suffixStart, len(L)):\n",
    "            if L[i] < value:\n",
    "                value = L[i]\n",
    "                index = i\n",
    "        L[suffixStart], L[index] = L[index], L[suffixStart]\n",
    "        suffixStart += 1"
   ]
  },
  {
   "cell_type": "markdown",
   "metadata": {},
   "source": [
    "p.150"
   ]
  },
  {
   "cell_type": "code",
   "execution_count": 7,
   "metadata": {},
   "outputs": [],
   "source": [
    "def merge(left, right, compare):\n",
    "    \"\"\"leftとrightをソート済みのリストとし、\n",
    "        compareを要素間の順序を定義する関数とする\n",
    "        (left + right)と同じ要素からなり、\n",
    "        compareに従いソートされた新たなリストを返す\"\"\"\n",
    "\n",
    "    result = []\n",
    "    i,j = 0, 0\n",
    "    while i < len(left) and j < len(right):\n",
    "        if compare(left[i], right[j]):\n",
    "            result.append(left[i])\n",
    "            i += 1\n",
    "        else:\n",
    "            result.append(right[j])\n",
    "            j += 1\n",
    "    while (i < len(left)):\n",
    "        result.append(left[i])\n",
    "        i += 1\n",
    "    while (j < len(right)):\n",
    "        result.append(right[j])\n",
    "        j += 1\n",
    "    return result"
   ]
  },
  {
   "cell_type": "code",
   "execution_count": 8,
   "metadata": {},
   "outputs": [],
   "source": [
    "import operator"
   ]
  },
  {
   "cell_type": "code",
   "execution_count": 9,
   "metadata": {},
   "outputs": [],
   "source": [
    "def mergeSort(L, compare = operator.lt):\n",
    "    \"\"\"Lをリストとし、\n",
    "        compareをLの要素間の順序を定義する関数とする\n",
    "        Lと同じ要素からなり、ソートされた新たなリストを返す\"\"\"\n",
    "    if len(L) < 2:\n",
    "        return L[:]\n",
    "    else:\n",
    "        middle = len(L)//2\n",
    "        left = mergeSort(L[:middle], compare)\n",
    "        right = mergeSort(L[middle:], compare)\n",
    "        return merge(left, right, compare)"
   ]
  },
  {
   "cell_type": "markdown",
   "metadata": {},
   "source": [
    "p.152"
   ]
  },
  {
   "cell_type": "code",
   "execution_count": 10,
   "metadata": {},
   "outputs": [],
   "source": [
    "def lastNameFirstName(name1, name2):\n",
    "    import string\n",
    "    name1 = string.split(name1, ' ')\n",
    "    name2 = string.split(name2, ' ')\n",
    "    if name1[1] != name2[1]:\n",
    "        return name1[1] < name2[1]\n",
    "    else: #姓が同じであれば、名によりソート\n",
    "        return name1[0] < name2[0]"
   ]
  },
  {
   "cell_type": "code",
   "execution_count": 11,
   "metadata": {},
   "outputs": [],
   "source": [
    "def firstNameLastName(name1, name2):\n",
    "    import string\n",
    "    name1 = string.split(name1, ' ')\n",
    "    name2 = string.split(name2, ' ')\n",
    "    if name1[0] != name2[0]:\n",
    "        return name1[0] < name2[0]\n",
    "    else: #名が同じであれば、姓によりソート\n",
    "        return name1[1] < name2[1]"
   ]
  },
  {
   "cell_type": "code",
   "execution_count": 12,
   "metadata": {},
   "outputs": [
    {
     "name": "stdout",
     "output_type": "stream",
     "text": [
      "姓でソート = ['Tom Brady', 'Gisele Bundchen', 'Eric Grimson', 'Chris Terman']\n",
      "名でソート = ['Chris Terman', 'Eric Grimson', 'Gisele Bundchen', 'Tom Brady']\n"
     ]
    }
   ],
   "source": [
    "L = ['Chris Terman', 'Tom Brady', 'Eric Grimson', 'Gisele Bundchen']\n",
    "newL = mergeSort(L, lastNameFirstName)\n",
    "print '姓でソート =', newL\n",
    "newL = mergeSort(L, firstNameLastName)\n",
    "print '名でソート =', newL"
   ]
  },
  {
   "cell_type": "code",
   "execution_count": 13,
   "metadata": {},
   "outputs": [
    {
     "name": "stdout",
     "output_type": "stream",
     "text": [
      "[2, 3, 5]\n",
      "[3, 5, 2]\n",
      "[2, 3, 5]\n",
      "['a', 'b', 'c']\n"
     ]
    },
    {
     "ename": "AttributeError",
     "evalue": "'dict' object has no attribute 'sort'",
     "output_type": "error",
     "traceback": [
      "\u001b[0;31m---------------------------------------------------------------------------\u001b[0m",
      "\u001b[0;31mAttributeError\u001b[0m                            Traceback (most recent call last)",
      "\u001b[0;32m<ipython-input-13-c4961982fd5b>\u001b[0m in \u001b[0;36m<module>\u001b[0;34m()\u001b[0m\n\u001b[1;32m      6\u001b[0m \u001b[0;32mprint\u001b[0m \u001b[0mL\u001b[0m\u001b[0;34m\u001b[0m\u001b[0m\n\u001b[1;32m      7\u001b[0m \u001b[0;32mprint\u001b[0m \u001b[0msorted\u001b[0m\u001b[0;34m(\u001b[0m\u001b[0mD\u001b[0m\u001b[0;34m)\u001b[0m\u001b[0;34m\u001b[0m\u001b[0m\n\u001b[0;32m----> 8\u001b[0;31m \u001b[0mD\u001b[0m\u001b[0;34m.\u001b[0m\u001b[0msort\u001b[0m\u001b[0;34m(\u001b[0m\u001b[0;34m)\u001b[0m\u001b[0;34m\u001b[0m\u001b[0m\n\u001b[0m",
      "\u001b[0;31mAttributeError\u001b[0m: 'dict' object has no attribute 'sort'"
     ]
    }
   ],
   "source": [
    "L = [3,5,2]\n",
    "D = {'a':12, 'c':5, 'b':'dog'}\n",
    "print sorted(L)\n",
    "print L\n",
    "L.sort()\n",
    "print L\n",
    "print sorted(D)\n",
    "D.sort()"
   ]
  },
  {
   "cell_type": "markdown",
   "metadata": {},
   "source": [
    "p.153"
   ]
  },
  {
   "cell_type": "code",
   "execution_count": 14,
   "metadata": {},
   "outputs": [
    {
     "name": "stdout",
     "output_type": "stream",
     "text": [
      "[(3, 2, 1, 0), [1, 2, 3], 'abc']\n"
     ]
    }
   ],
   "source": [
    "L = [[1,2,3], (3,2,1,0), 'abc']\n",
    "print sorted(L, key = len, reverse = True)"
   ]
  },
  {
   "cell_type": "markdown",
   "metadata": {},
   "source": [
    "p.155"
   ]
  },
  {
   "cell_type": "code",
   "execution_count": 15,
   "metadata": {},
   "outputs": [],
   "source": [
    "class intDict(object):\n",
    "    \"\"\"整数をキーとする辞書\"\"\"\n",
    "\n",
    "    def __init__(self, numBuckets):\n",
    "        \"\"\"空の辞書を生成する\"\"\"\n",
    "        self.buckets = []\n",
    "        self.numBuckets = numBuckets\n",
    "        for i in range(numBuckets):\n",
    "            self.buckets.append([])\n",
    "\n",
    "    def addEntry(self, dictKey, dictVal):\n",
    "        \"\"\"dictKeyをint型とし、エントリを追加する\"\"\"\n",
    "        hashBucket = self.buckets[dictKey%self.numBuckets]\n",
    "        for i in range(len(hashBucket)):\n",
    "            if hashBucket[i][0] == dictKey:\n",
    "                hashBucket[i] = (dictKey, dictVal)\n",
    "                return\n",
    "        hashBucket.append((dictKey, dictVal))\n",
    "\n",
    "    def getValue(self, dictKey):\n",
    "        \"\"\"dictKeyをint型とする\n",
    "            キーdictKeyに関連付けられたエントリを返す\"\"\"\n",
    "        hashBucket = self.buckets[dictKey%self.numBuckets]\n",
    "        for e in hashBucket:\n",
    "            if e[0] == dictKey:\n",
    "                return e[1]\n",
    "        return None\n",
    "\n",
    "    def __str__(self):\n",
    "        result = '{'\n",
    "        for b in self.buckets:\n",
    "            for e in b:\n",
    "                result = result + str(e[0]) + ':' + str(e[1]) + ','\n",
    "        return result[:-1] + '}' #result[:-1]により最後のカンマを省く"
   ]
  },
  {
   "cell_type": "markdown",
   "metadata": {},
   "source": [
    "p.156"
   ]
  },
  {
   "cell_type": "code",
   "execution_count": 16,
   "metadata": {},
   "outputs": [],
   "source": [
    "import random"
   ]
  },
  {
   "cell_type": "code",
   "execution_count": 17,
   "metadata": {},
   "outputs": [
    {
     "name": "stdout",
     "output_type": "stream",
     "text": [
      "intDictの値は:\n",
      "{24949:4,68565:6,82631:0,96553:12,21299:9,15674:5,46271:11,28843:18,45489:19,86787:2,99344:10,61151:13,75825:14,3790:3,33370:15,1008:7,1909:17,14207:8,80821:1,66525:16}\n",
      "\n",
      "バケットは以下:\n",
      "   []\n",
      "   []\n",
      "   []\n",
      "   []\n",
      "   []\n",
      "   []\n",
      "   []\n",
      "   []\n",
      "   []\n",
      "   [(24949, 4), (68565, 6)]\n",
      "   [(82631, 0)]\n",
      "   []\n",
      "   [(96553, 12)]\n",
      "   [(21299, 9)]\n",
      "   [(15674, 5)]\n",
      "   []\n",
      "   [(46271, 11)]\n",
      "   [(28843, 18), (45489, 19)]\n",
      "   []\n",
      "   [(86787, 2), (99344, 10), (61151, 13), (75825, 14)]\n",
      "   [(3790, 3), (33370, 15)]\n",
      "   []\n",
      "   [(1008, 7)]\n",
      "   []\n",
      "   [(1909, 17)]\n",
      "   []\n",
      "   [(14207, 8)]\n",
      "   [(80821, 1)]\n",
      "   [(66525, 16)]\n"
     ]
    }
   ],
   "source": [
    "D = intDict(29)\n",
    "for i in range(20):\n",
    "    #0から10**5までの整数をランダムに選ぶ\n",
    "    key = random.randint(0, 10**5)\n",
    "    D.addEntry(key, i)\n",
    "print 'intDictの値は:'\n",
    "print D\n",
    "print '\\n', 'バケットは以下:'\n",
    "for hashBucket in D.buckets: #抽象化の壁を侵す\n",
    "    print '  ', hashBucket"
   ]
  }
 ],
 "metadata": {
  "kernelspec": {
   "display_name": "Python 2",
   "language": "python",
   "name": "python2"
  },
  "language_info": {
   "codemirror_mode": {
    "name": "ipython",
    "version": 2
   },
   "file_extension": ".py",
   "mimetype": "text/x-python",
   "name": "python",
   "nbconvert_exporter": "python",
   "pygments_lexer": "ipython2",
   "version": "2.7.15"
  }
 },
 "nbformat": 4,
 "nbformat_minor": 2
}
