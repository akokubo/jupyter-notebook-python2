{
 "cells": [
  {
   "cell_type": "code",
   "execution_count": 1,
   "metadata": {},
   "outputs": [],
   "source": [
    "def stdDev(X):\n",
    "    \"\"\"X を数のリストとする\n",
    "       X の標準偏差を出力する\"\"\"\n",
    "    mean = float(sum(X))/len(X)\n",
    "    tot = 0.0\n",
    "    for x in X:\n",
    "        tot += (x - mean)**2\n",
    "    return (tot/len(X))**0.5 # 平均との差の 2 乗根"
   ]
  },
  {
   "cell_type": "code",
   "execution_count": 2,
   "metadata": {},
   "outputs": [],
   "source": [
    "def CV(X):\n",
    "    mean = sum(X)/float(len(X))\n",
    "    try:\n",
    "        return stdDev(X)/mean\n",
    "    except ZeroDivisionError:\n",
    "        return float('nan')"
   ]
  },
  {
   "cell_type": "code",
   "execution_count": 3,
   "metadata": {},
   "outputs": [],
   "source": [
    "class Location(object):\n",
    "\n",
    "    def __init__(self, x, y):\n",
    "        \"\"\"x と y は浮動小数点数\"\"\"\n",
    "        self.x = x\n",
    "        self.y = y\n",
    "\n",
    "    def move(self, deltaX, deltaY):\n",
    "        \"\"\"deltaX と deltaY は浮動小数点数\"\"\"\n",
    "        return Location(self.x + deltaX, self.y + deltaY)\n",
    "\n",
    "    def getX(self):\n",
    "        return self.x\n",
    "\n",
    "    def getY(self):\n",
    "        return self.y\n",
    "\n",
    "    def distFrom(self, other):\n",
    "        ox = other.x\n",
    "        oy = other.y\n",
    "        xDist = self.x - ox\n",
    "        yDist = self.y - oy\n",
    "        return (xDist**2 + yDist**2)**0.5\n",
    "\n",
    "    def __str__(self):\n",
    "        return '<' + str(self.x) + ', ' + str(self.y) + '>'"
   ]
  },
  {
   "cell_type": "code",
   "execution_count": 4,
   "metadata": {},
   "outputs": [],
   "source": [
    "class Field(object):\n",
    "    \n",
    "    def __init__(self):\n",
    "        self.drunks = {}\n",
    "        \n",
    "    def addDrunk(self, drunk, loc):\n",
    "        if drunk in self.drunks:\n",
    "            raise ValueError('Duplicate drunk')\n",
    "        else:\n",
    "            self.drunks[drunk] = loc\n",
    "            \n",
    "    def moveDrunk(self, drunk):\n",
    "        if drunk not in self.drunks:\n",
    "            raise ValueError('Drunk not in field')\n",
    "        xDist, yDist = drunk.takeStep()\n",
    "        currentLocation = self.drunks[drunk]\n",
    "        # Location クラスの move メソッドを用いて，新しい位置情報を得る\n",
    "        self.drunks[drunk] = currentLocation.move(xDist, yDist)\n",
    "        \n",
    "    def getLoc(self, drunk):\n",
    "        if drunk not in self.drunks:\n",
    "            raise ValueError('Drunk not in field')\n",
    "        return self.drunks[drunk]"
   ]
  },
  {
   "cell_type": "code",
   "execution_count": 5,
   "metadata": {},
   "outputs": [],
   "source": [
    "class Drunk(object):\n",
    "    def __init__(self, name = None):\n",
    "        \"\"\"name を文字列とする\"\"\"\n",
    "        self.name = name\n",
    "\n",
    "    def __str__(self):\n",
    "        if self != None:\n",
    "            return self.name\n",
    "        return 'Anonymous'"
   ]
  },
  {
   "cell_type": "code",
   "execution_count": 6,
   "metadata": {},
   "outputs": [],
   "source": [
    "import random"
   ]
  },
  {
   "cell_type": "code",
   "execution_count": 7,
   "metadata": {},
   "outputs": [],
   "source": [
    "class UsualDrunk(Drunk):\n",
    "    def takeStep(self):\n",
    "        stepChoices = [(0.0,1.0), (0.0,-1.0), (1.0, 0.0), (-1.0, 0.0)]\n",
    "        return random.choice(stepChoices)"
   ]
  },
  {
   "cell_type": "code",
   "execution_count": 8,
   "metadata": {},
   "outputs": [],
   "source": [
    "def walk(f, d, numSteps):\n",
    "    \"\"\"f: Field クラスのオブジェクト\n",
    "       d: Drunk クラスのオブジェクト\n",
    "       numSteps: 0 以上の整数\n",
    "       d を numSteps 回移動し，酔歩の初期位置と最終位置との差を出力する\"\"\"\n",
    "    start = f.getLoc(d)\n",
    "    for s in range(numSteps):\n",
    "        f.moveDrunk(d)\n",
    "    return start.distFrom(f.getLoc(d))"
   ]
  },
  {
   "cell_type": "code",
   "execution_count": 9,
   "metadata": {},
   "outputs": [],
   "source": [
    "def simWalks(numSteps, numTrials, dClass):\n",
    "    \"\"\"numSteps: 0 以上の整数\n",
    "       numTrials: 正の整数\n",
    "       dClass: Drunk のサブクラス\n",
    "       numSteps 回移動する酔歩を，numTrials 回シミュレートする．\n",
    "       各実験の初期位置と最終位置との差をリストにして出力する\"\"\"\n",
    "    Homer = dClass()\n",
    "    origin = Location(0.0, 0.0)\n",
    "    distances = []\n",
    "    for t in range(numTrials):\n",
    "        f = Field()\n",
    "        f.addDrunk(Homer, origin)\n",
    "        distances.append(walk(f, Homer, numTrials))\n",
    "    return distances"
   ]
  },
  {
   "cell_type": "code",
   "execution_count": 10,
   "metadata": {},
   "outputs": [],
   "source": [
    "def drunkTest(walkLengths, numTrials, dClass):\n",
    "    \"\"\"walkLengths: 0 以上の整数のシークエンス\n",
    "       numTrials: 正の整数\n",
    "       dClass: Drunk のサブクラス\n",
    "       walkLengths の各要素を酔歩の移動回数として, numTrials 回の酔歩を\n",
    "       シミュレートする simWalks を実行し，結果を出力する\"\"\"\n",
    "    for numSteps in walkLengths:\n",
    "        distances = simWalks(numSteps, numTrials, dClass)\n",
    "        print dClass.__name__, 'random walk of', numSteps, 'steps'\n",
    "        print ' Mean =', sum(distances)/len(distances),\\\n",
    "              'CV =', CV(distances)\n",
    "        print ' Max =', max(distances), 'Min =', min(distances)"
   ]
  },
  {
   "cell_type": "code",
   "execution_count": 11,
   "metadata": {},
   "outputs": [
    {
     "name": "stdout",
     "output_type": "stream",
     "text": [
      "UsualDrunk random walk of 10 steps\n",
      " Mean = 8.76120940814 CV = 0.551202877685\n",
      " Max = 23.0217288664 Min = 1.41421356237\n",
      "UsualDrunk random walk of 100 steps\n",
      " Mean = 8.72050293967 CV = 0.439552922117\n",
      " Max = 24.0416305603 Min = 0.0\n",
      "UsualDrunk random walk of 1000 steps\n",
      " Mean = 9.52794184633 CV = 0.524544757709\n",
      " Max = 20.0997512422 Min = 1.41421356237\n",
      "UsualDrunk random walk of 10000 steps\n",
      " Mean = 8.7664039682 CV = 0.540249931239\n",
      " Max = 27.1661554144 Min = 2.0\n"
     ]
    }
   ],
   "source": [
    "drunkTest((10, 100, 1000, 10000), 100, UsualDrunk)"
   ]
  },
  {
   "cell_type": "code",
   "execution_count": 12,
   "metadata": {},
   "outputs": [
    {
     "name": "stdout",
     "output_type": "stream",
     "text": [
      "UsualDrunk random walk of 0 steps\n",
      " Mean = 8.64588322208 CV = 0.546540545887\n",
      " Max = 21.0237960416 Min = 0.0\n",
      "UsualDrunk random walk of 1 steps\n",
      " Mean = 8.65169351158 CV = 0.514164411026\n",
      " Max = 21.400934559 Min = 0.0\n"
     ]
    }
   ],
   "source": [
    "drunkTest((0,1), 100, UsualDrunk)"
   ]
  },
  {
   "cell_type": "code",
   "execution_count": 13,
   "metadata": {},
   "outputs": [],
   "source": [
    "def simWalks(numSteps, numTrials, dClass):\n",
    "    \"\"\"numSteps: 0 以上の整数\n",
    "       numTrials: 正の整数\n",
    "       dClass: Drunk のサブクラス\n",
    "       numSteps 回移動する酔歩を，numTrials 回シミュレートする．\n",
    "       各実験の初期位置と最終位置との差をリストにして出力する\"\"\"\n",
    "    Homer = dClass()\n",
    "    origin = Location(0.0, 0.0)\n",
    "    distances = []\n",
    "    for t in range(numTrials):\n",
    "        f = Field()\n",
    "        f.addDrunk(Homer, origin)\n",
    "        distances.append(walk(f, Homer, numSteps))\n",
    "    return distances"
   ]
  },
  {
   "cell_type": "code",
   "execution_count": 14,
   "metadata": {},
   "outputs": [
    {
     "name": "stdout",
     "output_type": "stream",
     "text": [
      "UsualDrunk random walk of 0 steps\n",
      " Mean = 0.0 CV = nan\n",
      " Max = 0.0 Min = 0.0\n",
      "UsualDrunk random walk of 1 steps\n",
      " Mean = 1.0 CV = 0.0\n",
      " Max = 1.0 Min = 1.0\n"
     ]
    }
   ],
   "source": [
    "drunkTest((0,1), 100, UsualDrunk)"
   ]
  },
  {
   "cell_type": "code",
   "execution_count": 15,
   "metadata": {},
   "outputs": [
    {
     "name": "stdout",
     "output_type": "stream",
     "text": [
      "UsualDrunk random walk of 10 steps\n",
      " Mean = 2.63576575225 CV = 0.421239161412\n",
      " Max = 5.09901951359 Min = 0.0\n",
      "UsualDrunk random walk of 100 steps\n",
      " Mean = 9.18604719964 CV = 0.553763598016\n",
      " Max = 25.495097568 Min = 1.41421356237\n",
      "UsualDrunk random walk of 1000 steps\n",
      " Mean = 29.0687180161 CV = 0.485179037864\n",
      " Max = 81.4002456999 Min = 1.41421356237\n",
      "UsualDrunk random walk of 10000 steps\n",
      " Mean = 99.8545219569 CV = 0.49402331176\n",
      " Max = 232.038789861 Min = 19.2353840617\n"
     ]
    }
   ],
   "source": [
    "drunkTest((10, 100, 1000, 10000), 100, UsualDrunk)"
   ]
  },
  {
   "cell_type": "code",
   "execution_count": 16,
   "metadata": {},
   "outputs": [],
   "source": [
    "class ColdDrunk(Drunk):\n",
    "    def takeStep(self):\n",
    "        stepChoices = [(0.0,1.0), (0.0,-2.0), (1.0, 0.0), (-1.0, 0.0)]\n",
    "        return random.choice(stepChoices)"
   ]
  },
  {
   "cell_type": "code",
   "execution_count": 17,
   "metadata": {},
   "outputs": [],
   "source": [
    "class EWDrunk(Drunk):\n",
    "    def takeStep(self):\n",
    "        stepChoices = [(1.0, 0.0), (-1.0, 0.0)]\n",
    "        return random.choice(stepChoices) "
   ]
  },
  {
   "cell_type": "code",
   "execution_count": 18,
   "metadata": {},
   "outputs": [],
   "source": [
    "def simAll(drunkKinds, walkLengths, numTrials):\n",
    "    for dClass in drunkKinds:\n",
    "        drunkTest(walkLengths, numTrials, dClass)"
   ]
  },
  {
   "cell_type": "code",
   "execution_count": 22,
   "metadata": {},
   "outputs": [
    {
     "name": "stdout",
     "output_type": "stream",
     "text": [
      "UsualDrunk random walk of 100 steps\n",
      " Mean = 8.93519956999 CV = 0.402935235514\n",
      " Max = 15.2315462117 Min = 2.82842712475\n",
      "UsualDrunk random walk of 1000 steps\n",
      " Mean = 35.6830087158 CV = 0.366814275144\n",
      " Max = 57.706152185 Min = 16.1245154966\n",
      "ColdDrunk random walk of 100 steps\n",
      " Mean = 27.0973580937 CV = 0.252820950699\n",
      " Max = 34.6554469023 Min = 14.0356688476\n",
      "ColdDrunk random walk of 1000 steps\n",
      " Mean = 250.281465679 CV = 0.115744650185\n",
      " Max = 317.001577283 Min = 208.693555243\n",
      "EWDrunk random walk of 100 steps\n",
      " Mean = 12.6 CV = 0.481713997\n",
      " Max = 20.0 Min = 0.0\n",
      "EWDrunk random walk of 1000 steps\n",
      " Mean = 38.0 CV = 0.736466069462\n",
      " Max = 98.0 Min = 6.0\n"
     ]
    }
   ],
   "source": [
    "simAll((UsualDrunk, ColdDrunk, EWDrunk), (100, 1000), 10)"
   ]
  },
  {
   "cell_type": "code",
   "execution_count": 23,
   "metadata": {},
   "outputs": [],
   "source": [
    "class styleIterator(object):\n",
    "    def __init__(self, styles):\n",
    "        self.index = 0\n",
    "        self.styles = styles\n",
    "\n",
    "    def nextStyle(self):\n",
    "        result = self.styles[self.index]\n",
    "        if self.index == len(self.styles) - 1:\n",
    "            self.index = 0\n",
    "        else:\n",
    "            self.index += 1\n",
    "        return result"
   ]
  },
  {
   "cell_type": "code",
   "execution_count": 24,
   "metadata": {},
   "outputs": [],
   "source": [
    "def simDrunk(numTrials, dClass, walkLengths):\n",
    "    meanDistances = []\n",
    "    cvDistances = []\n",
    "    for numSteps in walkLengths:\n",
    "        print 'Starting simulation of', numSteps, 'steps'\n",
    "        trials = simWalks(numSteps, numTrials, dClass)\n",
    "        mean = sum(trials)/float(len(trials))\n",
    "        meanDistances.append(mean)\n",
    "        cvDistances.append(stdDev(trials)/mean)\n",
    "    return (meanDistances, cvDistances)"
   ]
  },
  {
   "cell_type": "code",
   "execution_count": 25,
   "metadata": {},
   "outputs": [],
   "source": [
    "import pylab"
   ]
  },
  {
   "cell_type": "code",
   "execution_count": 26,
   "metadata": {},
   "outputs": [],
   "source": [
    "def simAll(drunkKinds, walkLengths, numTrials):\n",
    "    styleChoice = styleIterator(('b-', 'r:', 'm-.'))\n",
    "    for dClass in drunkKinds:\n",
    "        curStyle = styleChoice.nextStyle()\n",
    "        print 'Starting simulation of', dClass.__name__\n",
    "        means, cvs = simDrunk(numTrials, dClass, walkLengths)\n",
    "        cvMean = sum(cvs)/float(len(cvs))\n",
    "        pylab.plot(walkLengths, means, curStyle,\n",
    "                   label = dClass.__name__ +\n",
    "                          '(CV = ' + str(round(cvMean, 4)) + ')')\n",
    "    pylab.title('Mean Distance from Origin ('\n",
    "                + str(numTrials) + ' trials)')\n",
    "    pylab.xlabel('Number of Steps')\n",
    "    pylab.ylabel('Distance from Origin')\n",
    "    pylab.legend(loc = 'best')\n",
    "    pylab.semilogx()\n",
    "    pylab.semilogy()"
   ]
  },
  {
   "cell_type": "code",
   "execution_count": 27,
   "metadata": {},
   "outputs": [
    {
     "name": "stdout",
     "output_type": "stream",
     "text": [
      "Starting simulation of UsualDrunk\n",
      "Starting simulation of 10 steps\n",
      "Starting simulation of 100 steps\n",
      "Starting simulation of 1000 steps\n",
      "Starting simulation of 10000 steps\n",
      "Starting simulation of 100000 steps\n",
      "Starting simulation of ColdDrunk\n",
      "Starting simulation of 10 steps\n",
      "Starting simulation of 100 steps\n",
      "Starting simulation of 1000 steps\n",
      "Starting simulation of 10000 steps\n",
      "Starting simulation of 100000 steps\n",
      "Starting simulation of EWDrunk\n",
      "Starting simulation of 10 steps\n",
      "Starting simulation of 100 steps\n",
      "Starting simulation of 1000 steps\n",
      "Starting simulation of 10000 steps\n",
      "Starting simulation of 100000 steps\n"
     ]
    },
    {
     "data": {
      "image/png": "[encoded data removed]",
      "text/plain": [
       "<Figure size 432x288 with 1 Axes>"
      ]
     },
     "metadata": {},
     "output_type": "display_data"
    }
   ],
   "source": [
    "simAll((UsualDrunk, ColdDrunk, EWDrunk), (10,100,1000,10000,100000), 100)"
   ]
  },
  {
   "cell_type": "code",
   "execution_count": 28,
   "metadata": {},
   "outputs": [],
   "source": [
    "def getFinalLocs(numSteps, numTrials, dClass):\n",
    "    locs = []\n",
    "    d = dClass()\n",
    "    origin = Location(0, 0)\n",
    "    for t in range(numTrials):\n",
    "        f = Field()\n",
    "        f.addDrunk(d, origin)\n",
    "        for s in range(numSteps):\n",
    "            f.moveDrunk(d)\n",
    "        locs.append(f.getLoc(d))\n",
    "    return locs"
   ]
  },
  {
   "cell_type": "code",
   "execution_count": 29,
   "metadata": {},
   "outputs": [],
   "source": [
    "def plotLocs(drunkKinds, numSteps, numTrials):\n",
    "    styleChoice = styleIterator(('b+', 'r^', 'mo'))\n",
    "    for dClass in drunkKinds:\n",
    "        locs = getFinalLocs(numSteps, numTrials, dClass)\n",
    "        xVals, yVals = [], []\n",
    "        for l in locs:\n",
    "            xVals.append(l.getX())\n",
    "            yVals.append(l.getY())\n",
    "        meanX = sum(xVals)/float(len(xVals))\n",
    "        meanY = sum(yVals)/float(len(yVals))\n",
    "        curStyle = styleChoice.nextStyle()\n",
    "        pylab.plot(xVals, yVals, curStyle,\n",
    "                      label = dClass.__name__ + ' Mean loc. = <'\n",
    "                      + str(meanX) + ', ' + str(meanY) + '>')\n",
    "    pylab.title('Location at End of Walks ('\n",
    "                + str(numSteps) + ' steps)')\n",
    "    pylab.xlabel('Steps East/West of Origin')\n",
    "    pylab.ylabel('Steps North/South of Origin')\n",
    "    pylab.legend(loc = 'lower left', numpoints = 1)"
   ]
  },
  {
   "cell_type": "code",
   "execution_count": 30,
   "metadata": {},
   "outputs": [
    {
     "data": {
      "image/png": "[encoded data removed]",
      "text/plain": [
       "<Figure size 432x288 with 1 Axes>"
      ]
     },
     "metadata": {},
     "output_type": "display_data"
    }
   ],
   "source": [
    "plotLocs((UsualDrunk, ColdDrunk, EWDrunk), 100, 200)"
   ]
  },
  {
   "cell_type": "code",
   "execution_count": 31,
   "metadata": {},
   "outputs": [],
   "source": [
    "def traceWalk(drunkKinds, numSteps):\n",
    "    styleChoice = styleIterator(('b+', 'r^', 'mo'))\n",
    "    f = Field()\n",
    "    for dClass in drunkKinds:\n",
    "        d = dClass()\n",
    "        f.addDrunk(d, Location(0, 0))\n",
    "        locs = []\n",
    "        for s in range(numSteps):\n",
    "            f.moveDrunk(d)\n",
    "            locs.append(f.getLoc(d))\n",
    "        xVals = []\n",
    "        yVals = []\n",
    "        for l in locs:\n",
    "            xVals.append(l.getX())\n",
    "            yVals.append(l.getY())\n",
    "        curStyle = styleChoice.nextStyle()\n",
    "        pylab.plot(xVals, yVals, curStyle,\n",
    "                   label = dClass.__name__)\n",
    "    pylab.title('Spots Visited on Walk ('\n",
    "                + str(numSteps) + ' steps)')\n",
    "    pylab.xlabel('Steps East/West of Origin')\n",
    "    pylab.ylabel('Steps North/South of Origin')\n",
    "    pylab.legend(loc = 'best')"
   ]
  },
  {
   "cell_type": "code",
   "execution_count": 32,
   "metadata": {},
   "outputs": [
    {
     "data": {
      "image/png": "[encoded data removed]",
      "text/plain": [
       "<Figure size 432x288 with 1 Axes>"
      ]
     },
     "metadata": {},
     "output_type": "display_data"
    }
   ],
   "source": [
    "traceWalk((UsualDrunk, ColdDrunk, EWDrunk), 200)"
   ]
  },
  {
   "cell_type": "code",
   "execution_count": 33,
   "metadata": {},
   "outputs": [],
   "source": [
    "class oddField(Field):\n",
    "    def __init__(self, numHoles, xRange, yRange):\n",
    "        Field.__init__(self)\n",
    "        self.wormholes = {}\n",
    "        for w in range(numHoles):\n",
    "            x = random.randint(-xRange, xRange)\n",
    "            y = random.randint(-yRange, yRange)\n",
    "            newX = random.randint(-xRange, xRange)\n",
    "            newY = random.randint(-yRange, yRange)\n",
    "            newLoc = Location(newX, newY)\n",
    "            self.wormholes[(x, y)] = newLoc\n",
    "\n",
    "    def moveDrunk(self, drunk):\n",
    "        Field.moveDrunk(self, drunk)\n",
    "        x = self.drunks[drunk].getX()\n",
    "        y = self.drunks[drunk].getY()\n",
    "        if (x, y) in self.wormholes:\n",
    "            self.drunks[drunk] = self.wormholes[(x, y)]"
   ]
  },
  {
   "cell_type": "code",
   "execution_count": 34,
   "metadata": {},
   "outputs": [],
   "source": [
    "def traceWalk(drunkKinds, numSteps):\n",
    "    styleChoice = styleIterator(('b+', 'r^', 'mo'))\n",
    "    f = oddField(1000, 100, 200)\n",
    "    for dClass in drunkKinds:\n",
    "        d = dClass()\n",
    "        f.addDrunk(d, Location(0, 0))\n",
    "        locs = []\n",
    "        for s in range(numSteps):\n",
    "            f.moveDrunk(d)\n",
    "            locs.append(f.getLoc(d))\n",
    "        xVals = []\n",
    "        yVals = []\n",
    "        for l in locs:\n",
    "            xVals.append(l.getX())\n",
    "            yVals.append(l.getY())\n",
    "        curStyle = styleChoice.nextStyle()\n",
    "        pylab.plot(xVals, yVals, curStyle,\n",
    "                   label = dClass.__name__)\n",
    "    pylab.title('Spots Visited on Walk ('\n",
    "                + str(numSteps) + ' steps)')\n",
    "    pylab.xlabel('Steps East/West of Origin')\n",
    "    pylab.ylabel('Steps North/South of Origin')\n",
    "    pylab.legend(loc = 'best')"
   ]
  },
  {
   "cell_type": "code",
   "execution_count": 35,
   "metadata": {},
   "outputs": [
    {
     "data": {
      "image/png": "[encoded data removed]",
      "text/plain": [
       "<Figure size 432x288 with 1 Axes>"
      ]
     },
     "metadata": {},
     "output_type": "display_data"
    }
   ],
   "source": [
    "traceWalk((UsualDrunk, ColdDrunk, EWDrunk), 500)"
   ]
  },
  {
   "cell_type": "code",
   "execution_count": null,
   "metadata": {},
   "outputs": [],
   "source": []
  }
 ],
 "metadata": {
  "kernelspec": {
   "display_name": "Python 2",
   "language": "python",
   "name": "python2"
  },
  "language_info": {
   "codemirror_mode": {
    "name": "ipython",
    "version": 2
   },
   "file_extension": ".py",
   "mimetype": "text/x-python",
   "name": "python",
   "nbconvert_exporter": "python",
   "pygments_lexer": "ipython2",
   "version": "2.7.15"
  }
 },
 "nbformat": 4,
 "nbformat_minor": 2
}
