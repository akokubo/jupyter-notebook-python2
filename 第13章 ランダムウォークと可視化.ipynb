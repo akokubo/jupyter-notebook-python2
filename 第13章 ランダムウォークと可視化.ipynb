{
 "cells": [
  {
   "cell_type": "code",
   "execution_count": 55,
   "metadata": {},
   "outputs": [],
   "source": [
    "def stdDev(X):\n",
    "    \"\"\"X を数のリストとする\n",
    "       X の標準偏差を出力する\"\"\"\n",
    "    mean = float(sum(X)) / len(X)\n",
    "    tot = 0.0\n",
    "    for x in X:\n",
    "        tot += (x - mean) ** 2\n",
    "    return (tot/len(X)) ** 0.5 # 平均との差の 2 乗根"
   ]
  },
  {
   "cell_type": "code",
   "execution_count": 56,
   "metadata": {},
   "outputs": [],
   "source": [
    "def CV(X):\n",
    "    mean = sum(X) / float(len(X))\n",
    "    try:\n",
    "        return stdDev(X) / mean\n",
    "    except ZeroDivisionError:\n",
    "        return float('nan')"
   ]
  },
  {
   "cell_type": "code",
   "execution_count": 57,
   "metadata": {},
   "outputs": [],
   "source": [
    "class Location(object):\n",
    "\n",
    "    def __init__(self, x, y):\n",
    "        \"\"\"x と y は浮動小数点数\"\"\"\n",
    "        self.x = x\n",
    "        self.y = y\n",
    "\n",
    "    def move(self, deltaX, deltaY):\n",
    "        \"\"\"deltaX と deltaY は浮動小数点数\"\"\"\n",
    "        return Location(self.x + deltaX, self.y + deltaY)\n",
    "\n",
    "    def getX(self):\n",
    "        return self.x\n",
    "\n",
    "    def getY(self):\n",
    "        return self.y\n",
    "\n",
    "    def distFrom(self, other):\n",
    "        ox = other.x\n",
    "        oy = other.y\n",
    "        xDist = self.x - ox\n",
    "        yDist = self.y - oy\n",
    "        return (xDist ** 2 + yDist ** 2) ** 0.5\n",
    "\n",
    "    def __str__(self):\n",
    "        return '<' + str(self.x) + ', ' + str(self.y) + '>'"
   ]
  },
  {
   "cell_type": "code",
   "execution_count": 58,
   "metadata": {},
   "outputs": [],
   "source": [
    "class Field(object):\n",
    "    \n",
    "    def __init__(self):\n",
    "        self.drunks = {}\n",
    "        \n",
    "    def addDrunk(self, drunk, loc):\n",
    "        if drunk in self.drunks:\n",
    "            raise ValueError('その酔っぱらいは既に追加されています')\n",
    "        else:\n",
    "            self.drunks[drunk] = loc\n",
    "            \n",
    "    def moveDrunk(self, drunk):\n",
    "        if drunk not in self.drunks:\n",
    "            raise ValueError('その酔っぱらいはいません')\n",
    "        xDist, yDist = drunk.takeStep()\n",
    "        currentLocation = self.drunks[drunk]\n",
    "        # Location クラスの move メソッドを用いて，新しい位置情報を得る\n",
    "        self.drunks[drunk] = currentLocation.move(xDist, yDist)\n",
    "        \n",
    "    def getLoc(self, drunk):\n",
    "        if drunk not in self.drunks:\n",
    "            raise ValueError('その酔っぱらいはいません')\n",
    "        return self.drunks[drunk]"
   ]
  },
  {
   "cell_type": "code",
   "execution_count": 59,
   "metadata": {},
   "outputs": [],
   "source": [
    "class Drunk(object):\n",
    "    def __init__(self, name = None):\n",
    "        \"\"\"name を文字列とする\"\"\"\n",
    "        self.name = name\n",
    "\n",
    "    def __str__(self):\n",
    "        if self != None:\n",
    "            return self.name\n",
    "        return '名無しさん'"
   ]
  },
  {
   "cell_type": "code",
   "execution_count": 60,
   "metadata": {},
   "outputs": [],
   "source": [
    "import random"
   ]
  },
  {
   "cell_type": "code",
   "execution_count": 61,
   "metadata": {},
   "outputs": [],
   "source": [
    "class UsualDrunk(Drunk):\n",
    "    def takeStep(self):\n",
    "        stepChoices = [(0.0, 1.0), (0.0, -1.0), (1.0, 0.0), (-1.0, 0.0)]\n",
    "        return random.choice(stepChoices)"
   ]
  },
  {
   "cell_type": "code",
   "execution_count": 62,
   "metadata": {},
   "outputs": [],
   "source": [
    "def walk(f, d, numSteps):\n",
    "    \"\"\"f: Field クラスのオブジェクト\n",
    "       d: Drunk クラスのオブジェクト\n",
    "       numSteps: 0 以上の整数\n",
    "       d を numSteps 回移動し、酔歩の初期位置と最終位置との差を出力する\"\"\"\n",
    "    start = f.getLoc(d)\n",
    "    for s in range(numSteps):\n",
    "        f.moveDrunk(d)\n",
    "    return start.distFrom(f.getLoc(d))"
   ]
  },
  {
   "cell_type": "code",
   "execution_count": 63,
   "metadata": {},
   "outputs": [],
   "source": [
    "def simWalks(numSteps, numTrials, dClass):\n",
    "    \"\"\"numSteps: 0 以上の整数\n",
    "       numTrials: 正の整数\n",
    "       dClass: Drunk のサブクラス\n",
    "       numSteps 回移動する酔歩を，numTrials 回シミュレートする．\n",
    "       各実験の初期位置と最終位置との差をリストにして出力する\"\"\"\n",
    "    Homer = dClass()\n",
    "    origin = Location(0.0, 0.0)\n",
    "    distances = []\n",
    "    for t in range(numTrials):\n",
    "        f = Field()\n",
    "        f.addDrunk(Homer, origin)\n",
    "        distances.append(walk(f, Homer, numTrials))\n",
    "    return distances"
   ]
  },
  {
   "cell_type": "code",
   "execution_count": 64,
   "metadata": {},
   "outputs": [],
   "source": [
    "def drunkTest(walkLengths, numTrials, dClass):\n",
    "    \"\"\"walkLengths: 0 以上の整数のシークエンス\n",
    "       numTrials: 正の整数\n",
    "       dClass: Drunk のサブクラス\n",
    "       walkLengths の各要素を酔歩の移動回数として, numTrials 回の酔歩を\n",
    "       シミュレートする simWalks を実行し、結果を出力する\"\"\"\n",
    "    for numSteps in walkLengths:\n",
    "        distances = simWalks(numSteps, numTrials, dClass)\n",
    "        print dClass.__name__ + 'の' + str(numSteps) + '歩の酔歩'\n",
    "        print ' 平均 =', sum(distances)/len(distances),\\\n",
    "              '変動係数 =', CV(distances)\n",
    "        print ' 最大 =', max(distances), '最小 =', min(distances)"
   ]
  },
  {
   "cell_type": "code",
   "execution_count": 65,
   "metadata": {},
   "outputs": [
    {
     "name": "stdout",
     "output_type": "stream",
     "text": [
      "UsualDrunkの10歩の酔歩\n",
      " 平均 = 8.97032375651 変動係数 = 0.55126516067\n",
      " 最大 = 28.8444102037 最小 = 1.41421356237\n",
      "UsualDrunkの100歩の酔歩\n",
      " 平均 = 8.60837435357 変動係数 = 0.50576754381\n",
      " 最大 = 21.0237960416 最小 = 1.41421356237\n",
      "UsualDrunkの1000歩の酔歩\n",
      " 平均 = 8.5863925966 変動係数 = 0.527231274162\n",
      " 最大 = 24.6981780705 最小 = 2.0\n",
      "UsualDrunkの10000歩の酔歩\n",
      " 平均 = 9.02512045432 変動係数 = 0.485600394878\n",
      " 最大 = 24.3310501212 最小 = 1.41421356237\n"
     ]
    }
   ],
   "source": [
    "drunkTest((10, 100, 1000, 10000), 100, UsualDrunk)"
   ]
  },
  {
   "cell_type": "code",
   "execution_count": 66,
   "metadata": {},
   "outputs": [
    {
     "name": "stdout",
     "output_type": "stream",
     "text": [
      "UsualDrunkの0歩の酔歩\n",
      " 平均 = 8.83093543064 変動係数 = 0.510635363171\n",
      " 最大 = 21.400934559 最小 = 0.0\n",
      "UsualDrunkの1歩の酔歩\n",
      " 平均 = 9.06256220169 変動係数 = 0.558846325035\n",
      " 最大 = 27.3130005675 最小 = 1.41421356237\n"
     ]
    }
   ],
   "source": [
    "drunkTest((0,1), 100, UsualDrunk)"
   ]
  },
  {
   "cell_type": "code",
   "execution_count": 67,
   "metadata": {},
   "outputs": [],
   "source": [
    "def simWalks(numSteps, numTrials, dClass):\n",
    "    \"\"\"numSteps: 0 以上の整数\n",
    "       numTrials: 正の整数\n",
    "       dClass: Drunk のサブクラス\n",
    "       numSteps 回移動する酔歩を，numTrials 回シミュレートする。\n",
    "       各実験の初期位置と最終位置との差をリストにして出力する\"\"\"\n",
    "    Homer = dClass()\n",
    "    origin = Location(0.0, 0.0)\n",
    "    distances = []\n",
    "    for t in range(numTrials):\n",
    "        f = Field()\n",
    "        f.addDrunk(Homer, origin)\n",
    "        distances.append(walk(f, Homer, numSteps))\n",
    "    return distances"
   ]
  },
  {
   "cell_type": "code",
   "execution_count": 68,
   "metadata": {},
   "outputs": [
    {
     "name": "stdout",
     "output_type": "stream",
     "text": [
      "UsualDrunkの0歩の酔歩\n",
      " 平均 = 0.0 変動係数 = nan\n",
      " 最大 = 0.0 最小 = 0.0\n",
      "UsualDrunkの1歩の酔歩\n",
      " 平均 = 1.0 変動係数 = 0.0\n",
      " 最大 = 1.0 最小 = 1.0\n"
     ]
    }
   ],
   "source": [
    "drunkTest((0,1), 100, UsualDrunk)"
   ]
  },
  {
   "cell_type": "code",
   "execution_count": 69,
   "metadata": {},
   "outputs": [
    {
     "name": "stdout",
     "output_type": "stream",
     "text": [
      "UsualDrunkの10歩の酔歩\n",
      " 平均 = 2.72757093623 変動係数 = 0.526253699921\n",
      " 最大 = 6.0 最小 = 0.0\n",
      "UsualDrunkの100歩の酔歩\n",
      " 平均 = 8.91031790168 変動係数 = 0.489534414142\n",
      " 最大 = 19.0262975904 最小 = 1.41421356237\n",
      "UsualDrunkの1000歩の酔歩\n",
      " 平均 = 25.533443426 変動係数 = 0.514684262291\n",
      " 最大 = 60.415229868 最小 = 1.41421356237\n",
      "UsualDrunkの10000歩の酔歩\n",
      " 平均 = 84.442220101 変動係数 = 0.524910579129\n",
      " 最大 = 203.214172734 最小 = 7.61577310586\n"
     ]
    }
   ],
   "source": [
    "drunkTest((10, 100, 1000, 10000), 100, UsualDrunk)"
   ]
  },
  {
   "cell_type": "code",
   "execution_count": 70,
   "metadata": {},
   "outputs": [],
   "source": [
    "class ColdDrunk(Drunk):\n",
    "    def takeStep(self):\n",
    "        stepChoices = [(0.0,1.0), (0.0,-2.0), (1.0, 0.0), (-1.0, 0.0)]\n",
    "        return random.choice(stepChoices)"
   ]
  },
  {
   "cell_type": "code",
   "execution_count": 71,
   "metadata": {},
   "outputs": [],
   "source": [
    "class EWDrunk(Drunk):\n",
    "    def takeStep(self):\n",
    "        stepChoices = [(1.0, 0.0), (-1.0, 0.0)]\n",
    "        return random.choice(stepChoices) "
   ]
  },
  {
   "cell_type": "code",
   "execution_count": 72,
   "metadata": {},
   "outputs": [],
   "source": [
    "def simAll(drunkKinds, walkLengths, numTrials):\n",
    "    for dClass in drunkKinds:\n",
    "        drunkTest(walkLengths, numTrials, dClass)"
   ]
  },
  {
   "cell_type": "code",
   "execution_count": 73,
   "metadata": {},
   "outputs": [
    {
     "name": "stdout",
     "output_type": "stream",
     "text": [
      "UsualDrunkの100歩の酔歩\n",
      " 平均 = 7.66961476638 変動係数 = 0.32925696894\n",
      " 最大 = 11.0453610172 最小 = 3.16227766017\n",
      "UsualDrunkの1000歩の酔歩\n",
      " 平均 = 26.9136188256 変動係数 = 0.470660120334\n",
      " 最大 = 41.8807831827 最小 = 1.41421356237\n",
      "ColdDrunkの100歩の酔歩\n",
      " 平均 = 29.5402484124 変動係数 = 0.363612924645\n",
      " 最大 = 49.2544414241 最小 = 16.0312195419\n",
      "ColdDrunkの1000歩の酔歩\n",
      " 平均 = 254.639357038 変動係数 = 0.162442327133\n",
      " 最大 = 321.305150908 最小 = 183.221177815\n",
      "EWDrunkの100歩の酔歩\n",
      " 平均 = 6.8 変動係数 = 0.49565586901\n",
      " 最大 = 10.0 最小 = 2.0\n",
      "EWDrunkの1000歩の酔歩\n",
      " 平均 = 34.0 変動係数 = 0.415112441515\n",
      " 最大 = 58.0 最小 = 12.0\n"
     ]
    }
   ],
   "source": [
    "simAll((UsualDrunk, ColdDrunk, EWDrunk), (100, 1000), 10)"
   ]
  },
  {
   "cell_type": "code",
   "execution_count": 74,
   "metadata": {},
   "outputs": [],
   "source": [
    "class styleIterator(object):\n",
    "    def __init__(self, styles):\n",
    "        self.index = 0\n",
    "        self.styles = styles\n",
    "\n",
    "    def nextStyle(self):\n",
    "        result = self.styles[self.index]\n",
    "        if self.index == len(self.styles) - 1:\n",
    "            self.index = 0\n",
    "        else:\n",
    "            self.index += 1\n",
    "        return result"
   ]
  },
  {
   "cell_type": "code",
   "execution_count": 75,
   "metadata": {},
   "outputs": [],
   "source": [
    "def simDrunk(numTrials, dClass, walkLengths):\n",
    "    meanDistances = []\n",
    "    cvDistances = []\n",
    "    for numSteps in walkLengths:\n",
    "        print '　' + str(numSteps) + '歩のシミュレーションの開始'\n",
    "        trials = simWalks(numSteps, numTrials, dClass)\n",
    "        mean = sum(trials) / float(len(trials))\n",
    "        meanDistances.append(mean)\n",
    "        cvDistances.append(stdDev(trials) / mean)\n",
    "    return (meanDistances, cvDistances)"
   ]
  },
  {
   "cell_type": "code",
   "execution_count": 76,
   "metadata": {},
   "outputs": [],
   "source": [
    "import pylab"
   ]
  },
  {
   "cell_type": "code",
   "execution_count": 77,
   "metadata": {},
   "outputs": [],
   "source": [
    "def simAll(drunkKinds, walkLengths, numTrials):\n",
    "    styleChoice = styleIterator(('b-', 'r:', 'm-.'))\n",
    "    for dClass in drunkKinds:\n",
    "        curStyle = styleChoice.nextStyle()\n",
    "        print dClass.__name__ + 'のシミュレーションの開始'\n",
    "        means, cvs = simDrunk(numTrials, dClass, walkLengths)\n",
    "        cvMean = sum(cvs)/float(len(cvs))\n",
    "        pylab.plot(walkLengths, means, curStyle,\n",
    "                   label = dClass.__name__ +\n",
    "                          u'(変動係数 = ' + str(round(cvMean, 4)) + ')')\n",
    "    pylab.title(u'原点からの平均距離 ('\n",
    "                + str(numTrials) + u'回の試行)')\n",
    "    pylab.xlabel(u'歩数')\n",
    "    pylab.ylabel(u'原点からの距離')\n",
    "    pylab.legend(loc = 'best')\n",
    "    pylab.semilogx()\n",
    "    pylab.semilogy()"
   ]
  },
  {
   "cell_type": "code",
   "execution_count": 78,
   "metadata": {},
   "outputs": [
    {
     "name": "stdout",
     "output_type": "stream",
     "text": [
      "UsualDrunkのシミュレーションの開始\n",
      "　10歩のシミュレーションの開始\n",
      "　100歩のシミュレーションの開始\n",
      "　1000歩のシミュレーションの開始\n",
      "　10000歩のシミュレーションの開始\n",
      "　100000歩のシミュレーションの開始\n",
      "ColdDrunkのシミュレーションの開始\n",
      "　10歩のシミュレーションの開始\n",
      "　100歩のシミュレーションの開始\n",
      "　1000歩のシミュレーションの開始\n",
      "　10000歩のシミュレーションの開始\n",
      "　100000歩のシミュレーションの開始\n",
      "EWDrunkのシミュレーションの開始\n",
      "　10歩のシミュレーションの開始\n",
      "　100歩のシミュレーションの開始\n",
      "　1000歩のシミュレーションの開始\n",
      "　10000歩のシミュレーションの開始\n",
      "　100000歩のシミュレーションの開始\n"
     ]
    },
    {
     "data": {
      "image/png": "[encoded data removed]",
      "text/plain": [
       "<Figure size 432x288 with 1 Axes>"
      ]
     },
     "metadata": {},
     "output_type": "display_data"
    }
   ],
   "source": [
    "simAll((UsualDrunk, ColdDrunk, EWDrunk), (10, 100, 1000, 10000, 100000), 100)"
   ]
  },
  {
   "cell_type": "code",
   "execution_count": 79,
   "metadata": {},
   "outputs": [],
   "source": [
    "def getFinalLocs(numSteps, numTrials, dClass):\n",
    "    locs = []\n",
    "    d = dClass()\n",
    "    origin = Location(0, 0)\n",
    "    for t in range(numTrials):\n",
    "        f = Field()\n",
    "        f.addDrunk(d, origin)\n",
    "        for s in range(numSteps):\n",
    "            f.moveDrunk(d)\n",
    "        locs.append(f.getLoc(d))\n",
    "    return locs"
   ]
  },
  {
   "cell_type": "code",
   "execution_count": 80,
   "metadata": {},
   "outputs": [],
   "source": [
    "def plotLocs(drunkKinds, numSteps, numTrials):\n",
    "    styleChoice = styleIterator(('b+', 'r^', 'mo'))\n",
    "    for dClass in drunkKinds:\n",
    "        locs = getFinalLocs(numSteps, numTrials, dClass)\n",
    "        xVals, yVals = [], []\n",
    "        for l in locs:\n",
    "            xVals.append(l.getX())\n",
    "            yVals.append(l.getY())\n",
    "        meanX = sum(xVals)/float(len(xVals))\n",
    "        meanY = sum(yVals)/float(len(yVals))\n",
    "        curStyle = styleChoice.nextStyle()\n",
    "        pylab.plot(xVals, yVals, curStyle,\n",
    "                      label = dClass.__name__ + u'の平均の位置 = <'\n",
    "                      + str(meanX) + ', ' + str(meanY) + '>')\n",
    "    pylab.title(u'最終到達地点 ('\n",
    "                + str(numSteps) + u'歩)')\n",
    "    pylab.xlabel(u'原点からの東西の位置')\n",
    "    pylab.ylabel(u'原点からの南北の位置')\n",
    "    pylab.legend(loc = 'lower left', numpoints = 1)"
   ]
  },
  {
   "cell_type": "code",
   "execution_count": 81,
   "metadata": {},
   "outputs": [
    {
     "data": {
      "image/png": "[encoded data removed]",
      "text/plain": [
       "<Figure size 432x288 with 1 Axes>"
      ]
     },
     "metadata": {},
     "output_type": "display_data"
    }
   ],
   "source": [
    "plotLocs((UsualDrunk, ColdDrunk, EWDrunk), 100, 200)"
   ]
  },
  {
   "cell_type": "code",
   "execution_count": 82,
   "metadata": {},
   "outputs": [],
   "source": [
    "def traceWalk(drunkKinds, numSteps):\n",
    "    styleChoice = styleIterator(('b+', 'r^', 'mo'))\n",
    "    f = Field()\n",
    "    for dClass in drunkKinds:\n",
    "        d = dClass()\n",
    "        f.addDrunk(d, Location(0, 0))\n",
    "        locs = []\n",
    "        for s in range(numSteps):\n",
    "            f.moveDrunk(d)\n",
    "            locs.append(f.getLoc(d))\n",
    "        xVals = []\n",
    "        yVals = []\n",
    "        for l in locs:\n",
    "            xVals.append(l.getX())\n",
    "            yVals.append(l.getY())\n",
    "        curStyle = styleChoice.nextStyle()\n",
    "        pylab.plot(xVals, yVals, curStyle,\n",
    "                   label = dClass.__name__)\n",
    "    pylab.title(u'移動履歴 ('\n",
    "                + str(numSteps) + u'歩)')\n",
    "    pylab.xlabel(u'原点からの東西の位置')\n",
    "    pylab.ylabel(u'原点からの南北の位置')\n",
    "    pylab.legend(loc = 'best')"
   ]
  },
  {
   "cell_type": "code",
   "execution_count": 83,
   "metadata": {},
   "outputs": [
    {
     "data": {
      "image/png": "[encoded data removed]",
      "text/plain": [
       "<Figure size 432x288 with 1 Axes>"
      ]
     },
     "metadata": {},
     "output_type": "display_data"
    }
   ],
   "source": [
    "traceWalk((UsualDrunk, ColdDrunk, EWDrunk), 200)"
   ]
  },
  {
   "cell_type": "code",
   "execution_count": 84,
   "metadata": {},
   "outputs": [],
   "source": [
    "class oddField(Field):\n",
    "    def __init__(self, numHoles, xRange, yRange):\n",
    "        Field.__init__(self)\n",
    "        self.wormholes = {}\n",
    "        for w in range(numHoles):\n",
    "            x = random.randint(-xRange, xRange)\n",
    "            y = random.randint(-yRange, yRange)\n",
    "            newX = random.randint(-xRange, xRange)\n",
    "            newY = random.randint(-yRange, yRange)\n",
    "            newLoc = Location(newX, newY)\n",
    "            self.wormholes[(x, y)] = newLoc\n",
    "\n",
    "    def moveDrunk(self, drunk):\n",
    "        Field.moveDrunk(self, drunk)\n",
    "        x = self.drunks[drunk].getX()\n",
    "        y = self.drunks[drunk].getY()\n",
    "        if (x, y) in self.wormholes:\n",
    "            self.drunks[drunk] = self.wormholes[(x, y)]"
   ]
  },
  {
   "cell_type": "code",
   "execution_count": 85,
   "metadata": {},
   "outputs": [],
   "source": [
    "def traceWalk(drunkKinds, numSteps):\n",
    "    styleChoice = styleIterator(('b+', 'r^', 'mo'))\n",
    "    f = oddField(1000, 100, 200)\n",
    "    for dClass in drunkKinds:\n",
    "        d = dClass()\n",
    "        f.addDrunk(d, Location(0, 0))\n",
    "        locs = []\n",
    "        for s in range(numSteps):\n",
    "            f.moveDrunk(d)\n",
    "            locs.append(f.getLoc(d))\n",
    "        xVals = []\n",
    "        yVals = []\n",
    "        for l in locs:\n",
    "            xVals.append(l.getX())\n",
    "            yVals.append(l.getY())\n",
    "        curStyle = styleChoice.nextStyle()\n",
    "        pylab.plot(xVals, yVals, curStyle,\n",
    "                   label = dClass.__name__)\n",
    "    pylab.title(u'移動履歴 ('\n",
    "                + str(numSteps) + u'歩)')\n",
    "    pylab.xlabel(u'原点からの東西の位置')\n",
    "    pylab.ylabel(u'原点からの南北の位置')\n",
    "    pylab.legend(loc = 'best')"
   ]
  },
  {
   "cell_type": "code",
   "execution_count": 86,
   "metadata": {},
   "outputs": [
    {
     "data": {
      "image/png": "[encoded data removed]",
      "text/plain": [
       "<Figure size 432x288 with 1 Axes>"
      ]
     },
     "metadata": {},
     "output_type": "display_data"
    }
   ],
   "source": [
    "traceWalk((UsualDrunk, ColdDrunk, EWDrunk), 500)"
   ]
  }
 ],
 "metadata": {
  "kernelspec": {
   "display_name": "Python 2",
   "language": "python",
   "name": "python2"
  },
  "language_info": {
   "codemirror_mode": {
    "name": "ipython",
    "version": 2
   },
   "file_extension": ".py",
   "mimetype": "text/x-python",
   "name": "python",
   "nbconvert_exporter": "python",
   "pygments_lexer": "ipython2",
   "version": "2.7.13"
  }
 },
 "nbformat": 4,
 "nbformat_minor": 2
}
