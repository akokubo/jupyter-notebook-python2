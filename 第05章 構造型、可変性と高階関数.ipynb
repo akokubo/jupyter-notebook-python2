{
 "cells": [
  {
   "cell_type": "raw",
   "metadata": {},
   "source": [
    "p.61"
   ]
  },
  {
   "cell_type": "code",
   "execution_count": 1,
   "metadata": {},
   "outputs": [
    {
     "name": "stdout",
     "output_type": "stream",
     "text": [
      "()\n",
      "(1, 'two', 3)\n"
     ]
    }
   ],
   "source": [
    "t1 = ()\n",
    "t2 = (1, 'two', 3)\n",
    "print t1\n",
    "print t2"
   ]
  },
  {
   "cell_type": "raw",
   "metadata": {},
   "source": [
    "p.62"
   ]
  },
  {
   "cell_type": "code",
   "execution_count": 2,
   "metadata": {},
   "outputs": [
    {
     "name": "stdout",
     "output_type": "stream",
     "text": [
      "((1, 'two', 3), 3.25)\n",
      "(1, 'two', 3, (1, 'two', 3), 3.25)\n",
      "(1, 'two', 3)\n",
      "(3, (1, 'two', 3), 3.25)\n"
     ]
    }
   ],
   "source": [
    "t1 = (1, 'two', 3)\n",
    "t2 = (t1, 3.25)\n",
    "print t2             # ((1, 'two', 3), 3.25)\n",
    "print (t1 + t2)      # (1, 'two', 3, (1, 'two', 3), 3.25)\n",
    "                     # 「+」はリストを結合し、\n",
    "                     # 新たなリストを生成する。\n",
    "                     # つまり、t1とt2は変化を受けない\n",
    "print (t1 + t2)[3]   # (1, 'two', 3)\n",
    "print (t1 + t2)[2:5] # (3, (1, 'two', 3), 3.25)"
   ]
  },
  {
   "cell_type": "code",
   "execution_count": 3,
   "metadata": {},
   "outputs": [],
   "source": [
    "def findDivisors(n1, n2):\n",
    "    \"\"\"n1とn2を正のintとする。\n",
    "       n1とn2のすべての公約数からなるタプルを返す\"\"\"\n",
    "    divisors = () # 公約数を入れるタプルを空で初期化\n",
    "    for i in range(1, min (n1, n2) + 1):\n",
    "        if n1 % i == 0 and n2 % i == 0: # 公約数(n1もn2も割り切れる数)なら\n",
    "            divisors = divisors + (i,) # タプルdivisorsに追加。実際には新たにタプルが生成される\n",
    "    return divisors"
   ]
  },
  {
   "cell_type": "code",
   "execution_count": 4,
   "metadata": {},
   "outputs": [
    {
     "name": "stdout",
     "output_type": "stream",
     "text": [
      "(1, 2, 4, 5, 10, 20)\n",
      "42\n"
     ]
    }
   ],
   "source": [
    "divisors = findDivisors(20, 100)\n",
    "print divisors # (1, 2, 4, 5, 10, 20)\n",
    "total = 0\n",
    "for d in divisors:\n",
    "    total += d\n",
    "print total"
   ]
  },
  {
   "cell_type": "code",
   "execution_count": 5,
   "metadata": {},
   "outputs": [],
   "source": [
    "def findDivisors(n1, n2):\n",
    "    \"\"\"n1とn2を正のintとする。\n",
    "       n1とn2のすべての公約数からなるタプルを返す\"\"\"\n",
    "    divisors = () # 公約数を入れるタプルを空で初期化\n",
    "    for i in range(1, min (n1, n2) + 1):\n",
    "        if n1 % i == 0 and n2 % i == 0: # 公約数(n1もn2も割り切れる数)なら\n",
    "            print 'id =', id(divisors)\n",
    "            divisors = divisors + (i,) # タプルdivisorsに追加。実際には新たにタプルが生成される\n",
    "    return divisors"
   ]
  },
  {
   "cell_type": "code",
   "execution_count": 6,
   "metadata": {},
   "outputs": [
    {
     "name": "stdout",
     "output_type": "stream",
     "text": [
      "id = 4484927568\n",
      "id = 4508110800\n",
      "id = 4511835272\n",
      "id = 4512089824\n",
      "id = 4512120912\n",
      "id = 4511950416\n",
      "(1, 2, 4, 5, 10, 20)\n",
      "42\n"
     ]
    }
   ],
   "source": [
    "divisors = findDivisors(20, 100)\n",
    "print divisors # (1, 2, 4, 5, 10, 20)\n",
    "total = 0\n",
    "for d in divisors:\n",
    "    total += d\n",
    "print total"
   ]
  },
  {
   "cell_type": "raw",
   "metadata": {},
   "source": [
    "p.63"
   ]
  },
  {
   "cell_type": "code",
   "execution_count": 7,
   "metadata": {},
   "outputs": [],
   "source": [
    "def findExtremeDivisors(n1, n2):\n",
    "    \"\"\"n1とn2を正のintとする。\n",
    "       n1とn2の1より大きい最小の公約数と最大公約数からなるタプルを返す。\n",
    "       公約数がない場合は(None, None)を返す。\"\"\"\n",
    "    # divisors = () # 空のタプル\n",
    "    minVal, maxVal = None, None\n",
    "    for i in range(2, min(n1, n2) + 1):\n",
    "        if n1 % i == 0 and n2 % i == 0:\n",
    "            if minVal == None or i < minVal:\n",
    "                minVal = i\n",
    "            if maxVal == None or i > maxVal:\n",
    "                maxVal = i\n",
    "    return (minVal, maxVal)"
   ]
  },
  {
   "cell_type": "code",
   "execution_count": 8,
   "metadata": {},
   "outputs": [
    {
     "name": "stdout",
     "output_type": "stream",
     "text": [
      "最小の公約数 = 2 、最大の公約数 = 100\n"
     ]
    }
   ],
   "source": [
    "minDivisor, maxDivisor = findExtremeDivisors(100, 200) # 多重代入\n",
    "print \"最小の公約数 =\", minDivisor, \"、最大の公約数 =\", maxDivisor"
   ]
  },
  {
   "cell_type": "code",
   "execution_count": 9,
   "metadata": {},
   "outputs": [],
   "source": [
    "def findExtremeDivisors(n1, n2):\n",
    "    \"\"\"n1とn2を正のintとする。\n",
    "       n1とn2の1より大きい最小の公約数と最大公約数からなるタプルを返す。\n",
    "       公約数がない場合は(None, None)を返す。\"\"\"\n",
    "    minVal, maxVal = None, None\n",
    "    for i in range(2, min(n1, n2) + 1):\n",
    "        if n1 % i == 0 and n2 % i == 0:\n",
    "            if minVal == None: # 最初に成り立ったときが最小公約数\n",
    "                minVal = i\n",
    "            maxVal = i # 最後に成り立ったときが最大公約数\n",
    "    return (minVal, maxVal)"
   ]
  },
  {
   "cell_type": "code",
   "execution_count": 10,
   "metadata": {},
   "outputs": [
    {
     "name": "stdout",
     "output_type": "stream",
     "text": [
      "最小の公約数 = 2 、最大の公約数 = 100\n"
     ]
    }
   ],
   "source": [
    "minDivisor, maxDivisor = findExtremeDivisors(100, 200)\n",
    "print \"最小の公約数 =\", minDivisor, \"、最大の公約数 =\", maxDivisor"
   ]
  },
  {
   "cell_type": "code",
   "execution_count": 11,
   "metadata": {},
   "outputs": [
    {
     "name": "stdout",
     "output_type": "stream",
     "text": [
      "2 100\n"
     ]
    }
   ],
   "source": [
    "minDivisor, maxDivisor = findExtremeDivisors(100, 200) # 多重代入\n",
    "print minDivisor, maxDivisor"
   ]
  },
  {
   "cell_type": "code",
   "execution_count": 12,
   "metadata": {},
   "outputs": [
    {
     "name": "stdout",
     "output_type": "stream",
     "text": [
      "I did it all\n",
      "4\n",
      "love\n"
     ]
    }
   ],
   "source": [
    "L = ['I did it all', 4, 'love']\n",
    "for i in range(len(L)):\n",
    "    print L[i]"
   ]
  },
  {
   "cell_type": "raw",
   "metadata": {},
   "source": [
    "p.64"
   ]
  },
  {
   "cell_type": "code",
   "execution_count": 13,
   "metadata": {},
   "outputs": [],
   "source": [
    "Techs = ['MIT', 'Caltech'] # 工科大学\n",
    "Ivys = ['Harvard', 'Yale', 'Brown'] # アイビー・リーグ"
   ]
  },
  {
   "cell_type": "code",
   "execution_count": 14,
   "metadata": {},
   "outputs": [],
   "source": [
    "Univs = [Techs, Ivys]\n",
    "Univs1 = [['MIT', 'Caltech'], ['Harvard', 'Yale', 'Brown']]"
   ]
  },
  {
   "cell_type": "raw",
   "metadata": {},
   "source": [
    "p.65"
   ]
  },
  {
   "cell_type": "code",
   "execution_count": 15,
   "metadata": {},
   "outputs": [
    {
     "name": "stdout",
     "output_type": "stream",
     "text": [
      "Univs = [['MIT', 'Caltech'], ['Harvard', 'Yale', 'Brown']]\n",
      "Univs1 = [['MIT', 'Caltech'], ['Harvard', 'Yale', 'Brown']]\n",
      "True\n"
     ]
    }
   ],
   "source": [
    "print 'Univs =', Univs\n",
    "print 'Univs1 =', Univs1\n",
    "print Univs == Univs1"
   ]
  },
  {
   "cell_type": "code",
   "execution_count": 16,
   "metadata": {},
   "outputs": [
    {
     "name": "stdout",
     "output_type": "stream",
     "text": [
      "True\n",
      "False\n",
      "UnivsのIdは4512108056\n",
      "Univs1のIdは4512107624\n"
     ]
    }
   ],
   "source": [
    "print Univs == Univs1                  # True。値は一致\n",
    "print id(Univs) == id(Univs1)          # False。別オブジェクト\n",
    "print 'UnivsのIdは' + str(id(Univs))\n",
    "print 'Univs1のIdは' + str(id(Univs1))"
   ]
  },
  {
   "cell_type": "raw",
   "metadata": {},
   "source": [
    "p.66"
   ]
  },
  {
   "cell_type": "code",
   "execution_count": 17,
   "metadata": {},
   "outputs": [
    {
     "name": "stdout",
     "output_type": "stream",
     "text": [
      "Univs[0]とUnivs[1]のIdは4512164176と4512165112\n",
      "Univs1[0]とUnivs1[1]のIdは4512106256と4511939184\n"
     ]
    }
   ],
   "source": [
    "print \"Univs[0]とUnivs[1]のIdは\" + str(id(Univs[0])) + \"と\" + str(id(Univs[1]))\n",
    "print \"Univs1[0]とUnivs1[1]のIdは\" + str(id(Univs1[0])) + \"と\" + str(id(Univs1[1]))"
   ]
  },
  {
   "cell_type": "code",
   "execution_count": 18,
   "metadata": {},
   "outputs": [],
   "source": [
    "Techs.append('RPI') # レンセラー工科大学"
   ]
  },
  {
   "cell_type": "raw",
   "metadata": {},
   "source": [
    "p.67"
   ]
  },
  {
   "cell_type": "code",
   "execution_count": 19,
   "metadata": {},
   "outputs": [
    {
     "name": "stdout",
     "output_type": "stream",
     "text": [
      "Univs = [['MIT', 'Caltech', 'RPI'], ['Harvard', 'Yale', 'Brown']]\n",
      "Univs1 = [['MIT', 'Caltech'], ['Harvard', 'Yale', 'Brown']]\n"
     ]
    }
   ],
   "source": [
    "print 'Univs =', Univs\n",
    "print 'Univs1 =', Univs1"
   ]
  },
  {
   "cell_type": "code",
   "execution_count": 20,
   "metadata": {},
   "outputs": [
    {
     "name": "stdout",
     "output_type": "stream",
     "text": [
      "Univsの要素は['MIT', 'Caltech', 'RPI']\n",
      " 更にその要素は\n",
      "     MIT\n",
      "     Caltech\n",
      "     RPI\n",
      "Univsの要素は['Harvard', 'Yale', 'Brown']\n",
      " 更にその要素は\n",
      "     Harvard\n",
      "     Yale\n",
      "     Brown\n"
     ]
    }
   ],
   "source": [
    "for e in Univs:\n",
    "    print 'Univsの要素は' + str(e)\n",
    "    print ' 更にその要素は'\n",
    "    for u in e:\n",
    "        print '    ', u"
   ]
  },
  {
   "cell_type": "code",
   "execution_count": 21,
   "metadata": {},
   "outputs": [
    {
     "name": "stdout",
     "output_type": "stream",
     "text": [
      "L3 = [1, 2, 3, 4, 5, 6]\n",
      "L1 = [1, 2, 3, 4, 5, 6]\n",
      "L1 = [1, 2, 3, 4, 5, 6, [4, 5, 6]]\n"
     ]
    }
   ],
   "source": [
    "L1 = [1, 2, 3]\n",
    "L2 = [4, 5, 6]\n",
    "L3 = L1 + L2\n",
    "print 'L3 =', L3\n",
    "L1.extend(L2)\n",
    "print 'L1 =', L1\n",
    "L1.append(L2)\n",
    "print 'L1 =', L1"
   ]
  },
  {
   "cell_type": "raw",
   "metadata": {},
   "source": [
    "p.68"
   ]
  },
  {
   "cell_type": "code",
   "execution_count": 22,
   "metadata": {},
   "outputs": [],
   "source": [
    "def removeDups(L1, L2):\n",
    "    \"\"\"L1とL2はリスト。\n",
    "       L1からL2の要素を取り除く\"\"\"\n",
    "    for e1 in L1:\n",
    "        if e1 in L2:\n",
    "            L1.remove(e1)"
   ]
  },
  {
   "cell_type": "code",
   "execution_count": 23,
   "metadata": {},
   "outputs": [
    {
     "name": "stdout",
     "output_type": "stream",
     "text": [
      "L1 = [2, 3, 4]\n"
     ]
    }
   ],
   "source": [
    "L1 = [1, 2, 3, 4]\n",
    "L2 = [1, 2, 5, 6]\n",
    "removeDups(L1, L2)\n",
    "print 'L1 =', L1"
   ]
  },
  {
   "cell_type": "raw",
   "metadata": {},
   "source": [
    "p.69"
   ]
  },
  {
   "cell_type": "code",
   "execution_count": 24,
   "metadata": {},
   "outputs": [],
   "source": [
    "def removeDups(L1, L2):\n",
    "    \"\"\"L1とL2はリスト。\n",
    "       L1からL2の要素を取り除く\"\"\"\n",
    "    newL1 = L1[:] # リストのクローンを作る。L1[:]はlist(L1)でもいい\n",
    "    for e1 in newL1:\n",
    "        if e1 in L2:\n",
    "            L1.remove(e1) # 要素を取り除くとL1がズレる"
   ]
  },
  {
   "cell_type": "code",
   "execution_count": 25,
   "metadata": {},
   "outputs": [
    {
     "name": "stdout",
     "output_type": "stream",
     "text": [
      "L1 = [3, 4]\n"
     ]
    }
   ],
   "source": [
    "L1 = [1, 2, 3, 4]\n",
    "L2 = [1, 2, 5, 6]\n",
    "removeDups(L1, L2)\n",
    "print 'L1 =', L1"
   ]
  },
  {
   "cell_type": "markdown",
   "metadata": {},
   "source": [
    "p.69"
   ]
  },
  {
   "cell_type": "code",
   "execution_count": 26,
   "metadata": {},
   "outputs": [
    {
     "name": "stdout",
     "output_type": "stream",
     "text": [
      "[1, 4, 9, 16, 25, 36]\n"
     ]
    }
   ],
   "source": [
    "# [1, 2, ..., 6]を2乗したリスト\n",
    "L = [x**2 for x in range(1, 7)]\n",
    "print L"
   ]
  },
  {
   "cell_type": "raw",
   "metadata": {},
   "source": [
    "p.70"
   ]
  },
  {
   "cell_type": "code",
   "execution_count": 27,
   "metadata": {},
   "outputs": [
    {
     "name": "stdout",
     "output_type": "stream",
     "text": [
      "[1, 4, 9]\n"
     ]
    }
   ],
   "source": [
    "mixed = [1, 2, 'a', 3, 4.0]\n",
    "# mixedの整数だけを2乗したリストを表示\n",
    "print [x**2 for x in mixed if type(x) == int]"
   ]
  },
  {
   "cell_type": "code",
   "execution_count": 28,
   "metadata": {},
   "outputs": [],
   "source": [
    "# 高階(関数を引数にとる)関数applyToEach\n",
    "def applyToEach(L, f):\n",
    "    \"\"\"Lはリスト、fは関数。\n",
    "       Lのそれぞれの要素を、fを適用したものに書き換える\"\"\"\n",
    "    for i in range(len(L)):\n",
    "        L[i] = f(L[i])"
   ]
  },
  {
   "cell_type": "code",
   "execution_count": 29,
   "metadata": {},
   "outputs": [
    {
     "name": "stdout",
     "output_type": "stream",
     "text": [
      "L = [1, -2, 3.33]\n",
      "Lの各要素にabsを適用\n",
      "L = [1, 2, 3.33]\n",
      "Lの各要素にintを適用\n",
      "L = [1, 2, 3]\n"
     ]
    }
   ],
   "source": [
    "L = [1, -2, 3.33]\n",
    "print 'L =', L\n",
    "print 'Lの各要素にabsを適用'\n",
    "applyToEach(L, abs)\n",
    "print 'L =', L\n",
    "print 'Lの各要素にintを適用'\n",
    "applyToEach(L, int)\n",
    "print 'L =', L"
   ]
  },
  {
   "cell_type": "raw",
   "metadata": {},
   "source": [
    "p.71"
   ]
  },
  {
   "cell_type": "code",
   "execution_count": 30,
   "metadata": {},
   "outputs": [],
   "source": [
    "def fact(n):\n",
    "    \"\"\"n > 0を整数と仮定\n",
    "       n!を返す\"\"\"\n",
    "    if n == 1:\n",
    "        return n\n",
    "    else:\n",
    "        return n * fact(n - 1)"
   ]
  },
  {
   "cell_type": "code",
   "execution_count": 31,
   "metadata": {},
   "outputs": [
    {
     "name": "stdout",
     "output_type": "stream",
     "text": [
      "[1, 2, 6]\n"
     ]
    }
   ],
   "source": [
    "print map(fact, [1, 2, 3])"
   ]
  },
  {
   "cell_type": "code",
   "execution_count": 32,
   "metadata": {},
   "outputs": [
    {
     "name": "stdout",
     "output_type": "stream",
     "text": [
      "[1, 28, 9]\n"
     ]
    }
   ],
   "source": [
    "L1 = [1, 28, 36]\n",
    "L2 = [2, 57, 9]\n",
    "print map(min, L1, L2) # [1, 28, 9]"
   ]
  },
  {
   "cell_type": "raw",
   "metadata": {},
   "source": [
    "p.72"
   ]
  },
  {
   "cell_type": "code",
   "execution_count": 33,
   "metadata": {},
   "outputs": [
    {
     "name": "stdout",
     "output_type": "stream",
     "text": [
      "[6, 10, 18, 20]\n"
     ]
    }
   ],
   "source": [
    "L = [1, 3, 6, 10, 3, 18, 35, 20]\n",
    "\n",
    "evenElems = []\n",
    "for e in L:\n",
    "    if e % 2 == 0:\n",
    "        evenElems.append(e)\n",
    "        \n",
    "print evenElems"
   ]
  },
  {
   "cell_type": "code",
   "execution_count": 34,
   "metadata": {},
   "outputs": [
    {
     "name": "stdout",
     "output_type": "stream",
     "text": [
      "3番目の月はMar\n",
      "AprとJanは3つ離れている\n"
     ]
    }
   ],
   "source": [
    "monthNumbers = {\n",
    "    'Jan':1, 'Feb':2, 'Mar':3, 'Apr':4, 'May':5, 1:'Jan', 2:'Feb', 3:'Mar', 4:'Apr', 5:'May'\n",
    "}\n",
    "\n",
    "print '3番目の月は' + monthNumbers[3]\n",
    "dist = monthNumbers['Apr'] - monthNumbers['Jan']\n",
    "print 'AprとJanは' + str(dist) + 'つ離れている'"
   ]
  },
  {
   "cell_type": "raw",
   "metadata": {},
   "source": [
    "p.73"
   ]
  },
  {
   "cell_type": "code",
   "execution_count": 35,
   "metadata": {},
   "outputs": [
    {
     "name": "stdout",
     "output_type": "stream",
     "text": [
      "[1, 2, 3, 4, 5, 'Apr', 'Feb', 'Jan', 'Mar', 'May']\n"
     ]
    }
   ],
   "source": [
    "keys = []\n",
    "for e in monthNumbers:\n",
    "    keys.append(e)\n",
    "keys.sort()\n",
    "print keys"
   ]
  },
  {
   "cell_type": "raw",
   "metadata": {},
   "source": [
    "p.74"
   ]
  },
  {
   "cell_type": "code",
   "execution_count": 36,
   "metadata": {},
   "outputs": [],
   "source": [
    "EtoF = {'bread':'pain', 'wine':'vin', 'with':'avec', 'I':'Je',\n",
    "        'eat':'mange', 'drink':'bois', 'John':'Jean',\n",
    "        'friends':'amis', 'and': 'et', 'of':'du','red':'rouge'}\n",
    "FtoE = {'pain':'bread', 'vin':'wine', 'avec':'with', 'Je':'I',\n",
    "        'mange':'eat', 'bois':'drink', 'Jean':'John',\n",
    "        'amis':'friends', 'et':'and', 'du':'of', 'rouge':'red'}\n",
    "dicts = {'English to French':EtoF, 'French to English':FtoE}"
   ]
  },
  {
   "cell_type": "code",
   "execution_count": 37,
   "metadata": {},
   "outputs": [],
   "source": [
    "def translateWord(word, dictionary):\n",
    "    if word in dictionary.keys():\n",
    "        return dictionary[word]\n",
    "    elif word != '':\n",
    "        return '\"' + word + '\"'\n",
    "    return word"
   ]
  },
  {
   "cell_type": "code",
   "execution_count": 38,
   "metadata": {},
   "outputs": [],
   "source": [
    "def translate(phrase, dicts, direction):\n",
    "    UCLetters = 'ABCDEFGHIJKLMNOPQRSTUVWXYZ'\n",
    "    LCLetters = 'abcdefghijklmnopqrstuvwxyz'\n",
    "    letters = UCLetters + LCLetters\n",
    "    dictionary = dicts[direction]\n",
    "    translation = ''\n",
    "    word = ''\n",
    "    for c in phrase:\n",
    "        if c in letters:\n",
    "            word = word + c\n",
    "        else:\n",
    "            translation = translation + translateWord(word, dictionary) + c\n",
    "            word = ''\n",
    "    return translation + ' ' + translateWord(word, dictionary)"
   ]
  },
  {
   "cell_type": "code",
   "execution_count": 39,
   "metadata": {},
   "outputs": [
    {
     "name": "stdout",
     "output_type": "stream",
     "text": [
      "Je bois \"good\" rouge vin, et mange pain. \n",
      "I drink of wine red. \n"
     ]
    }
   ],
   "source": [
    "print translate('I drink good red wine, and eat bread.', dicts,'English to French')\n",
    "print translate('Je bois du vin rouge.', dicts, 'French to English')"
   ]
  },
  {
   "cell_type": "code",
   "execution_count": 40,
   "metadata": {},
   "outputs": [
    {
     "name": "stdout",
     "output_type": "stream",
     "text": [
      "I wood of wine red. \n"
     ]
    }
   ],
   "source": [
    "FtoE['bois'] = 'wood'\n",
    "print translate('Je bois du vin rouge.', dicts, 'French to English')"
   ]
  },
  {
   "cell_type": "raw",
   "metadata": {},
   "source": [
    "p.75"
   ]
  },
  {
   "cell_type": "code",
   "execution_count": 41,
   "metadata": {},
   "outputs": [],
   "source": [
    "FtoE['blanc'] = 'white'"
   ]
  },
  {
   "cell_type": "code",
   "execution_count": 42,
   "metadata": {},
   "outputs": [],
   "source": [
    "def keySearch(L, k):\n",
    "    for elem in L:\n",
    "        if elem[0] == k:\n",
    "            return elem[1]\n",
    "    return None"
   ]
  }
 ],
 "metadata": {
  "kernelspec": {
   "display_name": "Python 2",
   "language": "python",
   "name": "python2"
  },
  "language_info": {
   "codemirror_mode": {
    "name": "ipython",
    "version": 2
   },
   "file_extension": ".py",
   "mimetype": "text/x-python",
   "name": "python",
   "nbconvert_exporter": "python",
   "pygments_lexer": "ipython2",
   "version": "2.7.15"
  }
 },
 "nbformat": 4,
 "nbformat_minor": 2
}
