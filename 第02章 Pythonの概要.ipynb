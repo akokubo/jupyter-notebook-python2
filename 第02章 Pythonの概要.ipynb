{
 "cells": [
  {
   "cell_type": "raw",
   "metadata": {},
   "source": [
    "p.11"
   ]
  },
  {
   "cell_type": "code",
   "execution_count": 1,
   "metadata": {},
   "outputs": [
    {
     "name": "stdout",
     "output_type": "stream",
     "text": [
      "ヤンキース優勢！\n",
      "ボストン以外では！\n",
      "ヤンキース優勢、ボストン以外では！\n"
     ]
    }
   ],
   "source": [
    "print 'ヤンキース優勢！'\n",
    "print 'ボストン以外では！'\n",
    "print 'ヤンキース優勢、' + 'ボストン以外では！'"
   ]
  },
  {
   "cell_type": "raw",
   "metadata": {},
   "source": [
    "p.12"
   ]
  },
  {
   "cell_type": "code",
   "execution_count": 2,
   "metadata": {},
   "outputs": [
    {
     "data": {
      "text/plain": [
       "5"
      ]
     },
     "execution_count": 2,
     "metadata": {},
     "output_type": "execute_result"
    }
   ],
   "source": [
    "3 + 2"
   ]
  },
  {
   "cell_type": "code",
   "execution_count": 3,
   "metadata": {},
   "outputs": [
    {
     "data": {
      "text/plain": [
       "5.0"
      ]
     },
     "execution_count": 3,
     "metadata": {},
     "output_type": "execute_result"
    }
   ],
   "source": [
    "3.0 + 2.0"
   ]
  },
  {
   "cell_type": "code",
   "execution_count": 4,
   "metadata": {},
   "outputs": [
    {
     "data": {
      "text/plain": [
       "True"
      ]
     },
     "execution_count": 4,
     "metadata": {},
     "output_type": "execute_result"
    }
   ],
   "source": [
    "3 != 2"
   ]
  },
  {
   "cell_type": "code",
   "execution_count": 5,
   "metadata": {},
   "outputs": [
    {
     "data": {
      "text/plain": [
       "int"
      ]
     },
     "execution_count": 5,
     "metadata": {},
     "output_type": "execute_result"
    }
   ],
   "source": [
    "type(3)"
   ]
  },
  {
   "cell_type": "code",
   "execution_count": 6,
   "metadata": {},
   "outputs": [
    {
     "data": {
      "text/plain": [
       "float"
      ]
     },
     "execution_count": 6,
     "metadata": {},
     "output_type": "execute_result"
    }
   ],
   "source": [
    "type(3.0)"
   ]
  },
  {
   "cell_type": "raw",
   "metadata": {},
   "source": [
    "p.15"
   ]
  },
  {
   "cell_type": "code",
   "execution_count": 7,
   "metadata": {},
   "outputs": [
    {
     "name": "stdout",
     "output_type": "stream",
     "text": [
      "x = 3\n",
      "y = 2\n"
     ]
    }
   ],
   "source": [
    "x, y = 2, 3\n",
    "x, y = y, x\n",
    "print 'x =', x\n",
    "print 'y =', y"
   ]
  },
  {
   "cell_type": "raw",
   "metadata": {},
   "source": [
    "p.18"
   ]
  },
  {
   "cell_type": "code",
   "execution_count": 8,
   "metadata": {},
   "outputs": [
    {
     "name": "stdout",
     "output_type": "stream",
     "text": [
      "偶数\n",
      "条件に応じて実行\n"
     ]
    }
   ],
   "source": [
    "x = 2\n",
    "if x % 2 == 0:\n",
    "    print '偶数'\n",
    "else:\n",
    "    print '奇数'\n",
    "print '条件に応じて実行'"
   ]
  },
  {
   "cell_type": "code",
   "execution_count": 9,
   "metadata": {},
   "outputs": [
    {
     "name": "stdout",
     "output_type": "stream",
     "text": [
      "2で割り切れ、3で割り切れない\n"
     ]
    }
   ],
   "source": [
    "x = 2\n",
    "if x % 2 == 0:\n",
    "    if x % 3 == 0:\n",
    "        print '2と3で割り切れる'\n",
    "    else:\n",
    "        print '2で割り切れ、3で割り切れない'\n",
    "elif x % 3 == 0:\n",
    "    print '3で割り切れ、2で割り切れない'"
   ]
  },
  {
   "cell_type": "code",
   "execution_count": 10,
   "metadata": {},
   "outputs": [
    {
     "name": "stdout",
     "output_type": "stream",
     "text": [
      "xが最小\n"
     ]
    }
   ],
   "source": [
    "x = 2\n",
    "y = 3\n",
    "z = 4\n",
    "\n",
    "if x < y and x < z:\n",
    "    print 'xが最小'\n",
    "elif y < z:\n",
    "    print 'yが最小'\n",
    "else:\n",
    "    print 'zが最小'"
   ]
  },
  {
   "cell_type": "raw",
   "metadata": {},
   "source": [
    "p.19"
   ]
  },
  {
   "cell_type": "code",
   "execution_count": 11,
   "metadata": {},
   "outputs": [
    {
     "name": "stdout",
     "output_type": "stream",
     "text": [
      "最大の奇数は13です\n"
     ]
    }
   ],
   "source": [
    "# 指練習\n",
    "# 3つの数\n",
    "x = 10\n",
    "y = 13\n",
    "z = 9\n",
    "\n",
    "# 最大の奇数(0の場合は奇数がなかった)\n",
    "max_odd = 0\n",
    "\n",
    "if x % 2 == 1:\n",
    "    max_odd = x\n",
    "if y % 2 == 1 and y > max_odd:\n",
    "    max_odd = y\n",
    "if z % 2 == 1 and z > max_odd:\n",
    "    max_odd = z\n",
    "\n",
    "if max_odd != 0:\n",
    "    print '最大の奇数は' + str(max_odd) + 'です'\n",
    "else:\n",
    "    print '奇数はありません'"
   ]
  },
  {
   "cell_type": "code",
   "execution_count": 12,
   "metadata": {},
   "outputs": [
    {
     "data": {
      "text/plain": [
       "'a'"
      ]
     },
     "execution_count": 12,
     "metadata": {},
     "output_type": "execute_result"
    }
   ],
   "source": [
    "'a'"
   ]
  },
  {
   "cell_type": "code",
   "execution_count": 13,
   "metadata": {},
   "outputs": [
    {
     "data": {
      "text/plain": [
       "12"
      ]
     },
     "execution_count": 13,
     "metadata": {},
     "output_type": "execute_result"
    }
   ],
   "source": [
    "3 * 4"
   ]
  },
  {
   "cell_type": "code",
   "execution_count": 14,
   "metadata": {},
   "outputs": [
    {
     "data": {
      "text/plain": [
       "'aaa'"
      ]
     },
     "execution_count": 14,
     "metadata": {},
     "output_type": "execute_result"
    }
   ],
   "source": [
    "3 * 'a'"
   ]
  },
  {
   "cell_type": "code",
   "execution_count": 15,
   "metadata": {},
   "outputs": [
    {
     "data": {
      "text/plain": [
       "7"
      ]
     },
     "execution_count": 15,
     "metadata": {},
     "output_type": "execute_result"
    }
   ],
   "source": [
    "3 + 4"
   ]
  },
  {
   "cell_type": "code",
   "execution_count": 16,
   "metadata": {},
   "outputs": [
    {
     "data": {
      "text/plain": [
       "'aa'"
      ]
     },
     "execution_count": 16,
     "metadata": {},
     "output_type": "execute_result"
    }
   ],
   "source": [
    "'a' + 'a'"
   ]
  },
  {
   "cell_type": "raw",
   "metadata": {},
   "source": [
    "p.20"
   ]
  },
  {
   "cell_type": "code",
   "execution_count": 17,
   "metadata": {},
   "outputs": [
    {
     "ename": "NameError",
     "evalue": "name 'a' is not defined",
     "output_type": "error",
     "traceback": [
      "\u001b[0;31m---------------------------------------------------------------------------\u001b[0m",
      "\u001b[0;31mNameError\u001b[0m                                 Traceback (most recent call last)",
      "\u001b[0;32m<ipython-input-17-3f786850e387>\u001b[0m in \u001b[0;36m<module>\u001b[0;34m()\u001b[0m\n\u001b[0;32m----> 1\u001b[0;31m \u001b[0ma\u001b[0m\u001b[0;34m\u001b[0m\u001b[0m\n\u001b[0m",
      "\u001b[0;31mNameError\u001b[0m: name 'a' is not defined"
     ]
    }
   ],
   "source": [
    "a"
   ]
  },
  {
   "cell_type": "code",
   "execution_count": 18,
   "metadata": {},
   "outputs": [
    {
     "ename": "TypeError",
     "evalue": "can't multiply sequence by non-int of type 'str'",
     "output_type": "error",
     "traceback": [
      "\u001b[0;31m---------------------------------------------------------------------------\u001b[0m",
      "\u001b[0;31mTypeError\u001b[0m                                 Traceback (most recent call last)",
      "\u001b[0;32m<ipython-input-18-f770e0284bd4>\u001b[0m in \u001b[0;36m<module>\u001b[0;34m()\u001b[0m\n\u001b[0;32m----> 1\u001b[0;31m \u001b[0;34m'a'\u001b[0m \u001b[0;34m*\u001b[0m \u001b[0;34m'a'\u001b[0m\u001b[0;34m\u001b[0m\u001b[0m\n\u001b[0m",
      "\u001b[0;31mTypeError\u001b[0m: can't multiply sequence by non-int of type 'str'"
     ]
    }
   ],
   "source": [
    "'a' * 'a'"
   ]
  },
  {
   "cell_type": "raw",
   "metadata": {},
   "source": [
    "p.21"
   ]
  },
  {
   "cell_type": "code",
   "execution_count": 19,
   "metadata": {},
   "outputs": [
    {
     "name": "stdout",
     "output_type": "stream",
     "text": [
      "5ZCN5YmN44KS5YWl5YqbOiA=\n",
      "こくぼあつし\n"
     ]
    }
   ],
   "source": [
    "name = raw_input('名前を入力: ')"
   ]
  },
  {
   "cell_type": "code",
   "execution_count": 20,
   "metadata": {},
   "outputs": [
    {
     "name": "stdout",
     "output_type": "stream",
     "text": [
      "あなたは こくぼあつし ですか？\n"
     ]
    }
   ],
   "source": [
    "print 'あなたは', name, 'ですか？'"
   ]
  },
  {
   "cell_type": "code",
   "execution_count": 21,
   "metadata": {},
   "outputs": [
    {
     "name": "stdout",
     "output_type": "stream",
     "text": [
      "あなたはこくぼあつしですか？\n"
     ]
    }
   ],
   "source": [
    "print 'あなたは' + name + 'ですか？'"
   ]
  },
  {
   "cell_type": "code",
   "execution_count": 22,
   "metadata": {},
   "outputs": [
    {
     "name": "stdout",
     "output_type": "stream",
     "text": [
      "5pW05pWw44KS5YWl5YqbOg==\n",
      "10\n"
     ]
    }
   ],
   "source": [
    "n = raw_input('整数を入力:')"
   ]
  },
  {
   "cell_type": "code",
   "execution_count": 23,
   "metadata": {},
   "outputs": [
    {
     "name": "stdout",
     "output_type": "stream",
     "text": [
      "<type 'str'>\n"
     ]
    }
   ],
   "source": [
    "print type(n)"
   ]
  },
  {
   "cell_type": "raw",
   "metadata": {},
   "source": [
    "p.22"
   ]
  },
  {
   "cell_type": "code",
   "execution_count": 24,
   "metadata": {},
   "outputs": [
    {
     "name": "stdout",
     "output_type": "stream",
     "text": [
      "3*3 = 9\n"
     ]
    }
   ],
   "source": [
    "# 整数の自乗を難しい方法で求める\n",
    "x = 3 # 自乗する数\n",
    "ans = 0 # 結果\n",
    "itersLeft = x # 残りの繰返し回数\n",
    "while (itersLeft !=0): # itersLeftが0になるまで繰返す\n",
    "    ans = ans + x # ansをx増やす\n",
    "    itersLeft = itersLeft - 1 #itersLeftを1減らす\n",
    "print str(x) + '*' + str(x) + ' = ' + str(ans)"
   ]
  },
  {
   "cell_type": "raw",
   "metadata": {},
   "source": [
    "p.23"
   ]
  },
  {
   "cell_type": "code",
   "execution_count": 25,
   "metadata": {
    "scrolled": true
   },
   "outputs": [
    {
     "name": "stdout",
     "output_type": "stream",
     "text": [
      "5q2j44Gu5pW05pWw44KS5YWl5Yqb44GX44Gm44GP44Gg44GV44GEOg==\n",
      "7\n",
      "5q2j44Gu5pW05pWw44KS5YWl5Yqb44GX44Gm44GP44Gg44GV44GEOg==\n",
      "4\n",
      "5q2j44Gu5pW05pWw44KS5YWl5Yqb44GX44Gm44GP44Gg44GV44GEOg==\n",
      "19\n",
      "5q2j44Gu5pW05pWw44KS5YWl5Yqb44GX44Gm44GP44Gg44GV44GEOg==\n",
      "58\n",
      "5q2j44Gu5pW05pWw44KS5YWl5Yqb44GX44Gm44GP44Gg44GV44GEOg==\n",
      "17\n",
      "5q2j44Gu5pW05pWw44KS5YWl5Yqb44GX44Gm44GP44Gg44GV44GEOg==\n",
      "02\n",
      "5q2j44Gu5pW05pWw44KS5YWl5Yqb44GX44Gm44GP44Gg44GV44GEOg==\n",
      "84\n",
      "5q2j44Gu5pW05pWw44KS5YWl5Yqb44GX44Gm44GP44Gg44GV44GEOg==\n",
      "1784\n",
      "5q2j44Gu5pW05pWw44KS5YWl5Yqb44GX44Gm44GP44Gg44GV44GEOg==\n",
      "8385\n",
      "5q2j44Gu5pW05pWw44KS5YWl5Yqb44GX44Gm44GP44Gg44GV44GEOg==\n",
      "730572\n",
      "最大の奇数は8385でした\n"
     ]
    }
   ],
   "source": [
    "itersLeft = 10 # 繰り返す回数\n",
    "max_odd = 0\n",
    "\n",
    "while (itersLeft > 0):\n",
    "    # 値を読み込んで整数に変換してtmpに代入\n",
    "    tmp = int(raw_input('正の整数を入力してください:'))\n",
    "    if tmp % 2 == 1 and max_odd < tmp:\n",
    "        max_odd = tmp\n",
    "    itersLeft = itersLeft - 1\n",
    "\n",
    "if max_odd != 0:\n",
    "    print '最大の奇数は' + str(max_odd) + 'でした'\n",
    "else:\n",
    "    print '奇数は入力されませんでした'"
   ]
  }
 ],
 "metadata": {
  "kernelspec": {
   "display_name": "Python 2",
   "language": "python",
   "name": "python2"
  },
  "language_info": {
   "codemirror_mode": {
    "name": "ipython",
    "version": 2
   },
   "file_extension": ".py",
   "mimetype": "text/x-python",
   "name": "python",
   "nbconvert_exporter": "python",
   "pygments_lexer": "ipython2",
   "version": "2.7.15"
  }
 },
 "nbformat": 4,
 "nbformat_minor": 2
}
