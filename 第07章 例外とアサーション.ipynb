{
 "cells": [
  {
   "cell_type": "raw",
   "metadata": {},
   "source": [
    "p.93"
   ]
  },
  {
   "cell_type": "code",
   "execution_count": 1,
   "metadata": {},
   "outputs": [
    {
     "ename": "IndexError",
     "evalue": "list index out of range",
     "output_type": "error",
     "traceback": [
      "\u001b[0;31m---------------------------------------------------------------------------\u001b[0m",
      "\u001b[0;31mIndexError\u001b[0m                                Traceback (most recent call last)",
      "\u001b[0;32m<ipython-input-1-8242c529ab10>\u001b[0m in \u001b[0;36m<module>\u001b[0;34m()\u001b[0m\n\u001b[1;32m      1\u001b[0m \u001b[0mtest\u001b[0m \u001b[0;34m=\u001b[0m \u001b[0;34m[\u001b[0m\u001b[0;36m1\u001b[0m\u001b[0;34m,\u001b[0m \u001b[0;36m2\u001b[0m\u001b[0;34m,\u001b[0m \u001b[0;36m3\u001b[0m\u001b[0;34m]\u001b[0m\u001b[0;34m\u001b[0m\u001b[0m\n\u001b[0;32m----> 2\u001b[0;31m \u001b[0mtest\u001b[0m\u001b[0;34m[\u001b[0m\u001b[0;36m3\u001b[0m\u001b[0;34m]\u001b[0m\u001b[0;34m\u001b[0m\u001b[0m\n\u001b[0m",
      "\u001b[0;31mIndexError\u001b[0m: list index out of range"
     ]
    }
   ],
   "source": [
    "test = [1, 2, 3]\n",
    "test[3]"
   ]
  },
  {
   "cell_type": "raw",
   "metadata": {},
   "source": [
    "p.94"
   ]
  },
  {
   "cell_type": "code",
   "execution_count": 2,
   "metadata": {},
   "outputs": [],
   "source": [
    "numSuccess = 3\n",
    "numFailures = 4"
   ]
  },
  {
   "cell_type": "code",
   "execution_count": 3,
   "metadata": {},
   "outputs": [
    {
     "name": "stdout",
     "output_type": "stream",
     "text": [
      "成功/失敗の割合は 0.75\n",
      "今ここ\n"
     ]
    }
   ],
   "source": [
    "successFailureRatio = numSuccess / float(numFailures)\n",
    "print '成功/失敗の割合は', successFailureRatio\n",
    "print '今ここ'"
   ]
  },
  {
   "cell_type": "code",
   "execution_count": 4,
   "metadata": {},
   "outputs": [
    {
     "name": "stdout",
     "output_type": "stream",
     "text": [
      "成功/失敗の割合は 0.75\n",
      "今ここ\n"
     ]
    }
   ],
   "source": [
    "try:\n",
    "    successFailureRatio = numSuccess / float(numFailures)\n",
    "    print '成功/失敗の割合は', successFailureRatio\n",
    "except ZeroDivisionError:\n",
    "    print '失敗していないので、成功/失敗の割合が計算できません'\n",
    "print '今ここ'"
   ]
  },
  {
   "cell_type": "code",
   "execution_count": 5,
   "metadata": {},
   "outputs": [],
   "source": [
    "numSuccess = 3\n",
    "numFailures = 0"
   ]
  },
  {
   "cell_type": "code",
   "execution_count": 6,
   "metadata": {},
   "outputs": [
    {
     "name": "stdout",
     "output_type": "stream",
     "text": [
      "失敗していないので、成功/失敗の割合が計算できません\n",
      "今ここ\n"
     ]
    }
   ],
   "source": [
    "try:\n",
    "    successFailureRatio = numSuccess / float(numFailures)\n",
    "    print '成功/失敗の割合は', successFailureRatio\n",
    "except ZeroDivisionError:\n",
    "    print '失敗していないので、成功/失敗の割合が計算できません'\n",
    "print '今ここ'"
   ]
  },
  {
   "cell_type": "code",
   "execution_count": 7,
   "metadata": {},
   "outputs": [],
   "source": [
    "def sumDigits(s):\n",
    "    \"\"\"sを文字列とする。\n",
    "       sの中の数字の合計を返す。\n",
    "       例えば、sが'a2b3c'ならば5を返す\"\"\"\n",
    "    sum = 0\n",
    "    for c in s:\n",
    "        try:\n",
    "           sum += int(c)\n",
    "        except ValueError: # int(c)が失敗したとき\n",
    "           continue # pass # 何もしない\n",
    "    return sum"
   ]
  },
  {
   "cell_type": "code",
   "execution_count": 8,
   "metadata": {},
   "outputs": [
    {
     "name": "stdout",
     "output_type": "stream",
     "text": [
      "0\n",
      "1\n",
      "3\n",
      "0\n",
      "0\n",
      "3\n"
     ]
    }
   ],
   "source": [
    "print sumDigits('')\n",
    "print sumDigits('1')\n",
    "print sumDigits('12')\n",
    "print sumDigits('a')\n",
    "print sumDigits('ab')\n",
    "print sumDigits('a1b2')"
   ]
  },
  {
   "cell_type": "raw",
   "metadata": {},
   "source": [
    "p.95"
   ]
  },
  {
   "cell_type": "code",
   "execution_count": 9,
   "metadata": {},
   "outputs": [
    {
     "name": "stdout",
     "output_type": "stream",
     "text": [
      "Enter an integer:10\n",
      "入力された数の2乗は100\n"
     ]
    }
   ],
   "source": [
    "val = int(raw_input('Enter an integer:'))\n",
    "print '入力された数の2乗は' + str(val ** 2)"
   ]
  },
  {
   "cell_type": "code",
   "execution_count": 10,
   "metadata": {},
   "outputs": [
    {
     "name": "stdout",
     "output_type": "stream",
     "text": [
      "Enter an integer:abc\n"
     ]
    },
    {
     "ename": "ValueError",
     "evalue": "invalid literal for int() with base 10: 'abc'",
     "output_type": "error",
     "traceback": [
      "\u001b[0;31m---------------------------------------------------------------------------\u001b[0m",
      "\u001b[0;31mValueError\u001b[0m                                Traceback (most recent call last)",
      "\u001b[0;32m<ipython-input-10-5c652cd792fe>\u001b[0m in \u001b[0;36m<module>\u001b[0;34m()\u001b[0m\n\u001b[0;32m----> 1\u001b[0;31m \u001b[0mval\u001b[0m \u001b[0;34m=\u001b[0m \u001b[0mint\u001b[0m\u001b[0;34m(\u001b[0m\u001b[0mraw_input\u001b[0m\u001b[0;34m(\u001b[0m\u001b[0;34m'Enter an integer:'\u001b[0m\u001b[0;34m)\u001b[0m\u001b[0;34m)\u001b[0m\u001b[0;34m\u001b[0m\u001b[0m\n\u001b[0m\u001b[1;32m      2\u001b[0m \u001b[0;32mprint\u001b[0m \u001b[0;34m'入力された数の2乗は'\u001b[0m \u001b[0;34m+\u001b[0m \u001b[0mstr\u001b[0m\u001b[0;34m(\u001b[0m\u001b[0mval\u001b[0m \u001b[0;34m**\u001b[0m \u001b[0;36m2\u001b[0m\u001b[0;34m)\u001b[0m\u001b[0;34m\u001b[0m\u001b[0m\n",
      "\u001b[0;31mValueError\u001b[0m: invalid literal for int() with base 10: 'abc'"
     ]
    }
   ],
   "source": [
    "val = int(raw_input('Enter an integer:'))\n",
    "print '入力された数の2乗は' + str(val ** 2)"
   ]
  },
  {
   "cell_type": "code",
   "execution_count": 11,
   "metadata": {},
   "outputs": [
    {
     "name": "stdout",
     "output_type": "stream",
     "text": [
      "Enter an integer:abc\n",
      "abcは整数ではありません\n",
      "Enter an integer:10\n",
      "入力された数の2乗は100\n"
     ]
    }
   ],
   "source": [
    "while True:\n",
    "    val = raw_input('Enter an integer:')\n",
    "    try:\n",
    "        val = int(val)\n",
    "        print '入力された数の2乗は' + str(val ** 2)\n",
    "        break # whileループから抜ける\n",
    "    except ValueError:\n",
    "        print str(val) + 'は整数ではありません'"
   ]
  },
  {
   "cell_type": "code",
   "execution_count": 12,
   "metadata": {},
   "outputs": [],
   "source": [
    "def readInt():\n",
    "    while True:\n",
    "        val = raw_input('Enter an integer: ')\n",
    "        try:\n",
    "            val = int(val)\n",
    "            return val\n",
    "        except ValueError:\n",
    "            print str(val) + 'は整数ではありません'"
   ]
  },
  {
   "cell_type": "code",
   "execution_count": 13,
   "metadata": {},
   "outputs": [
    {
     "name": "stdout",
     "output_type": "stream",
     "text": [
      "Enter an integer: abc\n",
      "abcは整数ではありません\n",
      "Enter an integer: 10\n",
      "入力された数の2乗は100\n"
     ]
    }
   ],
   "source": [
    "while True:\n",
    "    try:\n",
    "        val = readInt()\n",
    "        print '入力された数の2乗は' + str(val ** 2)\n",
    "        break # whileループから抜ける\n",
    "    except ValueError:\n",
    "        print str(val) + 'は整数ではありません'"
   ]
  },
  {
   "cell_type": "raw",
   "metadata": {},
   "source": [
    "p.96"
   ]
  },
  {
   "cell_type": "code",
   "execution_count": 14,
   "metadata": {},
   "outputs": [],
   "source": [
    "def readVal(valType, requestMsg, errorMsg):\n",
    "    while True:\n",
    "        val = raw_input(requestMsg + ': ')\n",
    "        try:\n",
    "            val = valType(val)\n",
    "            return val\n",
    "        except ValueError:\n",
    "            print str(val) + errorMsg"
   ]
  },
  {
   "cell_type": "code",
   "execution_count": 15,
   "metadata": {},
   "outputs": [
    {
     "name": "stdout",
     "output_type": "stream",
     "text": [
      "Enter an integer: abc\n",
      "abcは整数ではありません\n",
      "Enter an integer: 10\n",
      "10\n"
     ]
    }
   ],
   "source": [
    "val = readVal(int, 'Enter an integer', 'は整数ではありません')\n",
    "print val"
   ]
  },
  {
   "cell_type": "raw",
   "metadata": {},
   "source": [
    "p.97"
   ]
  },
  {
   "cell_type": "code",
   "execution_count": 16,
   "metadata": {},
   "outputs": [],
   "source": [
    "def findAnEven(l):\n",
    "    \"\"\"lをint型の要素を持つリストとする。\n",
    "       lの中で最初に現れた偶数を返す。\n",
    "       lが偶数を含まなければValueErrorを引き起こす。\"\"\"\n",
    "    for i in l:\n",
    "        if i % 2 == 0:\n",
    "            return i\n",
    "    raise ValueError('findAnEvenは偶数を含まないリストを引数に呼び出されました。')"
   ]
  },
  {
   "cell_type": "code",
   "execution_count": 17,
   "metadata": {},
   "outputs": [],
   "source": [
    "def testFindAnEven():\n",
    "    testSuite = ([], [0], [1], [2], [1, 2], [1, 2, 3], [1, 2, 3, 4], [4, 3, 2, 1])\n",
    "    for i in range(len(testSuite)):\n",
    "        try:\n",
    "            print str(testSuite[i]) + ' -> ' + str(findAnEven(testSuite[i]))\n",
    "        except ValueError, msg:\n",
    "            print str(testSuite[i]) + ' -> ' + str(msg)"
   ]
  },
  {
   "cell_type": "code",
   "execution_count": 18,
   "metadata": {},
   "outputs": [
    {
     "name": "stdout",
     "output_type": "stream",
     "text": [
      "[] -> findAnEvenは偶数を含まないリストを引数に呼び出されました。\n",
      "[0] -> 0\n",
      "[1] -> findAnEvenは偶数を含まないリストを引数に呼び出されました。\n",
      "[2] -> 2\n",
      "[1, 2] -> 2\n",
      "[1, 2, 3] -> 2\n",
      "[1, 2, 3, 4] -> 2\n",
      "[4, 3, 2, 1] -> 4\n"
     ]
    }
   ],
   "source": [
    "testFindAnEven()"
   ]
  },
  {
   "cell_type": "raw",
   "metadata": {},
   "source": [
    "p.98"
   ]
  },
  {
   "cell_type": "code",
   "execution_count": 19,
   "metadata": {},
   "outputs": [],
   "source": [
    "def getRatios(vect1, vect2):\n",
    "    \"\"\"vect1とvect2を同じ長さのリストとする。\n",
    "    vet1[i]/vect2[i]を意味する値からなるリストを返す。\"\"\"\n",
    "    ratios = []\n",
    "    for index in range(len(vect1)):\n",
    "        try:\n",
    "            ratios.append(vect1[index] / float(vect2[index]))\n",
    "        except ZeroDivisionError:\n",
    "            ratios.append(float('nan')) # nan = Not a Number\n",
    "        except:\n",
    "            raise ValueError('getRatiosは不適切な引数で呼び出されました')\n",
    "    return ratios"
   ]
  },
  {
   "cell_type": "code",
   "execution_count": 20,
   "metadata": {},
   "outputs": [
    {
     "name": "stdout",
     "output_type": "stream",
     "text": [
      "[1.0, 1.0, nan, 2.0]\n",
      "[]\n",
      "getRatiosは不適切な引数で呼び出されました\n"
     ]
    }
   ],
   "source": [
    "try:\n",
    "    print getRatios([1.0, 2.0, 7.0, 6.0], [1.0, 2.0, 0.0, 3.0])\n",
    "    print getRatios([], [])\n",
    "    print getRatios([1.0, 2.0], [3.0])\n",
    "except ValueError, msg:\n",
    "    print msg"
   ]
  },
  {
   "cell_type": "raw",
   "metadata": {},
   "source": [
    "p.99"
   ]
  },
  {
   "cell_type": "code",
   "execution_count": 21,
   "metadata": {},
   "outputs": [],
   "source": [
    "def getRatios(vect1, vect2):\n",
    "    \"\"\"vect1とvect2を同じ長さのリストとする。\n",
    "    vet1[i]/vect2[i]を意味する値からなるリストを返す。\"\"\"\n",
    "    ratios = []\n",
    "    if len(vect1) != len(vect2): # リストの要素数が異なる\n",
    "        raise ValueError('getRatiosは不適切な引数で呼び出されました')\n",
    "    for index in range(len(vect1)):\n",
    "        vect1Elem = vect1[index]\n",
    "        vect2Elem = vect2[index]\n",
    "        if (type(vect1Elem) not in (int, float)) \\\n",
    "           or (type(vect2Elem) not in (int, float)): # 要素は整数か小数\n",
    "            raise ValueError('getRatiosは不適切な引数で呼び出されました')\n",
    "        if vect2Elem == 0.0: # ゼロ除算\n",
    "            ratios.append(float('NaN'))\n",
    "        else:\n",
    "            ratios.append(vect1Elem / vect2Elem)\n",
    "    return ratios"
   ]
  },
  {
   "cell_type": "code",
   "execution_count": 22,
   "metadata": {},
   "outputs": [
    {
     "name": "stdout",
     "output_type": "stream",
     "text": [
      "[1.0, 1.0, nan, 2.0]\n",
      "[]\n",
      "getRatiosは不適切な引数で呼び出されました\n"
     ]
    }
   ],
   "source": [
    "try:\n",
    "    print getRatios([1.0, 2.0, 7.0, 6.0], [1.0, 2.0, 0.0, 3.0])\n",
    "    print getRatios([], [])\n",
    "    print getRatios([1.0, 2.0], [3.0])\n",
    "except ValueError, msg:\n",
    "    print msg"
   ]
  },
  {
   "cell_type": "code",
   "execution_count": 23,
   "metadata": {},
   "outputs": [],
   "source": [
    "def getGrades(fname):\n",
    "    try:\n",
    "        gradesFile = open(fname, 'r') # 読み込むファイルを開く\n",
    "    except IOError: # ファイルが開けないとか\n",
    "        raise ValueError('getGradesは' + fname + 'を開けません')\n",
    "    grades = []\n",
    "    for line in gradesFile:\n",
    "        try:\n",
    "            grades.append(float(line))\n",
    "        except:\n",
    "            raise ValueError('行を小数に変換できません')\n",
    "    return grades"
   ]
  },
  {
   "cell_type": "code",
   "execution_count": 24,
   "metadata": {},
   "outputs": [
    {
     "name": "stdout",
     "output_type": "stream",
     "text": [
      "成績の中央値は39.0\n"
     ]
    }
   ],
   "source": [
    "try:\n",
    "    grades = getGrades('quiz1grades.txt')\n",
    "    grades.sort()\n",
    "    median = grades[len(grades) // 2] # 2で割って小数点以下を切り捨て\n",
    "    print '成績の中央値は' + str(median)\n",
    "except ValueError, errorMsg:\n",
    "    print 'うわーい！', errorMsg"
   ]
  }
 ],
 "metadata": {
  "kernelspec": {
   "display_name": "Python 2",
   "language": "python",
   "name": "python2"
  },
  "language_info": {
   "codemirror_mode": {
    "name": "ipython",
    "version": 2
   },
   "file_extension": ".py",
   "mimetype": "text/x-python",
   "name": "python",
   "nbconvert_exporter": "python",
   "pygments_lexer": "ipython2",
   "version": "2.7.15"
  }
 },
 "nbformat": 4,
 "nbformat_minor": 2
}
