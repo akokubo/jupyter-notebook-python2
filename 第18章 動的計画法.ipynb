{
 "cells": [
  {
   "cell_type": "code",
   "execution_count": 1,
   "metadata": {},
   "outputs": [],
   "source": [
    "def fib(n):\n",
    "    \"\"\"nを0以上の整数とする\n",
    "       n番目のフィボナッチ数を返す\"\"\"\n",
    "    if n == 0 or n == 1:\n",
    "        return 1\n",
    "    else:\n",
    "        return fib(n-1) + fib(n-2)"
   ]
  },
  {
   "cell_type": "code",
   "execution_count": 2,
   "metadata": {},
   "outputs": [],
   "source": [
    "def fastFib(n, memo = {}):\n",
    "    \"\"\"nを0以上の整数とする、memoは再帰呼び出しによってのみ使われる\n",
    "       n番目のフィボナッチ数を返す\"\"\"\n",
    "    if n == 0 or n == 1:\n",
    "        return 1\n",
    "    try:\n",
    "        return memo[n]\n",
    "    except KeyError:\n",
    "        result = fastFib(n-1, memo) + fastFib(n-2, memo)\n",
    "        memo[n] = result\n",
    "        return result"
   ]
  },
  {
   "cell_type": "code",
   "execution_count": 3,
   "metadata": {},
   "outputs": [
    {
     "name": "stdout",
     "output_type": "stream",
     "text": [
      "CPU times: user 477 µs, sys: 150 µs, total: 627 µs\n",
      "Wall time: 567 µs\n"
     ]
    },
    {
     "data": {
      "text/plain": [
       "8670007398507948658051921L"
      ]
     },
     "execution_count": 3,
     "metadata": {},
     "output_type": "execute_result"
    }
   ],
   "source": [
    "%time fastFib(120)"
   ]
  },
  {
   "cell_type": "code",
   "execution_count": 4,
   "metadata": {},
   "outputs": [],
   "source": [
    "class Item(object):\n",
    "    def __init__(self, n, v, w):\n",
    "        self.name = n\n",
    "        self.value = float(v)\n",
    "        self.weight = float(w)\n",
    "    def getName(self):\n",
    "        return self.name\n",
    "    def getValue(self):\n",
    "        return self.value\n",
    "    def getWeight(self):\n",
    "        return self.weight\n",
    "    def __str__(self):\n",
    "        result = '<' + self.name + ', ' + str(self.value) + ', ' + str(self.weight) + '>'\n",
    "        return result"
   ]
  },
  {
   "cell_type": "code",
   "execution_count": 5,
   "metadata": {},
   "outputs": [],
   "source": [
    "def maxVal(toConsider, avail):\n",
    "    \"\"\"toConsiderを品物のリスト、availを重さとする。\n",
    "       それらをパラメータとする0/1ナップサック問題の解である\n",
    "       総重量と品物のリストからなるタプルを返す\"\"\"\n",
    "    if toConsider == [] or avail == 0:\n",
    "        result = (0, ())\n",
    "    elif toConsider[0].getWeight() > avail:\n",
    "        # 右側の分岐のみを探索する\n",
    "        result = maxVal(toConsider[1:], avail)\n",
    "    else:\n",
    "        nextItem = toConsider[0]\n",
    "        # 左側の分岐を探索する\n",
    "        withVal, withToTake = maxVal(toConsider[1:], avail - nextItem.getWeight())\n",
    "        withVal += nextItem.getValue()\n",
    "        # 右側の分岐を探索する\n",
    "        withoutVal, withoutToTake = maxVal(toConsider[1:], avail)\n",
    "        # いい方の分岐を選択\n",
    "        if withVal > withoutVal:\n",
    "            result = (withVal, withToTake + (nextItem,))\n",
    "        else:\n",
    "            result = (withoutVal, withoutToTake)\n",
    "    return result"
   ]
  },
  {
   "cell_type": "code",
   "execution_count": 6,
   "metadata": {},
   "outputs": [],
   "source": [
    "def smallTest():\n",
    "    names = ['a', 'b', 'c', 'd']\n",
    "    vals = [6, 7, 8, 9]\n",
    "    weights = [3, 3, 2, 5]\n",
    "    Items = []\n",
    "    for i in range(len(vals)):\n",
    "        Items.append(Item(names[i], vals[i], weights[i]))\n",
    "    val, taken = maxVal(Items, 5)\n",
    "    for item in taken:\n",
    "        print item\n",
    "    print '選択した項目の合計金額 =', val"
   ]
  },
  {
   "cell_type": "code",
   "execution_count": 7,
   "metadata": {},
   "outputs": [
    {
     "name": "stdout",
     "output_type": "stream",
     "text": [
      "<c, 8.0, 2.0>\n",
      "<b, 7.0, 3.0>\n",
      "選択した項目の合計金額 = 15.0\n"
     ]
    }
   ],
   "source": [
    "smallTest()"
   ]
  },
  {
   "cell_type": "code",
   "execution_count": 8,
   "metadata": {},
   "outputs": [],
   "source": [
    "import random"
   ]
  },
  {
   "cell_type": "code",
   "execution_count": 9,
   "metadata": {},
   "outputs": [],
   "source": [
    "def buildManyItems(numItems, maxVal, maxWeight):\n",
    "    items = []\n",
    "    for i in range(numItems):\n",
    "        items.append(Item(str(i), random.randint(1, maxVal), random.randint(1, maxWeight)))\n",
    "    return items"
   ]
  },
  {
   "cell_type": "code",
   "execution_count": 10,
   "metadata": {},
   "outputs": [],
   "source": [
    "def bigTest(numItems):\n",
    "    items = buildManyItems(numItems, 10, 10)\n",
    "    val, taken = maxVal(items, 40)\n",
    "    print '選択した項目'\n",
    "    for item in taken:\n",
    "        print item\n",
    "    print '選択した項目の合計金額 =', val"
   ]
  },
  {
   "cell_type": "code",
   "execution_count": 11,
   "metadata": {},
   "outputs": [
    {
     "name": "stdout",
     "output_type": "stream",
     "text": [
      "選択した項目\n",
      "<9, 10.0, 6.0>\n",
      "<8, 5.0, 3.0>\n",
      "<7, 8.0, 5.0>\n",
      "<6, 1.0, 3.0>\n",
      "<5, 5.0, 3.0>\n",
      "<4, 7.0, 3.0>\n",
      "<3, 4.0, 1.0>\n",
      "<1, 8.0, 5.0>\n",
      "<0, 7.0, 7.0>\n",
      "選択した項目の合計金額 = 55.0\n"
     ]
    }
   ],
   "source": [
    "bigTest(10)"
   ]
  },
  {
   "cell_type": "code",
   "execution_count": 12,
   "metadata": {},
   "outputs": [],
   "source": [
    "def fastMaxVal(toConsider, avail, memo = {}):\n",
    "    \"\"\"toConsiderを品物のリスト、availを重さ、\n",
    "       memoは再帰呼び出しによってのみ使われるとする。\n",
    "       それらをパラメータとする0/1ナップサック問題の解である\n",
    "       総重量と品物のリストからなるタプルを返す\"\"\"\n",
    "    if (len(toConsider), avail) in memo:\n",
    "        result = memo[(len(toConsider), avail)]\n",
    "    elif toConsider == [] or avail == 0:\n",
    "        result = (0, ())\n",
    "    elif toConsider[0].getWeight() > avail:\n",
    "        # 右側の分岐のみを探索する\n",
    "        result = fastMaxVal(toConsider[1:], avail, memo)\n",
    "    else:\n",
    "        nextItem = toConsider[0]\n",
    "        # 左側の分岐を探索する\n",
    "        withVal, withToTake = fastMaxVal(toConsider[1:], avail - nextItem.getWeight(), memo)\n",
    "        withVal += nextItem.getValue()\n",
    "        # 右側の分岐を探索する\n",
    "        withoutVal, withoutToTake = fastMaxVal(toConsider[1:], avail, memo)\n",
    "        # いい方の分岐を選択\n",
    "        if withVal > withoutVal:\n",
    "            result = (withVal, withToTake + (nextItem,))\n",
    "        else:\n",
    "            result = (withoutVal, withoutToTake)\n",
    "    memo[(len(toConsider), avail)] = result\n",
    "    return result"
   ]
  },
  {
   "cell_type": "code",
   "execution_count": 13,
   "metadata": {},
   "outputs": [],
   "source": [
    "def bigTest(numItems):\n",
    "    items = buildManyItems(numItems, 10, 10)\n",
    "    val, taken = fastMaxVal(items, 1000)\n",
    "    print '選択した項目'\n",
    "    for item in taken:\n",
    "        print item\n",
    "    print '選択した項目の合計金額 =', val"
   ]
  },
  {
   "cell_type": "code",
   "execution_count": 14,
   "metadata": {},
   "outputs": [],
   "source": [
    "def buildManyItems(numItems, maxVal, maxWeight):\n",
    "    items = []\n",
    "    for i in range(numItems):\n",
    "        items.append(Item(str(i), random.randint(1, maxVal), random.randint(1, maxWeight) * random.random()))\n",
    "    return items"
   ]
  },
  {
   "cell_type": "code",
   "execution_count": 15,
   "metadata": {},
   "outputs": [
    {
     "name": "stdout",
     "output_type": "stream",
     "text": [
      "選択した項目\n",
      "<9, 2.0, 3.01926215982>\n",
      "<8, 9.0, 0.460226629055>\n",
      "<7, 6.0, 1.64247844444>\n",
      "<6, 9.0, 0.339969473>\n",
      "<5, 9.0, 0.236537059719>\n",
      "<4, 8.0, 4.65585924281>\n",
      "<3, 9.0, 1.01826932269>\n",
      "<2, 3.0, 5.03687480962>\n",
      "<1, 7.0, 0.476165997217>\n",
      "<0, 2.0, 0.586035909021>\n",
      "選択した項目の合計金額 = 64.0\n"
     ]
    }
   ],
   "source": [
    "bigTest(10)"
   ]
  }
 ],
 "metadata": {
  "kernelspec": {
   "display_name": "Python 2",
   "language": "python",
   "name": "python2"
  },
  "language_info": {
   "codemirror_mode": {
    "name": "ipython",
    "version": 2
   },
   "file_extension": ".py",
   "mimetype": "text/x-python",
   "name": "python",
   "nbconvert_exporter": "python",
   "pygments_lexer": "ipython2",
   "version": "2.7.15"
  }
 },
 "nbformat": 4,
 "nbformat_minor": 2
}
