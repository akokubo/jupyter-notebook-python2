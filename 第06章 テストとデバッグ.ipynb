{
 "cells": [
  {
   "cell_type": "raw",
   "metadata": {},
   "source": [
    "p.78"
   ]
  },
  {
   "cell_type": "code",
   "execution_count": 46,
   "metadata": {},
   "outputs": [],
   "source": [
    "def isBigger(x, y):\n",
    "    \"\"\"xとyはint\n",
    "       xがyより小さければTrue\n",
    "       そうでなければFalseを返す\"\"\""
   ]
  },
  {
   "cell_type": "raw",
   "metadata": {},
   "source": [
    "p.79"
   ]
  },
  {
   "cell_type": "code",
   "execution_count": 47,
   "metadata": {},
   "outputs": [],
   "source": [
    "def sqrt(x, epsilon):\n",
    "    \"\"\"x>=0, epsilon>0のfloat\n",
    "       x - epsilon <= result * result <= x + epsilon\n",
    "       を満たすresultを返す\"\"\""
   ]
  },
  {
   "cell_type": "code",
   "execution_count": 48,
   "metadata": {},
   "outputs": [],
   "source": [
    "def copy(L1, L2):\n",
    "    \"\"\"L1とL2はリスト\n",
    "       L2にL1をコピーする\"\"\"\n",
    "    while len(L2) > 0: # L2からすべての要素について\n",
    "        L2.pop() # L2の最後の要素を削除\n",
    "    for e in L1: # L1のすべての要素について\n",
    "        L2.append(e) # L2に追加"
   ]
  },
  {
   "cell_type": "code",
   "execution_count": 49,
   "metadata": {},
   "outputs": [
    {
     "name": "stdout",
     "output_type": "stream",
     "text": [
      "[]\n"
     ]
    }
   ],
   "source": [
    "L = [1, 2, 3]\n",
    "copy(L, L)\n",
    "print L"
   ]
  },
  {
   "cell_type": "raw",
   "metadata": {},
   "source": [
    "p.81"
   ]
  },
  {
   "cell_type": "code",
   "execution_count": 50,
   "metadata": {},
   "outputs": [],
   "source": [
    "def isPrime(x):\n",
    "    \"\"\"xは負でないint\n",
    "       xが素数ならTrue、そうでなければFalseを返す\"\"\"\n",
    "    if x <= 2:\n",
    "        return False\n",
    "    for i in range(2, x):\n",
    "        if x % i == 0:\n",
    "            return False\n",
    "    return True"
   ]
  },
  {
   "cell_type": "code",
   "execution_count": 51,
   "metadata": {},
   "outputs": [
    {
     "data": {
      "text/plain": [
       "False"
      ]
     },
     "execution_count": 51,
     "metadata": {},
     "output_type": "execute_result"
    }
   ],
   "source": [
    "isPrime(2)"
   ]
  },
  {
   "cell_type": "code",
   "execution_count": 52,
   "metadata": {},
   "outputs": [],
   "source": [
    "def abs(x):\n",
    "    \"\"\"xはint\n",
    "       x>=ならx、そうでなければ-xを返す\"\"\"\n",
    "    if x < -1:\n",
    "        return -x\n",
    "    else:\n",
    "        return x"
   ]
  },
  {
   "cell_type": "code",
   "execution_count": 53,
   "metadata": {},
   "outputs": [
    {
     "name": "stdout",
     "output_type": "stream",
     "text": [
      "2\n",
      "2\n",
      "1\n",
      "-1\n"
     ]
    }
   ],
   "source": [
    "print abs(2)\n",
    "print abs(-2)\n",
    "print abs(1)\n",
    "print abs(-1)"
   ]
  },
  {
   "cell_type": "raw",
   "metadata": {},
   "source": [
    "p.87"
   ]
  },
  {
   "cell_type": "code",
   "execution_count": 54,
   "metadata": {},
   "outputs": [],
   "source": [
    "def isPal(x):\n",
    "    \"\"\"xはリスト\n",
    "       リストが回文ならTrue、そうでなければFalseを返す\"\"\"\n",
    "    temp = x\n",
    "    temp.reverse\n",
    "    if temp == x:\n",
    "        return True\n",
    "    else:\n",
    "        return False\n",
    "\n",
    "def silly(n):\n",
    "    \"\"\"nは正のint\n",
    "       n個の入力を受け取り、\n",
    "       入力文字列が回文なら'Yes'、そうでなければ'No'を出力\"\"\"\n",
    "    for i in range(n):\n",
    "        result = []\n",
    "        elem = raw_input('要素を入力: ')\n",
    "        result.append(elem)\n",
    "    if isPal(result):\n",
    "        print 'Yes'\n",
    "    else:\n",
    "        print 'No'"
   ]
  },
  {
   "cell_type": "code",
   "execution_count": 55,
   "metadata": {},
   "outputs": [
    {
     "name": "stdout",
     "output_type": "stream",
     "text": [
      "6KaB57Sg44KS5YWl5YqbOiA=\n",
      "a\n",
      "6KaB57Sg44KS5YWl5YqbOiA=\n",
      "b\n",
      "Yes\n"
     ]
    }
   ],
   "source": [
    "silly(2)"
   ]
  },
  {
   "cell_type": "raw",
   "metadata": {},
   "source": [
    "p.89"
   ]
  },
  {
   "cell_type": "code",
   "execution_count": 56,
   "metadata": {},
   "outputs": [],
   "source": [
    "def silly(n):\n",
    "    \"\"\"nは正のint\n",
    "       n個の入力を受け取り、\n",
    "       入力文字列が回文なら'Yes'、そうでなければ'No'を出力\"\"\"\n",
    "    result = []\n",
    "    for i in range(n):\n",
    "        elem = raw_input('要素を入力: ')\n",
    "        result.append(elem)\n",
    "    print result\n",
    "    if isPal(result):\n",
    "        print 'Yes'\n",
    "    else:\n",
    "        print 'No'"
   ]
  },
  {
   "cell_type": "code",
   "execution_count": 57,
   "metadata": {},
   "outputs": [
    {
     "name": "stdout",
     "output_type": "stream",
     "text": [
      "6KaB57Sg44KS5YWl5YqbOiA=\n",
      "a\n",
      "6KaB57Sg44KS5YWl5YqbOiA=\n",
      "b\n",
      "['a', 'b']\n",
      "Yes\n"
     ]
    }
   ],
   "source": [
    "silly(2)"
   ]
  },
  {
   "cell_type": "code",
   "execution_count": 58,
   "metadata": {},
   "outputs": [],
   "source": [
    "def isPal(x):\n",
    "    \"\"\"xはリスト\n",
    "       リストが回文ならTrue、そうでなければFalseを返す\"\"\"\n",
    "    temp = x[:]\n",
    "    temp.reverse()\n",
    "    if temp == x:\n",
    "        return True\n",
    "    else:\n",
    "        return False"
   ]
  },
  {
   "cell_type": "code",
   "execution_count": 59,
   "metadata": {},
   "outputs": [
    {
     "name": "stdout",
     "output_type": "stream",
     "text": [
      "6KaB57Sg44KS5YWl5YqbOiA=\n",
      "a\n",
      "6KaB57Sg44KS5YWl5YqbOiA=\n",
      "b\n",
      "['a', 'b']\n",
      "No\n"
     ]
    }
   ],
   "source": [
    "silly(2)"
   ]
  }
 ],
 "metadata": {
  "kernelspec": {
   "display_name": "Python 2",
   "language": "python",
   "name": "python2"
  },
  "language_info": {
   "codemirror_mode": {
    "name": "ipython",
    "version": 2
   },
   "file_extension": ".py",
   "mimetype": "text/x-python",
   "name": "python",
   "nbconvert_exporter": "python",
   "pygments_lexer": "ipython2",
   "version": "2.7.15"
  }
 },
 "nbformat": 4,
 "nbformat_minor": 2
}
