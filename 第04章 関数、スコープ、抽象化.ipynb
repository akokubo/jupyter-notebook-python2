{
 "cells": [
  {
   "cell_type": "raw",
   "metadata": {},
   "source": [
    "p.40"
   ]
  },
  {
   "cell_type": "code",
   "execution_count": 1,
   "metadata": {},
   "outputs": [],
   "source": [
    "def max1(x, y):\n",
    "    if x > y:\n",
    "        return x\n",
    "    else:\n",
    "        return y"
   ]
  },
  {
   "cell_type": "code",
   "execution_count": 2,
   "metadata": {},
   "outputs": [
    {
     "data": {
      "text/plain": [
       "4"
      ]
     },
     "execution_count": 2,
     "metadata": {},
     "output_type": "execute_result"
    }
   ],
   "source": [
    "max1(3, 4)"
   ]
  },
  {
   "cell_type": "raw",
   "metadata": {},
   "source": [
    "p.41"
   ]
  },
  {
   "cell_type": "code",
   "execution_count": 3,
   "metadata": {},
   "outputs": [],
   "source": [
    "# 指練習\n",
    "def isIn(s1, s2):\n",
    "    \"\"\"s1とs2を文字列と仮定\n",
    "        s1とs2のどちらかにもう片方が含まれればTrue、\n",
    "        含まれなければFalseを返す。\"\"\"\n",
    "    return (s1 in s2) or (s2 in s1)"
   ]
  },
  {
   "cell_type": "code",
   "execution_count": 4,
   "metadata": {},
   "outputs": [
    {
     "name": "stdout",
     "output_type": "stream",
     "text": [
      "True\n",
      "True\n",
      "True\n",
      "True\n",
      "True\n",
      "True\n",
      "True\n",
      "True\n",
      "True\n",
      "True\n",
      "True\n",
      "True\n",
      "True\n"
     ]
    }
   ],
   "source": [
    "def testIsIn():\n",
    "    # 空文字列は非空文字列に含まれていると見なす\n",
    "    print isIn('abcdefg', '') == True\n",
    "    print isIn('', 'abcdefg') == True\n",
    "\n",
    "    # 空文字列同士\n",
    "    print isIn('', '') == True\n",
    "\n",
    "    # 完全一致\n",
    "    print isIn('abcdefg', 'abcdefg') == True\n",
    "\n",
    "    # 部分一致とその境界チェック\n",
    "    # 最初\n",
    "    print isIn('abcdefg', 'abc') == True\n",
    "    print isIn('abcdefg', 'aab') == False\n",
    "    print isIn('abcdefg', 'abb') == False\n",
    "\n",
    "    # 中間\n",
    "    print isIn('abcdefg', 'bcd') == True\n",
    "    print isIn('abcdefg', 'cbc') == False\n",
    "    print isIn('abcdefg', 'bcc') == False\n",
    "\n",
    "    # 末尾\n",
    "    print isIn('abcdefg', 'efg') == True\n",
    "    print isIn('abcdefg', 'fgg') == False\n",
    "    print isIn('abcdefg', 'ffg') == False\n",
    "    \n",
    "testIsIn()"
   ]
  },
  {
   "cell_type": "raw",
   "metadata": {},
   "source": [
    "p.42"
   ]
  },
  {
   "cell_type": "code",
   "execution_count": 5,
   "metadata": {},
   "outputs": [],
   "source": [
    "def printName(firstName, lastName, reverse):\n",
    "    if reverse:\n",
    "        print lastName + ', ' + firstName\n",
    "    else:\n",
    "        print firstName, lastName"
   ]
  },
  {
   "cell_type": "code",
   "execution_count": 6,
   "metadata": {},
   "outputs": [
    {
     "name": "stdout",
     "output_type": "stream",
     "text": [
      "Olga Puchmajerova\n",
      "Olga Puchmajerova\n",
      "Olga Puchmajerova\n",
      "Olga Puchmajerova\n",
      "Olga Puchmajerova\n"
     ]
    }
   ],
   "source": [
    "printName('Olga', 'Puchmajerova', False)\n",
    "printName('Olga', 'Puchmajerova', False)\n",
    "printName('Olga', 'Puchmajerova', reverse = False)\n",
    "printName('Olga', lastName = 'Puchmajerova', reverse = False)\n",
    "printName(lastName='Puchmajerova', firstName='Olga', reverse=False)                          "
   ]
  },
  {
   "cell_type": "code",
   "execution_count": 7,
   "metadata": {},
   "outputs": [
    {
     "ename": "SyntaxError",
     "evalue": "non-keyword arg after keyword arg (<ipython-input-7-9fde1143ce89>, line 2)",
     "output_type": "error",
     "traceback": [
      "\u001b[0;36m  File \u001b[0;32m\"<ipython-input-7-9fde1143ce89>\"\u001b[0;36m, line \u001b[0;32m2\u001b[0m\n\u001b[0;31m    printName('Olga', lastName = 'Puchmajerova', False)\u001b[0m\n\u001b[0;31mSyntaxError\u001b[0m\u001b[0;31m:\u001b[0m non-keyword arg after keyword arg\n"
     ]
    }
   ],
   "source": [
    "# 名前付き引数以降は名前付き引数でないとダメ\n",
    "printName('Olga', lastName = 'Puchmajerova', False)"
   ]
  },
  {
   "cell_type": "code",
   "execution_count": 8,
   "metadata": {},
   "outputs": [],
   "source": [
    "def printName(firstName, lastName, reverse = False):\n",
    "    if reverse:\n",
    "        print lastName + ', ' + firstName\n",
    "    else:\n",
    "        print firstName, lastName"
   ]
  },
  {
   "cell_type": "code",
   "execution_count": 9,
   "metadata": {},
   "outputs": [
    {
     "name": "stdout",
     "output_type": "stream",
     "text": [
      "Olga Puchmajerova\n",
      "Puchmajerova, Olga\n",
      "Puchmajerova, Olga\n"
     ]
    }
   ],
   "source": [
    "printName('Olga', 'Puchmajerova')\n",
    "printName('Olga', 'Puchmajerova', True)\n",
    "printName('Olga', 'Puchmajerova', reverse = True)"
   ]
  },
  {
   "cell_type": "raw",
   "metadata": {},
   "source": [
    "p.43"
   ]
  },
  {
   "cell_type": "code",
   "execution_count": 10,
   "metadata": {},
   "outputs": [
    {
     "name": "stdout",
     "output_type": "stream",
     "text": [
      "x = 1\n",
      "z = 4\n",
      "x = 3\n",
      "y = 2\n"
     ]
    }
   ],
   "source": [
    "def f(x): #仮引数の名前をxとする\n",
    "    y = 1\n",
    "    x = x + y\n",
    "    print 'x =', y\n",
    "    return x\n",
    "\n",
    "x = 3\n",
    "y = 2\n",
    "z = f(x) #xの値を実引数とする\n",
    "print 'z =', z\n",
    "print 'x =', x\n",
    "print 'y =', y"
   ]
  },
  {
   "cell_type": "raw",
   "metadata": {},
   "source": [
    "p.44"
   ]
  },
  {
   "cell_type": "code",
   "execution_count": 11,
   "metadata": {},
   "outputs": [
    {
     "name": "stdout",
     "output_type": "stream",
     "text": [
      "x = 4\n",
      "z = 4  in h()\n",
      "x = abc  in g()\n",
      "x = 4\n",
      "x = 3\n",
      "z = <function g at 0x10676d500>\n",
      "x = abc  in g()\n"
     ]
    }
   ],
   "source": [
    "# 関数fの宣言\n",
    "def f(x):\n",
    "\n",
    "    def g():\n",
    "        # 局所変数x\n",
    "        x = 'abc'\n",
    "        print 'x =', x, ' in g()'\n",
    "\n",
    "    def h():\n",
    "        # 外部のxを参照\n",
    "        z = x\n",
    "        print 'z =', z, ' in h()'\n",
    " \n",
    "    x = x + 1\n",
    "    print 'x =', x\n",
    "    h()\n",
    "    g()\n",
    "    print 'x =', x\n",
    "    return g\n",
    "\n",
    "# メイン・プログラム\n",
    "x = 3\n",
    "z = f(x) # f(3)が評価され、zにはf内のgが代入\n",
    "print 'x =', x\n",
    "print 'z =', z\n",
    "z() # zはgなので、g()が評価される"
   ]
  },
  {
   "cell_type": "raw",
   "metadata": {},
   "source": [
    "p.45"
   ]
  },
  {
   "cell_type": "code",
   "execution_count": 12,
   "metadata": {},
   "outputs": [
    {
     "name": "stdout",
     "output_type": "stream",
     "text": [
      "3\n"
     ]
    },
    {
     "ename": "UnboundLocalError",
     "evalue": "local variable 'x' referenced before assignment",
     "output_type": "error",
     "traceback": [
      "\u001b[0;31m---------------------------------------------------------------------------\u001b[0m",
      "\u001b[0;31mUnboundLocalError\u001b[0m                         Traceback (most recent call last)",
      "\u001b[0;32m<ipython-input-12-727ce6024c5f>\u001b[0m in \u001b[0;36m<module>\u001b[0;34m()\u001b[0m\n\u001b[1;32m      9\u001b[0m \u001b[0mf\u001b[0m\u001b[0;34m(\u001b[0m\u001b[0;34m)\u001b[0m\u001b[0;34m\u001b[0m\u001b[0m\n\u001b[1;32m     10\u001b[0m \u001b[0mx\u001b[0m \u001b[0;34m=\u001b[0m \u001b[0;36m3\u001b[0m\u001b[0;34m\u001b[0m\u001b[0m\n\u001b[0;32m---> 11\u001b[0;31m \u001b[0mg\u001b[0m\u001b[0;34m(\u001b[0m\u001b[0;34m)\u001b[0m\u001b[0;34m\u001b[0m\u001b[0m\n\u001b[0m",
      "\u001b[0;32m<ipython-input-12-727ce6024c5f>\u001b[0m in \u001b[0;36mg\u001b[0;34m()\u001b[0m\n\u001b[1;32m      3\u001b[0m \u001b[0;34m\u001b[0m\u001b[0m\n\u001b[1;32m      4\u001b[0m \u001b[0;32mdef\u001b[0m \u001b[0mg\u001b[0m\u001b[0;34m(\u001b[0m\u001b[0;34m)\u001b[0m\u001b[0;34m:\u001b[0m\u001b[0;34m\u001b[0m\u001b[0m\n\u001b[0;32m----> 5\u001b[0;31m     \u001b[0;32mprint\u001b[0m \u001b[0mx\u001b[0m \u001b[0;31m# x = 1と関数内のどこかで書くと、xは局所変数と見なされ、値が代入されてないのでエラー\u001b[0m\u001b[0;34m\u001b[0m\u001b[0m\n\u001b[0m\u001b[1;32m      6\u001b[0m     \u001b[0mx\u001b[0m \u001b[0;34m=\u001b[0m \u001b[0;36m1\u001b[0m\u001b[0;34m\u001b[0m\u001b[0m\n\u001b[1;32m      7\u001b[0m \u001b[0;34m\u001b[0m\u001b[0m\n",
      "\u001b[0;31mUnboundLocalError\u001b[0m: local variable 'x' referenced before assignment"
     ]
    }
   ],
   "source": [
    "def f():\n",
    "    print x\n",
    "\n",
    "def g():\n",
    "    print x # x = 1と関数内のどこかで書くと、xは局所変数と見なされ、値が代入されてないのでエラー\n",
    "    x = 1\n",
    "\n",
    "x = 3\n",
    "f()\n",
    "x = 3\n",
    "g()"
   ]
  },
  {
   "cell_type": "raw",
   "metadata": {},
   "source": [
    "p.46"
   ]
  },
  {
   "cell_type": "code",
   "execution_count": 13,
   "metadata": {},
   "outputs": [
    {
     "name": "stdout",
     "output_type": "stream",
     "text": [
      "Help on built-in function abs in module __builtin__:\n",
      "\n",
      "abs(...)\n",
      "    abs(number) -> number\n",
      "    \n",
      "    Return the absolute value of the argument.\n",
      "\n"
     ]
    }
   ],
   "source": [
    "help(abs)"
   ]
  },
  {
   "cell_type": "raw",
   "metadata": {},
   "source": [
    "p.47"
   ]
  },
  {
   "cell_type": "code",
   "execution_count": 14,
   "metadata": {},
   "outputs": [],
   "source": [
    "def  findRoot(x,  power,  epsilon):\n",
    "    \"\"\"x と epsilon > 0は整数もしくは浮動小数点数, power>=1 を整数と仮定\n",
    "       y**power が x の epsilon 以内になるような浮動小数点数y を返す\n",
    "       もし，そのような浮動小数点数が存在しなければ None を返す \"\"\"\n",
    "    if x  <  0  and  power%2  ==  0:\n",
    "        return None\n",
    "    low  =  min(-1.0,  x)\n",
    "    high =  max(1.0,  x)\n",
    "    ans  =  (high  +  low)/2.0\n",
    "    while  abs(ans**power  -  x) >=  epsilon:\n",
    "        if ans**power  <  x:\n",
    "            low  =  ans\n",
    "        else:\n",
    "            high =  ans\n",
    "        ans  =  (high  +  low)/2.0\n",
    "    return ans"
   ]
  },
  {
   "cell_type": "code",
   "execution_count": 15,
   "metadata": {},
   "outputs": [],
   "source": [
    "def  testFindRoot():\n",
    "    epsilon  =  0.0001\n",
    "    for x  in  (0.25,  -0.25,  2,  -2, 8,  -8):\n",
    "        for power  in range(1, 4):\n",
    "            print  'Testing  x  =  ' +  str(x) +\\\n",
    "                   ' and  power =  ' +  str(power)\n",
    "            result  =  findRoot(x,  power,  epsilon)\n",
    "            if result  ==  None:\n",
    "                print  '\tNo root'\n",
    "            else:\n",
    "                print  ' \t', result**power,  '~=',  x"
   ]
  },
  {
   "cell_type": "code",
   "execution_count": 16,
   "metadata": {},
   "outputs": [
    {
     "name": "stdout",
     "output_type": "stream",
     "text": [
      "Help on function findRoot in module __main__:\n",
      "\n",
      "findRoot(x, power, epsilon)\n",
      "    x と epsilon > 0は整数もしくは浮動小数点数, power>=1 を整数と仮定\n",
      "    y**power が x の epsilon 以内になるような浮動小数点数y を返す\n",
      "    もし，そのような浮動小数点数が存在しなければ None を返す\n",
      "\n"
     ]
    }
   ],
   "source": [
    "help(findRoot)"
   ]
  },
  {
   "cell_type": "code",
   "execution_count": 17,
   "metadata": {},
   "outputs": [],
   "source": [
    "# 繰り返しで階乗を計算\n",
    "# n! = n * (n -1) * (n - 2) * ... * 1\n",
    "def factI(n):\n",
    "    \"\"\"n > 0を整数と仮定\n",
    "       n!を返す\"\"\"\n",
    "    result = 1\n",
    "    while n > 1:\n",
    "        result = result * n\n",
    "        n -= 1\n",
    "    return result"
   ]
  },
  {
   "cell_type": "code",
   "execution_count": 18,
   "metadata": {},
   "outputs": [],
   "source": [
    "# 再帰で階乗を計算\n",
    "# n! = n * (n -1)!、1! = 1\n",
    "def factR(n):\n",
    "    \"\"\"n > 0を整数と仮定\n",
    "       n!を返す\"\"\"\n",
    "    if n == 1:\n",
    "        return n\n",
    "    else:\n",
    "        return n * factR(n - 1)"
   ]
  },
  {
   "cell_type": "code",
   "execution_count": 19,
   "metadata": {},
   "outputs": [
    {
     "data": {
      "text/plain": [
       "3628800"
      ]
     },
     "execution_count": 19,
     "metadata": {},
     "output_type": "execute_result"
    }
   ],
   "source": [
    "factI(10)"
   ]
  },
  {
   "cell_type": "code",
   "execution_count": 20,
   "metadata": {},
   "outputs": [
    {
     "data": {
      "text/plain": [
       "3628800"
      ]
     },
     "execution_count": 20,
     "metadata": {},
     "output_type": "execute_result"
    }
   ],
   "source": [
    "factR(10)"
   ]
  },
  {
   "cell_type": "code",
   "execution_count": 21,
   "metadata": {},
   "outputs": [
    {
     "data": {
      "text/plain": [
       "1"
      ]
     },
     "execution_count": 21,
     "metadata": {},
     "output_type": "execute_result"
    }
   ],
   "source": [
    "factI(1)"
   ]
  },
  {
   "cell_type": "code",
   "execution_count": 22,
   "metadata": {},
   "outputs": [
    {
     "data": {
      "text/plain": [
       "1"
      ]
     },
     "execution_count": 22,
     "metadata": {},
     "output_type": "execute_result"
    }
   ],
   "source": [
    "factR(1)"
   ]
  },
  {
   "cell_type": "raw",
   "metadata": {},
   "source": [
    "p.52"
   ]
  },
  {
   "cell_type": "code",
   "execution_count": 23,
   "metadata": {},
   "outputs": [],
   "source": [
    "def fib(n):\n",
    "    \"\"\"n >= 0を整数と仮定\n",
    "       n番目のフィボナッチ数を返す\"\"\"\n",
    "    if n == 0 or n == 1:\n",
    "        return 1\n",
    "    else:\n",
    "        return fib(n-1) + fib(n-2)\n",
    "\n",
    "def testFib(n):\n",
    "    for i in range(n+1):\n",
    "        print str(i) + '番目のフィボナッチ数は' + str(fib(i))"
   ]
  },
  {
   "cell_type": "code",
   "execution_count": 24,
   "metadata": {},
   "outputs": [
    {
     "name": "stdout",
     "output_type": "stream",
     "text": [
      "0番目のフィボナッチ数は1\n",
      "1番目のフィボナッチ数は1\n",
      "2番目のフィボナッチ数は2\n",
      "3番目のフィボナッチ数は3\n",
      "4番目のフィボナッチ数は5\n",
      "5番目のフィボナッチ数は8\n",
      "6番目のフィボナッチ数は13\n",
      "7番目のフィボナッチ数は21\n",
      "8番目のフィボナッチ数は34\n",
      "9番目のフィボナッチ数は55\n",
      "10番目のフィボナッチ数は89\n",
      "11番目のフィボナッチ数は144\n",
      "12番目のフィボナッチ数は233\n",
      "13番目のフィボナッチ数は377\n",
      "14番目のフィボナッチ数は610\n",
      "15番目のフィボナッチ数は987\n",
      "16番目のフィボナッチ数は1597\n",
      "17番目のフィボナッチ数は2584\n",
      "18番目のフィボナッチ数は4181\n",
      "19番目のフィボナッチ数は6765\n",
      "20番目のフィボナッチ数は10946\n"
     ]
    }
   ],
   "source": [
    "testFib(20)"
   ]
  },
  {
   "cell_type": "raw",
   "metadata": {},
   "source": [
    "p.53"
   ]
  },
  {
   "cell_type": "code",
   "execution_count": 25,
   "metadata": {},
   "outputs": [],
   "source": [
    "def isPalindrome(s):\n",
    "    \"\"\"sを文字列と仮定\n",
    "       sが回文ならTrueを返し、それ以外ならFalseを返す\n",
    "       ただし句読点、空白を無視し、大文字・小文字を区別しない\"\"\"\n",
    "    def toChars(s):\n",
    "        s = s.lower()\n",
    "        letters = ''\n",
    "        for c in s:\n",
    "            if c in 'abcdefghijklmnopqrstuvwxyz':\n",
    "                letters = letters + c\n",
    "        return letters\n",
    "\n",
    "    def isPal(s):\n",
    "        if len(s) <= 1:\n",
    "            return True\n",
    "        else:\n",
    "            return s[0] == s[-1] and isPal(s[1:-1])\n",
    "\n",
    "    return isPal(toChars(s))"
   ]
  },
  {
   "cell_type": "code",
   "execution_count": 26,
   "metadata": {},
   "outputs": [],
   "source": [
    "def testIsPalindrome():\n",
    "    print 'Try dogGod'\n",
    "    print isPalindrome('dogGod')\n",
    "    print 'Try doGood'\n",
    "    print isPalindrome('doGood')"
   ]
  },
  {
   "cell_type": "code",
   "execution_count": 27,
   "metadata": {},
   "outputs": [
    {
     "name": "stdout",
     "output_type": "stream",
     "text": [
      "Try dogGod\n",
      "True\n",
      "Try doGood\n",
      "False\n"
     ]
    }
   ],
   "source": [
    "testIsPalindrome()"
   ]
  },
  {
   "cell_type": "raw",
   "metadata": {},
   "source": [
    "p.54"
   ]
  },
  {
   "cell_type": "code",
   "execution_count": 28,
   "metadata": {},
   "outputs": [],
   "source": [
    "def isPalindrome(s):\n",
    "    \"\"\"sを文字列と仮定\n",
    "       sが回文ならTrueを返し、それ以外ならFalseを返す\n",
    "       ただし句読点、空白を無視し、大文字・小文字を区別しない\"\"\"\n",
    "    def toChars(s):\n",
    "        s = s.lower()\n",
    "        letters = ''\n",
    "        for c in s:\n",
    "            if c in 'abcdefghijklmnopqrstuvwxyz':\n",
    "                letters = letters + c\n",
    "        return letters\n",
    "\n",
    "    def isPal(s):\n",
    "        print '   isPalが' + s + 'を引数に呼び出されました'\n",
    "        if len(s) <= 1:\n",
    "            print '   基底状態に対しTrueが返されました'\n",
    "            return True\n",
    "        else:\n",
    "            answer = s[0] == s[-1] and isPal(s[1:-1])\n",
    "            print '   ' + s + 'に対し' + str(answer) + 'が返されました'\n",
    "            return answer\n",
    "\n",
    "    return isPal(toChars(s))"
   ]
  },
  {
   "cell_type": "code",
   "execution_count": 29,
   "metadata": {},
   "outputs": [
    {
     "name": "stdout",
     "output_type": "stream",
     "text": [
      "Try dogGod\n",
      "   isPalがdoggodを引数に呼び出されました\n",
      "   isPalがoggoを引数に呼び出されました\n",
      "   isPalがggを引数に呼び出されました\n",
      "   isPalがを引数に呼び出されました\n",
      "   基底状態に対しTrueが返されました\n",
      "   ggに対しTrueが返されました\n",
      "   oggoに対しTrueが返されました\n",
      "   doggodに対しTrueが返されました\n",
      "True\n",
      "Try doGood\n",
      "   isPalがdogoodを引数に呼び出されました\n",
      "   isPalがogooを引数に呼び出されました\n",
      "   isPalがgoを引数に呼び出されました\n",
      "   goに対しFalseが返されました\n",
      "   ogooに対しFalseが返されました\n",
      "   dogoodに対しFalseが返されました\n",
      "False\n"
     ]
    }
   ],
   "source": [
    "testIsPalindrome()"
   ]
  },
  {
   "cell_type": "raw",
   "metadata": {},
   "source": [
    "p.56"
   ]
  },
  {
   "cell_type": "code",
   "execution_count": 30,
   "metadata": {},
   "outputs": [],
   "source": [
    "def fib(x):\n",
    "    \"\"\" x >= 0 を整数と仮定\n",
    "        x番目のフィボナッチ数を返す\"\"\"\n",
    "    global numFibCalls\n",
    "    numFibCalls += 1\n",
    "    if x == 0 or x == 1:\n",
    "        return 1\n",
    "    else:\n",
    "        return fib(x - 1) + fib(x - 2)"
   ]
  },
  {
   "cell_type": "code",
   "execution_count": 31,
   "metadata": {},
   "outputs": [],
   "source": [
    "def testFib(n):\n",
    "    for i in range(n + 1):\n",
    "        global numFibCalls\n",
    "        numFibCalls = 0\n",
    "        print str(i) + '番目のフィボナッチ数=' + str(fib(i))\n",
    "        print 'fib関数は' + str(numFibCalls) + '回呼び出されました。'"
   ]
  },
  {
   "cell_type": "code",
   "execution_count": 32,
   "metadata": {},
   "outputs": [
    {
     "name": "stdout",
     "output_type": "stream",
     "text": [
      "0番目のフィボナッチ数=1\n",
      "fib関数は1回呼び出されました。\n",
      "1番目のフィボナッチ数=1\n",
      "fib関数は1回呼び出されました。\n",
      "2番目のフィボナッチ数=2\n",
      "fib関数は3回呼び出されました。\n",
      "3番目のフィボナッチ数=3\n",
      "fib関数は5回呼び出されました。\n",
      "4番目のフィボナッチ数=5\n",
      "fib関数は9回呼び出されました。\n",
      "5番目のフィボナッチ数=8\n",
      "fib関数は15回呼び出されました。\n",
      "6番目のフィボナッチ数=13\n",
      "fib関数は25回呼び出されました。\n",
      "7番目のフィボナッチ数=21\n",
      "fib関数は41回呼び出されました。\n",
      "8番目のフィボナッチ数=34\n",
      "fib関数は67回呼び出されました。\n",
      "9番目のフィボナッチ数=55\n",
      "fib関数は109回呼び出されました。\n",
      "10番目のフィボナッチ数=89\n",
      "fib関数は177回呼び出されました。\n",
      "11番目のフィボナッチ数=144\n",
      "fib関数は287回呼び出されました。\n",
      "12番目のフィボナッチ数=233\n",
      "fib関数は465回呼び出されました。\n",
      "13番目のフィボナッチ数=377\n",
      "fib関数は753回呼び出されました。\n",
      "14番目のフィボナッチ数=610\n",
      "fib関数は1219回呼び出されました。\n",
      "15番目のフィボナッチ数=987\n",
      "fib関数は1973回呼び出されました。\n",
      "16番目のフィボナッチ数=1597\n",
      "fib関数は3193回呼び出されました。\n",
      "17番目のフィボナッチ数=2584\n",
      "fib関数は5167回呼び出されました。\n",
      "18番目のフィボナッチ数=4181\n",
      "fib関数は8361回呼び出されました。\n",
      "19番目のフィボナッチ数=6765\n",
      "fib関数は13529回呼び出されました。\n",
      "20番目のフィボナッチ数=10946\n",
      "fib関数は21891回呼び出されました。\n"
     ]
    }
   ],
   "source": [
    "testFib(20)"
   ]
  },
  {
   "cell_type": "raw",
   "metadata": {},
   "source": [
    "p.57"
   ]
  },
  {
   "cell_type": "code",
   "execution_count": 33,
   "metadata": {},
   "outputs": [
    {
     "name": "stdout",
     "output_type": "stream",
     "text": [
      "3.14159\n",
      "28.27431\n",
      "18.84954\n",
      "113.09724\n"
     ]
    }
   ],
   "source": [
    "import circle\n",
    "print circle.pi\n",
    "print circle.area(3)\n",
    "print circle.circumference(3)\n",
    "print circle.sphereSurface(3)"
   ]
  },
  {
   "cell_type": "raw",
   "metadata": {},
   "source": [
    "p.58"
   ]
  },
  {
   "cell_type": "code",
   "execution_count": 34,
   "metadata": {},
   "outputs": [
    {
     "name": "stdout",
     "output_type": "stream",
     "text": [
      "3.14159\n",
      "3.14159\n"
     ]
    }
   ],
   "source": [
    "from circle import *\n",
    "print pi\n",
    "print circle.pi # 前の呼び出しがなければ本当はエラー"
   ]
  },
  {
   "cell_type": "raw",
   "metadata": {},
   "source": [
    "p.59"
   ]
  },
  {
   "cell_type": "code",
   "execution_count": 35,
   "metadata": {},
   "outputs": [
    {
     "name": "stdout",
     "output_type": "stream",
     "text": [
      "Enter name: デビッド\n",
      "Enter name: アンドレア\n"
     ]
    }
   ],
   "source": [
    "nameHandle = open('kids', 'w')\n",
    "for i in range (2):\n",
    "    name = raw_input('Enter name: ')\n",
    "    nameHandle.write(name + '\\n')\n",
    "nameHandle.close()"
   ]
  },
  {
   "cell_type": "code",
   "execution_count": 36,
   "metadata": {},
   "outputs": [
    {
     "name": "stdout",
     "output_type": "stream",
     "text": [
      "デビッド\n",
      "\n",
      "アンドレア\n",
      "\n"
     ]
    }
   ],
   "source": [
    "nameHandle = open('kids', 'r')\n",
    "for line in nameHandle:\n",
    "    print line\n",
    "nameHandle.close()"
   ]
  },
  {
   "cell_type": "code",
   "execution_count": 37,
   "metadata": {},
   "outputs": [
    {
     "name": "stdout",
     "output_type": "stream",
     "text": [
      "マイケル\n",
      "マーク\n"
     ]
    }
   ],
   "source": [
    "nameHandle = open('kids', 'w')\n",
    "nameHandle.write('マイケル\\n')\n",
    "nameHandle.write('マーク\\n')\n",
    "nameHandle . close ()\n",
    "nameHandle = open('kids', 'r')\n",
    "for line in nameHandle:\n",
    "    print line[:-1]\n",
    "nameHandle.close()"
   ]
  },
  {
   "cell_type": "raw",
   "metadata": {},
   "source": [
    "p.60"
   ]
  },
  {
   "cell_type": "code",
   "execution_count": 38,
   "metadata": {},
   "outputs": [
    {
     "name": "stdout",
     "output_type": "stream",
     "text": [
      "マイケル\n",
      "マーク\n",
      "デビッド\n",
      "アンドレア\n"
     ]
    }
   ],
   "source": [
    "nameHandle = open('kids', 'a')\n",
    "nameHandle.write('デビッド\\n')\n",
    "nameHandle.write('アンドレア\\n')\n",
    "nameHandle . close ()\n",
    "nameHandle = open('kids', 'r')\n",
    "for line in nameHandle:\n",
    "    print line[:-1]\n",
    "nameHandle.close()"
   ]
  }
 ],
 "metadata": {
  "kernelspec": {
   "display_name": "Python 2",
   "language": "python",
   "name": "python2"
  },
  "language_info": {
   "codemirror_mode": {
    "name": "ipython",
    "version": 2
   },
   "file_extension": ".py",
   "mimetype": "text/x-python",
   "name": "python",
   "nbconvert_exporter": "python",
   "pygments_lexer": "ipython2",
   "version": "2.7.15"
  }
 },
 "nbformat": 4,
 "nbformat_minor": 2
}
