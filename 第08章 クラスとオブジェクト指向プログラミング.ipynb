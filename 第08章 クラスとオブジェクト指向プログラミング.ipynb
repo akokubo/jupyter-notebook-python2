{
 "cells": [
  {
   "cell_type": "raw",
   "metadata": {},
   "source": [
    "p.103"
   ]
  },
  {
   "cell_type": "code",
   "execution_count": 1,
   "metadata": {},
   "outputs": [],
   "source": [
    "class IntSet(object):\n",
    "    \"\"\"IntSetは整数の集合である\"\"\"\n",
    "    # ここに実装に関する情報を書く(抽象化の情報ではない)。\n",
    "    # 集合は、int型の要素からなるリストself.valsで表現される。\n",
    "    # リストself.valsには同じ要素は複数含まれない。\n",
    "\n",
    "    def __init__(self):\n",
    "        \"\"\"整数の空集合を生成する\"\"\"\n",
    "        self.vals = []\n",
    "\n",
    "    def insert(self, e):\n",
    "        \"\"\"eをint型とする。\n",
    "           eがselfに含まれていなければ挿入する\"\"\"\n",
    "        if not e in self.vals:\n",
    "            self.vals.append(e)\n",
    "\n",
    "    def member(self, e):\n",
    "        \"\"\"eをint型とする。\n",
    "           eがselfに含まれれTrueを、なければFalseを返す\"\"\"\n",
    "        return e in self.vals\n",
    "\n",
    "    def remove(self, e):\n",
    "        \"\"\"eをint型とする。\n",
    "           eをselfから削除する。\n",
    "           eがselfに含まれなければValueError例外を発生させる。\"\"\"\n",
    "        try:\n",
    "            self.vals.remove(e)\n",
    "        except:\n",
    "            raise ValueError(str(e) + 'は含まれていません')\n",
    "\n",
    "    def getMembers(self):\n",
    "        \"\"\"selfに含まれる要素のリストを返す。\n",
    "           要素の順番は保証しない。\"\"\"\n",
    "        return self.vals[:]\n",
    "\n",
    "    def __str__(self):\n",
    "        \"\"\"selfの文字列表現を返す\"\"\"\n",
    "        self.vals.sort()\n",
    "        result = ''\n",
    "        for e in self.vals:\n",
    "            result = result + str(e) + ','\n",
    "        return '{' + result[:-1] + '}' # -1としたのは最後のカンマを取り除くため"
   ]
  },
  {
   "cell_type": "raw",
   "metadata": {},
   "source": [
    "p.102"
   ]
  },
  {
   "cell_type": "code",
   "execution_count": 2,
   "metadata": {},
   "outputs": [
    {
     "name": "stdout",
     "output_type": "stream",
     "text": [
      "<type 'type'> <type 'instancemethod'>\n"
     ]
    }
   ],
   "source": [
    "print type(IntSet), type(IntSet.insert)"
   ]
  },
  {
   "cell_type": "raw",
   "metadata": {},
   "source": [
    "p.104"
   ]
  },
  {
   "cell_type": "code",
   "execution_count": 3,
   "metadata": {},
   "outputs": [
    {
     "name": "stdout",
     "output_type": "stream",
     "text": [
      "True\n"
     ]
    }
   ],
   "source": [
    "s = IntSet()\n",
    "s.insert(3)\n",
    "print s.member(3)"
   ]
  },
  {
   "cell_type": "raw",
   "metadata": {},
   "source": [
    "p.105"
   ]
  },
  {
   "cell_type": "code",
   "execution_count": 8,
   "metadata": {},
   "outputs": [
    {
     "name": "stdout",
     "output_type": "stream",
     "text": [
      "4586918288\n",
      "4586920928\n",
      "4586918288\n"
     ]
    }
   ],
   "source": [
    "print id(IntSet.member)\n",
    "print id(s.member)\n",
    "s.member = IntSet.insert\n",
    "print id(s.member)"
   ]
  },
  {
   "cell_type": "raw",
   "metadata": {},
   "source": [
    "p.106"
   ]
  },
  {
   "cell_type": "code",
   "execution_count": 10,
   "metadata": {},
   "outputs": [
    {
     "name": "stdout",
     "output_type": "stream",
     "text": [
      "{3,4}\n",
      "{3,4}\n",
      "{3,4}\n"
     ]
    }
   ],
   "source": [
    "s = IntSet()\n",
    "s.insert(3)\n",
    "s.insert(4)\n",
    "print s\n",
    "print s.__str__()\n",
    "print IntSet.__str__(s)"
   ]
  },
  {
   "cell_type": "raw",
   "metadata": {},
   "source": [
    "p.107"
   ]
  },
  {
   "cell_type": "code",
   "execution_count": 11,
   "metadata": {},
   "outputs": [],
   "source": [
    "import datetime"
   ]
  },
  {
   "cell_type": "code",
   "execution_count": null,
   "metadata": {},
   "outputs": [],
   "source": [
    "class Person(object):\n",
    "    \n",
    "    def __init__(self, name):\n",
    "        \"\"\"「人間」を生成する\"\"\"\n",
    "        self.name = name\n",
    "        try:\n",
    "            lastBlank = name.rindex(' ')\n",
    "            self.lastName = name[lastBlank + 1:]\n",
    "        except:\n",
    "            self.lastName = name\n",
    "        self.birthday = None\n",
    "        \n",
    "    def getName(self):\n",
    "        \"\"\"selfの名前(フルネーム)を返す\"\"\"\n",
    "        rerurn\n",
    "        \n",
    "    def getLastName(self):\n",
    "        \"\"\"selfの姓を返す\"\"\""
   ]
  }
 ],
 "metadata": {
  "kernelspec": {
   "display_name": "Python 2",
   "language": "python",
   "name": "python2"
  },
  "language_info": {
   "codemirror_mode": {
    "name": "ipython",
    "version": 2
   },
   "file_extension": ".py",
   "mimetype": "text/x-python",
   "name": "python",
   "nbconvert_exporter": "python",
   "pygments_lexer": "ipython2",
   "version": "2.7.15"
  }
 },
 "nbformat": 4,
 "nbformat_minor": 2
}
