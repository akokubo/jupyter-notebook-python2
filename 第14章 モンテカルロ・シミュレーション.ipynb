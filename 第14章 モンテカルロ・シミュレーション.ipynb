{
 "cells": [
  {
   "cell_type": "markdown",
   "metadata": {},
   "source": [
    "p.215"
   ]
  },
  {
   "cell_type": "code",
   "execution_count": 1,
   "metadata": {},
   "outputs": [],
   "source": [
    "import random"
   ]
  },
  {
   "cell_type": "code",
   "execution_count": 2,
   "metadata": {},
   "outputs": [],
   "source": [
    "def rollDie():\n",
    "    return random.choice([1,2,3,4,5,6])"
   ]
  },
  {
   "cell_type": "code",
   "execution_count": 3,
   "metadata": {},
   "outputs": [],
   "source": [
    "def checkPascal(numTrials):\n",
    "    \"\"\"numTrialsは1以上の整数（int）と仮定する\n",
    "       勝利する確率の評価値を表示する\"\"\"\n",
    "    numWins = 0.0\n",
    "    for i in range(numTrials):\n",
    "        for j in range(24):\n",
    "            d1 = rollDie()\n",
    "            d2 = rollDie()\n",
    "            if d1 == 6 and d2 == 6:\n",
    "                numWins += 1\n",
    "                break\n",
    "    print '勝利する確率 =', numWins/numTrials"
   ]
  },
  {
   "cell_type": "code",
   "execution_count": 4,
   "metadata": {},
   "outputs": [
    {
     "name": "stdout",
     "output_type": "stream",
     "text": [
      "勝利する確率 = 0.491668\n"
     ]
    }
   ],
   "source": [
    "checkPascal(1000000)"
   ]
  },
  {
   "cell_type": "markdown",
   "metadata": {},
   "source": [
    "p.216"
   ]
  },
  {
   "cell_type": "code",
   "execution_count": 5,
   "metadata": {},
   "outputs": [],
   "source": [
    "class CrapsGame(object):\n",
    "    def __init__(self):\n",
    "        self.passWins, self.passLosses = (0,0)\n",
    "        self.dpWins, self.dpLosses, self.dpPushes = (0,0,0)\n",
    "\n",
    "    def playHand(self):\n",
    "        throw = rollDie() + rollDie()\n",
    "        if throw == 7 or throw == 11:\n",
    "            self.passWins += 1\n",
    "            self.dpLosses += 1\n",
    "        elif throw == 2 or throw == 3 or throw == 12:\n",
    "            self.passLosses += 1\n",
    "            if throw == 12:\n",
    "                self.dpPushes += 1\n",
    "            else:\n",
    "                self.dpWins += 1\n",
    "        else:\n",
    "            point = throw\n",
    "            while True:\n",
    "                throw = rollDie() + rollDie()\n",
    "                if throw == point:\n",
    "                    self.passWins += 1\n",
    "                    self.dpLosses += 1\n",
    "                    break\n",
    "                elif throw == 7:\n",
    "                    self.passLosses += 1\n",
    "                    self.dpWins += 1\n",
    "                    break\n",
    "\n",
    "    def passResults(self):\n",
    "        return (self.passWins, self.passLosses)\n",
    "\n",
    "    def dpResults(self):\n",
    "        return (self.dpWins, self.dpLosses, self.dpPushes)"
   ]
  },
  {
   "cell_type": "markdown",
   "metadata": {},
   "source": [
    "p.217"
   ]
  },
  {
   "cell_type": "code",
   "execution_count": 6,
   "metadata": {},
   "outputs": [],
   "source": [
    "def variance(X):\n",
    "    \"\"\"Xを数のリストとする\n",
    "       Xの分散を返す\"\"\"\n",
    "    mean = sum(X) / len(X)\n",
    "    tot = 0.0\n",
    "    for x in X:\n",
    "        tot += (x - mean) ** 2\n",
    "    return tot / len(X)"
   ]
  },
  {
   "cell_type": "code",
   "execution_count": 7,
   "metadata": {},
   "outputs": [],
   "source": [
    "def stdDev(X):\n",
    "    \"\"\"Xを数のリストとする\n",
    "       Xの標準偏差を返す\"\"\"\n",
    "    return variance(X) ** 0.5"
   ]
  },
  {
   "cell_type": "code",
   "execution_count": 8,
   "metadata": {},
   "outputs": [],
   "source": [
    "def crapsSim(handsPerGame, numGames):\n",
    "    \"\"\"handsPerGameとnumGamesは1以上の整数（int）と仮定する\n",
    "       handsPerGameの手から成るゲームをnumGames回プレイし、\n",
    "       その結果を表示する\"\"\"\n",
    "    games = []\n",
    "\n",
    "    #ゲームをnumGames回プレイする\n",
    "    for t in xrange(numGames):\n",
    "        c = CrapsGame()\n",
    "        for i in xrange(handsPerGame):\n",
    "            c.playHand()\n",
    "        games.append(c)\n",
    "        \n",
    "    #各ゲームの統計値を求める\n",
    "    pROIPerGame, dpROIPerGame = [], []\n",
    "    for g in games:\n",
    "        wins, losses = g.passResults()\n",
    "        pROIPerGame.append((wins - losses)/float(handsPerGame))\n",
    "        wins, losses, pushes = g.dpResults()\n",
    "        dpROIPerGame.append((wins - losses)/float(handsPerGame))\n",
    "        \n",
    "    #統計値の概要を求めて表示する\n",
    "    meanROI = str(round((100.0*sum(pROIPerGame)/numGames), 4)) + '%'\n",
    "    sigma = str(round(100.0*stdDev(pROIPerGame), 4)) + '%'\n",
    "    print 'バス:', 'ROIの平均値 =', meanROI, 'Std. Dev. =', sigma\n",
    "    meanROI = str(round((100.0*sum(dpROIPerGame)/numGames), 4)) + '%'\n",
    "    sigma = str(round(100.0*stdDev(dpROIPerGame), 4)) + '%'\n",
    "    print 'ドントバス:', 'ROIの平均値 =', meanROI, '標準偏差 =', sigma"
   ]
  },
  {
   "cell_type": "code",
   "execution_count": 9,
   "metadata": {},
   "outputs": [
    {
     "name": "stdout",
     "output_type": "stream",
     "text": [
      "バス: ROIの平均値 = -2.0% Std. Dev. = 16.0%\n",
      "ドントバス: ROIの平均値 = -1.0% 標準偏差 = 14.4568%\n"
     ]
    }
   ],
   "source": [
    "crapsSim(20, 10)"
   ]
  },
  {
   "cell_type": "code",
   "execution_count": 10,
   "metadata": {},
   "outputs": [
    {
     "name": "stdout",
     "output_type": "stream",
     "text": [
      "バス: ROIの平均値 = -1.4253% Std. Dev. = 0.0646%\n",
      "ドントバス: ROIの平均値 = -1.3555% 標準偏差 = 0.0631%\n"
     ]
    }
   ],
   "source": [
    "crapsSim(1000000,10)"
   ]
  },
  {
   "cell_type": "code",
   "execution_count": 12,
   "metadata": {},
   "outputs": [
    {
     "name": "stdout",
     "output_type": "stream",
     "text": [
      "バス: ROIの平均値 = -1.4102% Std. Dev. = 22.3617%\n",
      "ドントバス: ROIの平均値 = -1.3673% 標準偏差 = 22.0491%\n"
     ]
    }
   ],
   "source": [
    "crapsSim(20, 10000000)"
   ]
  },
  {
   "cell_type": "markdown",
   "metadata": {},
   "source": [
    "p.219"
   ]
  },
  {
   "cell_type": "code",
   "execution_count": 13,
   "metadata": {},
   "outputs": [],
   "source": [
    "def rollDie():\n",
    "    return random.choice([1,1,2,3,3,4,4,5,5,5,6,6])"
   ]
  },
  {
   "cell_type": "code",
   "execution_count": 14,
   "metadata": {},
   "outputs": [
    {
     "name": "stdout",
     "output_type": "stream",
     "text": [
      "バス: ROIの平均値 = 6.7158% Std. Dev. = 0.0823%\n",
      "ドントバス: ROIの平均値 = -9.4857% 標準偏差 = 0.0789%\n"
     ]
    }
   ],
   "source": [
    "crapsSim(1000000,10)"
   ]
  },
  {
   "cell_type": "markdown",
   "metadata": {},
   "source": [
    "p.220"
   ]
  },
  {
   "cell_type": "code",
   "execution_count": 15,
   "metadata": {},
   "outputs": [],
   "source": [
    "def rollDie():\n",
    "    return random.choice([1,2,3,4,5,6])"
   ]
  },
  {
   "cell_type": "code",
   "execution_count": 16,
   "metadata": {},
   "outputs": [],
   "source": [
    "class CrapsGame(object):\n",
    "    def __init__(self):\n",
    "        self.passWins, self.passLosses = (0,0)\n",
    "        self.dpWins, self.dpLosses, self.dpPushes = (0,0,0)\n",
    "\n",
    "    def playHand(self):\n",
    "        #playHandの、より高速な、もう1つの実装\n",
    "        pointsDict = {4:1/3.0, 5:2/5.0, 6:5/11.0, 8:5/11.0,\n",
    "                      9:2/5.0, 10:1/3.0}\n",
    "        throw = rollDie() + rollDie()\n",
    "        if throw == 7 or throw == 11:\n",
    "            self.passWins += 1\n",
    "            self.dpLosses += 1\n",
    "        elif throw == 2 or throw == 3 or throw == 12:\n",
    "            self.passLosses += 1\n",
    "            if throw == 12:\n",
    "                self.dpPushes += 1\n",
    "            else:\n",
    "                self.dpWins += 1\n",
    "        else:\n",
    "            if random.random() <= pointsDict[throw]: #7の前にポイントが出る\n",
    "                self.passWins += 1\n",
    "                self.dpLosses += 1\n",
    "            else:                                    #ポイントの前に7が出る\n",
    "                self.passLosses += 1\n",
    "                self.dpWins += 1\n",
    "\n",
    "    def passResults(self):\n",
    "        return (self.passWins, self.passLosses)\n",
    "\n",
    "    def dpResults(self):\n",
    "        return (self.dpWins, self.dpLosses, self.dpPushes)"
   ]
  },
  {
   "cell_type": "code",
   "execution_count": 18,
   "metadata": {},
   "outputs": [
    {
     "name": "stdout",
     "output_type": "stream",
     "text": [
      "バス: ROIの平均値 = -1.457% Std. Dev. = 0.0883%\n",
      "ドントバス: ROIの平均値 = -1.3223% 標準偏差 = 0.0801%\n"
     ]
    }
   ],
   "source": [
    "crapsSim(1000000,10)"
   ]
  },
  {
   "cell_type": "markdown",
   "metadata": {},
   "source": [
    "p.223"
   ]
  },
  {
   "cell_type": "code",
   "execution_count": 19,
   "metadata": {},
   "outputs": [],
   "source": [
    "def throwNeedles(numNeedles):\n",
    "    inCircle = 0\n",
    "    for Needles in xrange(1, numNeedles + 1):\n",
    "        x = random.random()\n",
    "        y = random.random()\n",
    "        if (x*x + y*y)**0.5 <= 1.0:\n",
    "            inCircle += 1\n",
    "    #一つの象限内の針のみ数えるため、4倍する\n",
    "    return 4*(inCircle/float(numNeedles))"
   ]
  },
  {
   "cell_type": "code",
   "execution_count": 20,
   "metadata": {},
   "outputs": [],
   "source": [
    "def getEst(numNeedles, numTrials):\n",
    "    estimates = []\n",
    "    for t in range(numTrials):\n",
    "        piGuess = throwNeedles(numNeedles)\n",
    "        estimates.append(piGuess)\n",
    "    sDev = stdDev(estimates)\n",
    "    curEst = sum(estimates)/len(estimates)\n",
    "    print '評価値 = ' + str(round(curEst, 5)) +\\\n",
    "          ', 標準偏差 = ' + str(round(sDev, 5))\\\n",
    "          + ', 針の数 = ' + str(numNeedles)\n",
    "    return (curEst, sDev)"
   ]
  },
  {
   "cell_type": "code",
   "execution_count": 21,
   "metadata": {},
   "outputs": [],
   "source": [
    "def estPi(precision, numTrials):\n",
    "    numNeedles = 1000\n",
    "    sDev = precision\n",
    "    while sDev >= precision/2.0:\n",
    "        curEst, sDev = getEst(numNeedles, numTrials)\n",
    "        numNeedles *= 2\n",
    "    return curEst"
   ]
  },
  {
   "cell_type": "code",
   "execution_count": 22,
   "metadata": {},
   "outputs": [
    {
     "name": "stdout",
     "output_type": "stream",
     "text": [
      "評価値 = 3.13416, 標準偏差 = 0.05352, 針の数 = 1000\n",
      "評価値 = 3.1398, 標準偏差 = 0.03513, 針の数 = 2000\n",
      "評価値 = 3.14114, 標準偏差 = 0.02616, 針の数 = 4000\n",
      "評価値 = 3.14235, 標準偏差 = 0.01777, 針の数 = 8000\n",
      "評価値 = 3.1422, 標準偏差 = 0.01319, 針の数 = 16000\n",
      "評価値 = 3.143, 標準偏差 = 0.0088, 針の数 = 32000\n",
      "評価値 = 3.14126, 標準偏差 = 0.00733, 針の数 = 64000\n",
      "評価値 = 3.14162, 標準偏差 = 0.00495, 針の数 = 128000\n"
     ]
    },
    {
     "data": {
      "text/plain": [
       "3.141617187499998"
      ]
     },
     "execution_count": 22,
     "metadata": {},
     "output_type": "execute_result"
    }
   ],
   "source": [
    "estPi(0.01, 100)"
   ]
  },
  {
   "cell_type": "markdown",
   "metadata": {},
   "source": [
    "p.224"
   ]
  },
  {
   "cell_type": "code",
   "execution_count": 23,
   "metadata": {},
   "outputs": [],
   "source": [
    "def throwNeedles(numNeedles):\n",
    "    inCircle = 0\n",
    "    for Needles in xrange(1, numNeedles + 1):\n",
    "        x = random.random()\n",
    "        y = random.random()\n",
    "        if (x*x + y*y)**0.5 <= 1.0:\n",
    "            inCircle += 1\n",
    "    #一つの象限内の針のみ数えるため、4倍する\n",
    "    return 2*(inCircle/float(numNeedles))"
   ]
  },
  {
   "cell_type": "code",
   "execution_count": 24,
   "metadata": {},
   "outputs": [
    {
     "name": "stdout",
     "output_type": "stream",
     "text": [
      "評価値 = 1.57316, 標準偏差 = 0.02522, 針の数 = 1000\n",
      "評価値 = 1.57122, 標準偏差 = 0.01793, 針の数 = 2000\n",
      "評価値 = 1.56955, 標準偏差 = 0.01313, 針の数 = 4000\n",
      "評価値 = 1.56835, 標準偏差 = 0.00917, 針の数 = 8000\n",
      "評価値 = 1.57091, 標準偏差 = 0.00616, 針の数 = 16000\n",
      "評価値 = 1.57034, 標準偏差 = 0.00412, 針の数 = 32000\n"
     ]
    },
    {
     "data": {
      "text/plain": [
       "1.5703362499999998"
      ]
     },
     "execution_count": 24,
     "metadata": {},
     "output_type": "execute_result"
    }
   ],
   "source": [
    "estPi(0.01, 100)"
   ]
  }
 ],
 "metadata": {
  "kernelspec": {
   "display_name": "Python 2",
   "language": "python",
   "name": "python2"
  },
  "language_info": {
   "codemirror_mode": {
    "name": "ipython",
    "version": 2
   },
   "file_extension": ".py",
   "mimetype": "text/x-python",
   "name": "python",
   "nbconvert_exporter": "python",
   "pygments_lexer": "ipython2",
   "version": "2.7.15"
  }
 },
 "nbformat": 4,
 "nbformat_minor": 2
}
