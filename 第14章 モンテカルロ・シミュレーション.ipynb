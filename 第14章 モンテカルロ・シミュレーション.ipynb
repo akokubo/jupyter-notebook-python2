{
 "cells": [
  {
   "cell_type": "markdown",
   "metadata": {},
   "source": [
    "p.215"
   ]
  },
  {
   "cell_type": "code",
   "execution_count": 1,
   "metadata": {},
   "outputs": [],
   "source": [
    "import random"
   ]
  },
  {
   "cell_type": "code",
   "execution_count": 2,
   "metadata": {},
   "outputs": [],
   "source": [
    "def rollDie():\n",
    "    return random.choice([1,2,3,4,5,6])"
   ]
  },
  {
   "cell_type": "code",
   "execution_count": 3,
   "metadata": {},
   "outputs": [],
   "source": [
    "def checkPascal(numTrials):\n",
    "    \"\"\"numTrialsは1以上の整数（int）と仮定する\n",
    "       勝利する確率の評価値を表示する\"\"\"\n",
    "    numWins = 0.0\n",
    "    for i in range(numTrials):\n",
    "        for j in range(24):\n",
    "            d1 = rollDie()\n",
    "            d2 = rollDie()\n",
    "            if d1 == 6 and d2 == 6:\n",
    "                numWins += 1\n",
    "                break\n",
    "    print '勝利する確率 =', numWins/numTrials"
   ]
  },
  {
   "cell_type": "code",
   "execution_count": 4,
   "metadata": {},
   "outputs": [
    {
     "name": "stdout",
     "output_type": "stream",
     "text": [
      "勝利する確率 = 0.492202\n",
      "CPU times: user 35.7 s, sys: 384 ms, total: 36.1 s\n",
      "Wall time: 36 s\n"
     ]
    }
   ],
   "source": [
    "%time checkPascal(1000000)"
   ]
  },
  {
   "cell_type": "markdown",
   "metadata": {},
   "source": [
    "p.216"
   ]
  },
  {
   "cell_type": "code",
   "execution_count": 5,
   "metadata": {},
   "outputs": [],
   "source": [
    "class CrapsGame(object):\n",
    "    def __init__(self):\n",
    "        self.passWins, self.passLosses = (0,0)\n",
    "        self.dpWins, self.dpLosses, self.dpPushes = (0,0,0)\n",
    "\n",
    "    def playHand(self):\n",
    "        throw = rollDie() + rollDie()\n",
    "        if throw == 7 or throw == 11:\n",
    "            self.passWins += 1\n",
    "            self.dpLosses += 1\n",
    "        elif throw == 2 or throw == 3 or throw == 12:\n",
    "            self.passLosses += 1\n",
    "            if throw == 12:\n",
    "                self.dpPushes += 1\n",
    "            else:\n",
    "                self.dpWins += 1\n",
    "        else:\n",
    "            point = throw\n",
    "            while True:\n",
    "                throw = rollDie() + rollDie()\n",
    "                if throw == point:\n",
    "                    self.passWins += 1\n",
    "                    self.dpLosses += 1\n",
    "                    break\n",
    "                elif throw == 7:\n",
    "                    self.passLosses += 1\n",
    "                    self.dpWins += 1\n",
    "                    break\n",
    "\n",
    "    def passResults(self):\n",
    "        return (self.passWins, self.passLosses)\n",
    "\n",
    "    def dpResults(self):\n",
    "        return (self.dpWins, self.dpLosses, self.dpPushes)"
   ]
  },
  {
   "cell_type": "markdown",
   "metadata": {},
   "source": [
    "p.217"
   ]
  },
  {
   "cell_type": "code",
   "execution_count": 6,
   "metadata": {},
   "outputs": [],
   "source": [
    "def variance(X):\n",
    "    \"\"\"Xを数のリストとする\n",
    "       Xの分散を返す\"\"\"\n",
    "    mean = sum(X) / len(X)\n",
    "    tot = 0.0\n",
    "    for x in X:\n",
    "        tot += (x - mean) ** 2\n",
    "    return tot / len(X)"
   ]
  },
  {
   "cell_type": "code",
   "execution_count": 7,
   "metadata": {},
   "outputs": [],
   "source": [
    "def stdDev(X):\n",
    "    \"\"\"Xを数のリストとする\n",
    "       Xの標準偏差を返す\"\"\"\n",
    "    return variance(X) ** 0.5"
   ]
  },
  {
   "cell_type": "code",
   "execution_count": 8,
   "metadata": {},
   "outputs": [],
   "source": [
    "def crapsSim(handsPerGame, numGames):\n",
    "    \"\"\"handsPerGameとnumGamesは1以上の整数（int）と仮定する\n",
    "       handsPerGameの手から成るゲームをnumGames回プレイし、\n",
    "       その結果を表示する\"\"\"\n",
    "    games = []\n",
    "\n",
    "    #ゲームをnumGames回プレイする\n",
    "    for t in xrange(numGames):\n",
    "        c = CrapsGame()\n",
    "        for i in xrange(handsPerGame):\n",
    "            c.playHand()\n",
    "        games.append(c)\n",
    "        \n",
    "    #各ゲームの統計値を求める\n",
    "    pROIPerGame, dpROIPerGame = [], []\n",
    "    for g in games:\n",
    "        wins, losses = g.passResults()\n",
    "        pROIPerGame.append((wins - losses)/float(handsPerGame))\n",
    "        wins, losses, pushes = g.dpResults()\n",
    "        dpROIPerGame.append((wins - losses)/float(handsPerGame))\n",
    "        \n",
    "    #統計値の概要を求めて表示する\n",
    "    meanROI = str(round((100.0*sum(pROIPerGame)/numGames), 4)) + '%'\n",
    "    sigma = str(round(100.0*stdDev(pROIPerGame), 4)) + '%'\n",
    "    print 'バス:', 'ROIの平均値 =', meanROI, 'Std. Dev. =', sigma\n",
    "    meanROI = str(round((100.0*sum(dpROIPerGame)/numGames), 4)) + '%'\n",
    "    sigma = str(round(100.0*stdDev(dpROIPerGame), 4)) + '%'\n",
    "    print 'ドントバス:', 'ROIの平均値 =', meanROI, '標準偏差 =', sigma"
   ]
  },
  {
   "cell_type": "code",
   "execution_count": 9,
   "metadata": {},
   "outputs": [
    {
     "name": "stdout",
     "output_type": "stream",
     "text": [
      "バス: ROIの平均値 = -11.0% Std. Dev. = 18.1384%\n",
      "ドントバス: ROIの平均値 = 8.5% 標準偏差 = 18.1728%\n",
      "CPU times: user 3.86 ms, sys: 1.89 ms, total: 5.75 ms\n",
      "Wall time: 4.08 ms\n"
     ]
    }
   ],
   "source": [
    "%time crapsSim(20, 10)"
   ]
  },
  {
   "cell_type": "code",
   "execution_count": 10,
   "metadata": {},
   "outputs": [
    {
     "name": "stdout",
     "output_type": "stream",
     "text": [
      "バス: ROIの平均値 = -1.4858% Std. Dev. = 0.1289%\n",
      "ドントバス: ROIの平均値 = -1.2918% 標準偏差 = 0.124%\n",
      "CPU times: user 1min 16s, sys: 853 ms, total: 1min 17s\n",
      "Wall time: 1min 16s\n"
     ]
    }
   ],
   "source": [
    "%time crapsSim(1000000,10)"
   ]
  },
  {
   "cell_type": "code",
   "execution_count": 11,
   "metadata": {},
   "outputs": [
    {
     "name": "stdout",
     "output_type": "stream",
     "text": [
      "バス: ROIの平均値 = -1.4104% Std. Dev. = 22.3593%\n",
      "ドントバス: ROIの平均値 = -1.3662% 標準偏差 = 22.0464%\n",
      "CPU times: user 25min 28s, sys: 19.2 s, total: 25min 47s\n",
      "Wall time: 25min 43s\n"
     ]
    }
   ],
   "source": [
    "%time crapsSim(20, 10000000)"
   ]
  },
  {
   "cell_type": "markdown",
   "metadata": {},
   "source": [
    "p.219"
   ]
  },
  {
   "cell_type": "code",
   "execution_count": 12,
   "metadata": {},
   "outputs": [],
   "source": [
    "def rollDie():\n",
    "    return random.choice([1,1,2,3,3,4,4,5,5,5,6,6])"
   ]
  },
  {
   "cell_type": "code",
   "execution_count": 13,
   "metadata": {},
   "outputs": [
    {
     "name": "stdout",
     "output_type": "stream",
     "text": [
      "バス: ROIの平均値 = 6.7295% Std. Dev. = 0.111%\n",
      "ドントバス: ROIの平均値 = -9.5069% 標準偏差 = 0.1077%\n",
      "CPU times: user 1min 28s, sys: 1.2 s, total: 1min 29s\n",
      "Wall time: 1min 29s\n"
     ]
    }
   ],
   "source": [
    "%time crapsSim(1000000,10)"
   ]
  },
  {
   "cell_type": "markdown",
   "metadata": {},
   "source": [
    "p.220"
   ]
  },
  {
   "cell_type": "code",
   "execution_count": 14,
   "metadata": {},
   "outputs": [],
   "source": [
    "def rollDie():\n",
    "    return random.choice([1,2,3,4,5,6])"
   ]
  },
  {
   "cell_type": "code",
   "execution_count": 15,
   "metadata": {},
   "outputs": [],
   "source": [
    "class CrapsGame(object):\n",
    "    def __init__(self):\n",
    "        self.passWins, self.passLosses = (0,0)\n",
    "        self.dpWins, self.dpLosses, self.dpPushes = (0,0,0)\n",
    "\n",
    "    def playHand(self):\n",
    "        #playHandの、より高速な、もう1つの実装\n",
    "        pointsDict = {4:1/3.0, 5:2/5.0, 6:5/11.0, 8:5/11.0,\n",
    "                      9:2/5.0, 10:1/3.0}\n",
    "        throw = rollDie() + rollDie()\n",
    "        if throw == 7 or throw == 11:\n",
    "            self.passWins += 1\n",
    "            self.dpLosses += 1\n",
    "        elif throw == 2 or throw == 3 or throw == 12:\n",
    "            self.passLosses += 1\n",
    "            if throw == 12:\n",
    "                self.dpPushes += 1\n",
    "            else:\n",
    "                self.dpWins += 1\n",
    "        else:\n",
    "            point = throw\n",
    "            while True:\n",
    "                throw = rollDie() + rollDie()\n",
    "                if throw == point:\n",
    "                    self.passWins += 1\n",
    "                    self.dpLosses += 1\n",
    "                    break\n",
    "                elif throw == 7:\n",
    "                    self.passLosses += 1\n",
    "                    self.dpWins += 1\n",
    "                    break\n",
    "\n",
    "    def passResults(self):\n",
    "        return (self.passWins, self.passLosses)\n",
    "\n",
    "    def dpResults(self):\n",
    "        return (self.dpWins, self.dpLosses, self.dpPushes)"
   ]
  },
  {
   "cell_type": "code",
   "execution_count": 16,
   "metadata": {},
   "outputs": [
    {
     "name": "stdout",
     "output_type": "stream",
     "text": [
      "バス: ROIの平均値 = -1.375% Std. Dev. = 0.0476%\n",
      "ドントバス: ROIの平均値 = -1.3891% 標準偏差 = 0.0518%\n",
      "CPU times: user 1min 25s, sys: 1.13 s, total: 1min 26s\n",
      "Wall time: 1min 26s\n"
     ]
    }
   ],
   "source": [
    "%time crapsSim(1000000,10)"
   ]
  },
  {
   "cell_type": "markdown",
   "metadata": {},
   "source": [
    "p.223"
   ]
  },
  {
   "cell_type": "code",
   "execution_count": 17,
   "metadata": {},
   "outputs": [],
   "source": [
    "def throwNeedles(numNeedles):\n",
    "    inCircle = 0\n",
    "    for Needles in xrange(1, numNeedles + 1):\n",
    "        x = random.random()\n",
    "        y = random.random()\n",
    "        if (x*x + y*y)**0.5 <= 1.0:\n",
    "            inCircle += 1\n",
    "    #一つの象限内の針のみ数えるため、4倍する\n",
    "    return 4*(inCircle/float(numNeedles))"
   ]
  },
  {
   "cell_type": "code",
   "execution_count": 18,
   "metadata": {},
   "outputs": [],
   "source": [
    "def getEst(numNeedles, numTrials):\n",
    "    estimates = []\n",
    "    for t in range(numTrials):\n",
    "        piGuess = throwNeedles(numNeedles)\n",
    "        estimates.append(piGuess)\n",
    "    sDev = stdDev(estimates)\n",
    "    curEst = sum(estimates)/len(estimates)\n",
    "    print '評価値 = ' + str(round(curEst, 5)) + '、標準偏差 = ' + str(round(sDev, 5)) + '、針の数 = ' + str(numNeedles)\n",
    "    return (curEst, sDev)"
   ]
  },
  {
   "cell_type": "code",
   "execution_count": 19,
   "metadata": {},
   "outputs": [],
   "source": [
    "def estPi(precision, numTrials):\n",
    "    numNeedles = 1000\n",
    "    sDev = precision\n",
    "    while sDev >= precision/2.0:\n",
    "        curEst, sDev = getEst(numNeedles, numTrials)\n",
    "        numNeedles *= 2\n",
    "    return curEst"
   ]
  },
  {
   "cell_type": "code",
   "execution_count": 20,
   "metadata": {},
   "outputs": [
    {
     "name": "stdout",
     "output_type": "stream",
     "text": [
      "評価値 = 3.14184、標準偏差 = 0.05207、針の数 = 1000\n",
      "評価値 = 3.13882、標準偏差 = 0.03265、針の数 = 2000\n",
      "評価値 = 3.14235、標準偏差 = 0.02691、針の数 = 4000\n",
      "評価値 = 3.1444、標準偏差 = 0.01587、針の数 = 8000\n",
      "評価値 = 3.14298、標準偏差 = 0.01275、針の数 = 16000\n",
      "評価値 = 3.14097、標準偏差 = 0.01016、針の数 = 32000\n",
      "評価値 = 3.14145、標準偏差 = 0.00649、針の数 = 64000\n",
      "評価値 = 3.14183、標準偏差 = 0.00428、針の数 = 128000\n"
     ]
    },
    {
     "data": {
      "text/plain": [
       "3.1418278125"
      ]
     },
     "execution_count": 20,
     "metadata": {},
     "output_type": "execute_result"
    }
   ],
   "source": [
    "estPi(0.01, 100)"
   ]
  },
  {
   "cell_type": "markdown",
   "metadata": {},
   "source": [
    "p.224"
   ]
  },
  {
   "cell_type": "code",
   "execution_count": 21,
   "metadata": {},
   "outputs": [],
   "source": [
    "def throwNeedles(numNeedles):\n",
    "    inCircle = 0\n",
    "    for Needles in xrange(1, numNeedles + 1):\n",
    "        x = random.random()\n",
    "        y = random.random()\n",
    "        if (x*x + y*y)**0.5 <= 1.0:\n",
    "            inCircle += 1\n",
    "    return 2*(inCircle/float(numNeedles))"
   ]
  },
  {
   "cell_type": "code",
   "execution_count": 22,
   "metadata": {},
   "outputs": [
    {
     "name": "stdout",
     "output_type": "stream",
     "text": [
      "評価値 = 1.56814、標準偏差 = 0.02489、針の数 = 1000\n",
      "評価値 = 1.57052、標準偏差 = 0.01629、針の数 = 2000\n",
      "評価値 = 1.57039、標準偏差 = 0.0125、針の数 = 4000\n",
      "評価値 = 1.57089、標準偏差 = 0.00963、針の数 = 8000\n",
      "評価値 = 1.57164、標準偏差 = 0.00646、針の数 = 16000\n",
      "評価値 = 1.57048、標準偏差 = 0.00457、針の数 = 32000\n"
     ]
    },
    {
     "data": {
      "text/plain": [
       "1.5704812499999996"
      ]
     },
     "execution_count": 22,
     "metadata": {},
     "output_type": "execute_result"
    }
   ],
   "source": [
    "estPi(0.01, 100)"
   ]
  }
 ],
 "metadata": {
  "kernelspec": {
   "display_name": "Python 2",
   "language": "python",
   "name": "python2"
  },
  "language_info": {
   "codemirror_mode": {
    "name": "ipython",
    "version": 2
   },
   "file_extension": ".py",
   "mimetype": "text/x-python",
   "name": "python",
   "nbconvert_exporter": "python",
   "pygments_lexer": "ipython2",
   "version": "2.7.15"
  }
 },
 "nbformat": 4,
 "nbformat_minor": 2
}
